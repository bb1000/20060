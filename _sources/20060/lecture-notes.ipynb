{
 "cells": [
  {
   "cell_type": "markdown",
   "id": "7860ece8-eed3-4c91-b8c8-49f2e13cb9c1",
   "metadata": {},
   "source": [
    "# Lecture notes vt2024\n",
    "\n",
    "## Installation\n",
    "\n",
    "* Go to the download page https://docs.conda.io/en/latest/miniconda.html and download the installer from your platform\n",
    "\n",
    "### Mac\n",
    "\n",
    "* The pkg installer for your processor (Intel/Arm) is easiest to handle\n",
    "* It installs to /opt/miniconda3 and adds information to your shell startup-file .zshrc\n",
    "* When you start a terminal the next time there will be a \"(base)\" in the prompt.\n",
    "\n",
    "### Windows\n",
    "\n",
    "* Run the *.exe file to install.\n",
    "* Use recommended settings\n",
    "* There will be a command-line application in addition to standard Windows CMD which is initialized for Conda "
   ]
  },
  {
   "cell_type": "markdown",
   "id": "493d9d85-95dd-419b-9910-a8d930f4c9fc",
   "metadata": {},
   "source": [
    "## Notebooks"
   ]
  },
  {
   "cell_type": "markdown",
   "id": "6e50fef6-d83a-4e14-ad9f-fd13ac9ddfe2",
   "metadata": {},
   "source": [
    "* code cells\n",
    "* text cells"
   ]
  },
  {
   "cell_type": "code",
   "execution_count": 1,
   "id": "8c31d333-c46f-4181-bc73-6c30d49d2a29",
   "metadata": {},
   "outputs": [
    {
     "data": {
      "text/plain": [
       "72"
      ]
     },
     "execution_count": 1,
     "metadata": {},
     "output_type": "execute_result"
    }
   ],
   "source": [
    "8*9"
   ]
  },
  {
   "cell_type": "markdown",
   "id": "e69fd035-844e-4fef-b805-28686b6cc432",
   "metadata": {},
   "source": [
    "Text cells understand markdown syntax for easy formatting. Example code with header and subheader\n",
    "\n",
    "    # Header\n",
    "    ## Subheader\n",
    "    \n",
    "    Example of math typesettings with Latex\n",
    "    \n",
    "    $$ f(x) = a e^{-x^2} $$\n",
    "\n",
    "![alt](header.png)"
   ]
  },
  {
   "cell_type": "markdown",
   "id": "cec86023-2d6d-4b3c-8000-f1c72dc189c1",
   "metadata": {},
   "source": [
    "## Basic datatypes\n",
    "### Numerical"
   ]
  },
  {
   "cell_type": "code",
   "execution_count": 2,
   "id": "514b1a95-06e1-475b-8364-5de547b3fe01",
   "metadata": {},
   "outputs": [
    {
     "data": {
      "text/plain": [
       "0.8888888888888888"
      ]
     },
     "execution_count": 2,
     "metadata": {},
     "output_type": "execute_result"
    }
   ],
   "source": [
    "8/9\n"
   ]
  },
  {
   "cell_type": "code",
   "execution_count": 3,
   "id": "81edae46-9b47-46bc-b7b6-1c063dff757d",
   "metadata": {},
   "outputs": [
    {
     "name": "stdout",
     "output_type": "stream",
     "text": [
      "72\n"
     ]
    }
   ],
   "source": [
    "x = 8\n",
    "y = 9\n",
    "z = x * y\n",
    "print(z)"
   ]
  },
  {
   "cell_type": "code",
   "execution_count": 4,
   "id": "9e136014-11f4-402c-b9cd-07b05e091c49",
   "metadata": {},
   "outputs": [
    {
     "data": {
      "text/plain": [
       "int"
      ]
     },
     "execution_count": 4,
     "metadata": {},
     "output_type": "execute_result"
    }
   ],
   "source": [
    "type(z)"
   ]
  },
  {
   "cell_type": "code",
   "execution_count": 5,
   "id": "57b78da6-44b3-4bfb-a42f-460f8ba921da",
   "metadata": {},
   "outputs": [
    {
     "name": "stdout",
     "output_type": "stream",
     "text": [
      "0.8888888888888888\n"
     ]
    }
   ],
   "source": [
    "z = x / y\n",
    "print(z)"
   ]
  },
  {
   "cell_type": "code",
   "execution_count": 6,
   "id": "d65b3b8c-8159-4d46-afb9-cf805f3ccd77",
   "metadata": {},
   "outputs": [
    {
     "data": {
      "text/plain": [
       "float"
      ]
     },
     "execution_count": 6,
     "metadata": {},
     "output_type": "execute_result"
    }
   ],
   "source": [
    "type(z)"
   ]
  },
  {
   "cell_type": "code",
   "execution_count": 7,
   "id": "1ea66980-16d0-4575-93d9-dbc920e7f698",
   "metadata": {},
   "outputs": [
    {
     "data": {
      "text/plain": [
       "float"
      ]
     },
     "execution_count": 7,
     "metadata": {},
     "output_type": "execute_result"
    }
   ],
   "source": [
    "type(4/2)"
   ]
  },
  {
   "cell_type": "code",
   "execution_count": 8,
   "id": "edb42bcc-1a09-4cce-8884-4a36d0c9227b",
   "metadata": {},
   "outputs": [
    {
     "data": {
      "text/plain": [
       "int"
      ]
     },
     "execution_count": 8,
     "metadata": {},
     "output_type": "execute_result"
    }
   ],
   "source": [
    "type(4//2)"
   ]
  },
  {
   "cell_type": "markdown",
   "id": "8d498e1f-6672-4f8a-9de6-2c70e889ff9d",
   "metadata": {},
   "source": [
    "Modulus example> is a number even or odd?\n"
   ]
  },
  {
   "cell_type": "code",
   "execution_count": 9,
   "id": "f644be02-f55a-43ee-83ca-605cb532c2c9",
   "metadata": {},
   "outputs": [
    {
     "data": {
      "text/plain": [
       "False"
      ]
     },
     "execution_count": 9,
     "metadata": {},
     "output_type": "execute_result"
    }
   ],
   "source": [
    "7 % 2 == 0"
   ]
  },
  {
   "cell_type": "code",
   "execution_count": 10,
   "id": "0be345d2-df21-4bb1-b020-6c959cb8c3e1",
   "metadata": {},
   "outputs": [
    {
     "data": {
      "text/plain": [
       "True"
      ]
     },
     "execution_count": 10,
     "metadata": {},
     "output_type": "execute_result"
    }
   ],
   "source": [
    "8 % 2 == 0"
   ]
  },
  {
   "cell_type": "markdown",
   "id": "bffe409a-28b5-4929-8249-121ed575bd80",
   "metadata": {},
   "source": [
    "Complex"
   ]
  },
  {
   "cell_type": "code",
   "execution_count": 11,
   "id": "b252af86-8889-44c0-97e2-38b4237ad786",
   "metadata": {},
   "outputs": [
    {
     "data": {
      "text/plain": [
       "complex"
      ]
     },
     "execution_count": 11,
     "metadata": {},
     "output_type": "execute_result"
    }
   ],
   "source": [
    "type(1j)"
   ]
  },
  {
   "cell_type": "code",
   "execution_count": 12,
   "id": "2f7c4d2f-658d-46f1-9d16-82d0ddfbff6c",
   "metadata": {},
   "outputs": [
    {
     "data": {
      "text/plain": [
       "(-1+0j)"
      ]
     },
     "execution_count": 12,
     "metadata": {},
     "output_type": "execute_result"
    }
   ],
   "source": [
    "1j * 1j"
   ]
  },
  {
   "cell_type": "code",
   "execution_count": 13,
   "id": "52cbb159-dd06-4939-9f18-4576d436832d",
   "metadata": {},
   "outputs": [
    {
     "data": {
      "text/plain": [
       "2"
      ]
     },
     "execution_count": 13,
     "metadata": {},
     "output_type": "execute_result"
    }
   ],
   "source": [
    "True + True"
   ]
  },
  {
   "cell_type": "markdown",
   "id": "aec691f2-405f-4de5-8484-1f83b7310483",
   "metadata": {},
   "source": [
    "### Strings"
   ]
  },
  {
   "cell_type": "code",
   "execution_count": 14,
   "id": "b4e96e75-042d-48b7-8a70-71e326f7e003",
   "metadata": {},
   "outputs": [
    {
     "data": {
      "text/plain": [
       "'Hello'"
      ]
     },
     "execution_count": 14,
     "metadata": {},
     "output_type": "execute_result"
    }
   ],
   "source": [
    "\"Hello\""
   ]
  },
  {
   "cell_type": "code",
   "execution_count": 15,
   "id": "82cc3b24-edcb-492b-8036-299e8ebf5f3a",
   "metadata": {},
   "outputs": [
    {
     "data": {
      "text/plain": [
       "'Hello'"
      ]
     },
     "execution_count": 15,
     "metadata": {},
     "output_type": "execute_result"
    }
   ],
   "source": [
    "'Hello'"
   ]
  },
  {
   "cell_type": "code",
   "execution_count": 16,
   "id": "1d4ed2b3-cd86-46b4-bfa2-0af2bbf5193c",
   "metadata": {},
   "outputs": [
    {
     "data": {
      "text/plain": [
       "True"
      ]
     },
     "execution_count": 16,
     "metadata": {},
     "output_type": "execute_result"
    }
   ],
   "source": [
    "'Hello' == \"Hello\""
   ]
  },
  {
   "cell_type": "markdown",
   "id": "124eb305-6d69-457e-b0e9-7c62ee7f958c",
   "metadata": {},
   "source": [
    "When the apostrophes are not balanced we get a syntax error\n",
    "\n",
    "    'It's time'\n",
    "      Cell In[22], line 1\n",
    "        'It's time'\n",
    "                  ^\n",
    "    SyntaxError: unterminated string literal (detected at line 1)\n",
    "\n",
    "    "
   ]
  },
  {
   "cell_type": "code",
   "execution_count": 17,
   "id": "65a23042-1e6a-48cb-b9b2-0807ef038bc3",
   "metadata": {},
   "outputs": [],
   "source": [
    "# 'It's time'"
   ]
  },
  {
   "cell_type": "code",
   "execution_count": 18,
   "id": "bc2f3d6a-650b-4c49-924e-850f8d5272b9",
   "metadata": {},
   "outputs": [
    {
     "data": {
      "text/plain": [
       "\"It's time\""
      ]
     },
     "execution_count": 18,
     "metadata": {},
     "output_type": "execute_result"
    }
   ],
   "source": [
    "'It\\'s time'  # escaping a character with backslash"
   ]
  },
  {
   "cell_type": "code",
   "execution_count": 19,
   "id": "75628375-0f49-463e-aae5-55bcd7c98252",
   "metadata": {},
   "outputs": [
    {
     "data": {
      "text/plain": [
       "\"It's time\""
      ]
     },
     "execution_count": 19,
     "metadata": {},
     "output_type": "execute_result"
    }
   ],
   "source": [
    "\"It's time\""
   ]
  },
  {
   "cell_type": "markdown",
   "id": "9c290e61-c8bc-47a1-b8c6-b2763622bb57",
   "metadata": {},
   "source": [
    "Strings normally have to fit on one line"
   ]
  },
  {
   "cell_type": "code",
   "execution_count": 20,
   "id": "0805daec-ff2a-4e15-831c-ea2391ef06d1",
   "metadata": {},
   "outputs": [
    {
     "ename": "SyntaxError",
     "evalue": "unterminated string literal (detected at line 1) (2076887922.py, line 1)",
     "output_type": "error",
     "traceback": [
      "\u001b[0;36m  Cell \u001b[0;32mIn[20], line 1\u001b[0;36m\u001b[0m\n\u001b[0;31m    \"Hello\u001b[0m\n\u001b[0m    ^\u001b[0m\n\u001b[0;31mSyntaxError\u001b[0m\u001b[0;31m:\u001b[0m unterminated string literal (detected at line 1)\n"
     ]
    }
   ],
   "source": [
    "\"Hello\n",
    "world\""
   ]
  },
  {
   "cell_type": "markdown",
   "id": "1e03f45e-9dda-4856-9aa5-0e193d4ae137",
   "metadata": {},
   "source": [
    "but multi-liinle strings can be defined with triple quotations, which will include the linebreak in the form of a newline character `\\n`"
   ]
  },
  {
   "cell_type": "code",
   "execution_count": 21,
   "id": "5ab6b8b7-f650-4673-847c-be4a4611addf",
   "metadata": {},
   "outputs": [
    {
     "data": {
      "text/plain": [
       "'Hello\\nworld'"
      ]
     },
     "execution_count": 21,
     "metadata": {},
     "output_type": "execute_result"
    }
   ],
   "source": [
    "\"\"\"Hello\n",
    "world\"\"\""
   ]
  },
  {
   "cell_type": "code",
   "execution_count": 22,
   "id": "3169d3c7-4bbf-439c-afd8-b23444fb45ea",
   "metadata": {},
   "outputs": [
    {
     "name": "stdout",
     "output_type": "stream",
     "text": [
      "Hello\n",
      "world\n"
     ]
    }
   ],
   "source": [
    "print('Hello\\nworld')"
   ]
  },
  {
   "cell_type": "code",
   "execution_count": 23,
   "id": "c80ba89f-299a-4bc0-8b72-00c78d3e14c1",
   "metadata": {},
   "outputs": [
    {
     "data": {
      "text/plain": [
       "'hellohello'"
      ]
     },
     "execution_count": 23,
     "metadata": {},
     "output_type": "execute_result"
    }
   ],
   "source": [
    "\"hello\" + \"hello\""
   ]
  },
  {
   "cell_type": "code",
   "execution_count": 24,
   "id": "bb84b3cd-1cb9-472e-aecd-b19bf5e67d43",
   "metadata": {},
   "outputs": [
    {
     "data": {
      "text/plain": [
       "'hellohellohello'"
      ]
     },
     "execution_count": 24,
     "metadata": {},
     "output_type": "execute_result"
    }
   ],
   "source": [
    "\"hello\" + \"hello\" + \"hello\""
   ]
  },
  {
   "cell_type": "code",
   "execution_count": 25,
   "id": "e1c96956-033a-45d7-be21-466543fa3b1a",
   "metadata": {},
   "outputs": [
    {
     "data": {
      "text/plain": [
       "'hellohellohello'"
      ]
     },
     "execution_count": 25,
     "metadata": {},
     "output_type": "execute_result"
    }
   ],
   "source": [
    "\"hello\" * 3"
   ]
  },
  {
   "cell_type": "markdown",
   "id": "bf7bbf37-9d74-4081-9595-80cb53be5718",
   "metadata": {},
   "source": [
    "## Assert\n",
    "\n",
    "assert verifies if something is True. The program will continue in that case, otherwise stop"
   ]
  },
  {
   "cell_type": "code",
   "execution_count": 26,
   "id": "dd5ff7dc-abc8-468c-a558-ca55e12ea60b",
   "metadata": {},
   "outputs": [],
   "source": [
    "assert True"
   ]
  },
  {
   "cell_type": "code",
   "execution_count": 27,
   "id": "18f03e91-606c-4900-b251-7ff5af266294",
   "metadata": {},
   "outputs": [
    {
     "ename": "AssertionError",
     "evalue": "",
     "output_type": "error",
     "traceback": [
      "\u001b[0;31m---------------------------------------------------------------------------\u001b[0m",
      "\u001b[0;31mAssertionError\u001b[0m                            Traceback (most recent call last)",
      "Cell \u001b[0;32mIn[27], line 1\u001b[0m\n\u001b[0;32m----> 1\u001b[0m \u001b[38;5;28;01massert\u001b[39;00m \u001b[38;5;28;01mFalse\u001b[39;00m\n",
      "\u001b[0;31mAssertionError\u001b[0m: "
     ]
    }
   ],
   "source": [
    "assert False"
   ]
  },
  {
   "cell_type": "code",
   "execution_count": 34,
   "id": "bb607179-dd0b-4eec-8d48-760fc8bf60cc",
   "metadata": {},
   "outputs": [
    {
     "ename": "AssertionError",
     "evalue": "Something went wrong",
     "output_type": "error",
     "traceback": [
      "\u001b[0;31m---------------------------------------------------------------------------\u001b[0m",
      "\u001b[0;31mAssertionError\u001b[0m                            Traceback (most recent call last)",
      "Cell \u001b[0;32mIn[34], line 1\u001b[0m\n\u001b[0;32m----> 1\u001b[0m \u001b[38;5;28;01massert\u001b[39;00m \u001b[38;5;28;01mFalse\u001b[39;00m, \u001b[38;5;124m\"\u001b[39m\u001b[38;5;124mSomething went wrong\u001b[39m\u001b[38;5;124m\"\u001b[39m\n",
      "\u001b[0;31mAssertionError\u001b[0m: Something went wrong"
     ]
    }
   ],
   "source": [
    "assert False, \"Something went wrong\""
   ]
  },
  {
   "cell_type": "code",
   "execution_count": 35,
   "id": "6ce176ff-1148-4a70-a3c4-ca6a371ae92f",
   "metadata": {},
   "outputs": [
    {
     "ename": "AssertionError",
     "evalue": "",
     "output_type": "error",
     "traceback": [
      "\u001b[0;31m---------------------------------------------------------------------------\u001b[0m",
      "\u001b[0;31mAssertionError\u001b[0m                            Traceback (most recent call last)",
      "Cell \u001b[0;32mIn[35], line 3\u001b[0m\n\u001b[1;32m      1\u001b[0m calculated \u001b[38;5;241m=\u001b[39m \u001b[38;5;241m1\u001b[39m\n\u001b[1;32m      2\u001b[0m expected \u001b[38;5;241m=\u001b[39m \u001b[38;5;241m2\u001b[39m\n\u001b[0;32m----> 3\u001b[0m \u001b[38;5;28;01massert\u001b[39;00m calculated \u001b[38;5;241m==\u001b[39m expected\n",
      "\u001b[0;31mAssertionError\u001b[0m: "
     ]
    }
   ],
   "source": [
    "calculated = 1\n",
    "expected = 2\n",
    "assert calculated == expected"
   ]
  },
  {
   "cell_type": "code",
   "execution_count": null,
   "id": "2553415c-5dce-42a1-8f3b-7382521c6901",
   "metadata": {},
   "outputs": [],
   "source": [
    "values = [2, 3, 4, 5, 6, 7, 8, 9, 10, 'knight', 'queen', 'king', 'ace']"
   ]
  },
  {
   "cell_type": "code",
   "execution_count": null,
   "id": "11b83abb-ae4a-49f9-b147-d6df1724697e",
   "metadata": {},
   "outputs": [],
   "source": [
    "values[0] * 2"
   ]
  },
  {
   "cell_type": "code",
   "execution_count": 36,
   "id": "c0443548-b26d-463f-8d2e-c19fccc60af9",
   "metadata": {},
   "outputs": [
    {
     "ename": "NameError",
     "evalue": "name 'values' is not defined",
     "output_type": "error",
     "traceback": [
      "\u001b[0;31m---------------------------------------------------------------------------\u001b[0m",
      "\u001b[0;31mNameError\u001b[0m                                 Traceback (most recent call last)",
      "Cell \u001b[0;32mIn[36], line 1\u001b[0m\n\u001b[0;32m----> 1\u001b[0m \u001b[43mvalues\u001b[49m[\u001b[38;5;241m-\u001b[39m\u001b[38;5;241m1\u001b[39m] \u001b[38;5;241m*\u001b[39m \u001b[38;5;241m2\u001b[39m\n",
      "\u001b[0;31mNameError\u001b[0m: name 'values' is not defined"
     ]
    }
   ],
   "source": [
    "values[-1] * 2"
   ]
  },
  {
   "cell_type": "code",
   "execution_count": null,
   "id": "3e3cddd4-380f-4566-9fdb-15faccabb186",
   "metadata": {},
   "outputs": [],
   "source": [
    "type(values)"
   ]
  },
  {
   "cell_type": "code",
   "execution_count": null,
   "id": "61e0c774-537f-4466-b16f-33b836a94858",
   "metadata": {},
   "outputs": [],
   "source": [
    "type( (1, 2) )"
   ]
  },
  {
   "cell_type": "markdown",
   "id": "d3aae06b-38ad-4b4e-8760-99e91f9553e4",
   "metadata": {},
   "source": [
    "## Functions"
   ]
  },
  {
   "cell_type": "code",
   "execution_count": null,
   "id": "067fcd27-1118-4cf6-b963-30fa13c07897",
   "metadata": {},
   "outputs": [],
   "source": [
    "# example print\n",
    "result = print(\"Hello\")"
   ]
  },
  {
   "cell_type": "code",
   "execution_count": 37,
   "id": "75c0de79-75da-49a8-af4a-0751cfb634d9",
   "metadata": {},
   "outputs": [
    {
     "ename": "NameError",
     "evalue": "name 'result' is not defined",
     "output_type": "error",
     "traceback": [
      "\u001b[0;31m---------------------------------------------------------------------------\u001b[0m",
      "\u001b[0;31mNameError\u001b[0m                                 Traceback (most recent call last)",
      "Cell \u001b[0;32mIn[37], line 1\u001b[0m\n\u001b[0;32m----> 1\u001b[0m \u001b[38;5;28mprint\u001b[39m(\u001b[43mresult\u001b[49m) \u001b[38;5;66;03m# print does not produce any output, returns \"nothing\", the Python object None has the meaning of nothing\u001b[39;00m\n",
      "\u001b[0;31mNameError\u001b[0m: name 'result' is not defined"
     ]
    }
   ],
   "source": [
    "print(result) # print does not produce any output, returns \"nothing\", the Python object None has the meaning of nothing"
   ]
  },
  {
   "cell_type": "code",
   "execution_count": null,
   "id": "2161f33f-0ed0-4efd-bc2f-41f7065e558d",
   "metadata": {},
   "outputs": [],
   "source": [
    "def square(x):\n",
    "    \"\"\"\n",
    "    Function that calculates the square of a number\n",
    "\n",
    "    >>> square(3)\n",
    "    9\n",
    "    \n",
    "    \"\"\"\n",
    "    print('x = ',x)\n",
    "    x2 = x * x\n",
    "    print('x2 = ', x2)\n",
    "    return x2\n",
    "\n",
    "result = square(3)\n",
    "print('result', result)"
   ]
  },
  {
   "cell_type": "code",
   "execution_count": null,
   "id": "2b19094b-b2d7-40ba-b8d8-5e8b552b1c7a",
   "metadata": {},
   "outputs": [],
   "source": [
    "print(x2) # x2 only valid inside function"
   ]
  },
  {
   "cell_type": "code",
   "execution_count": null,
   "id": "5f8c7045-50e6-4388-9cc2-f68f38fd84ed",
   "metadata": {},
   "outputs": [],
   "source": [
    "help(square)"
   ]
  },
  {
   "cell_type": "code",
   "execution_count": 38,
   "id": "bc8ca4ee-3520-4f6a-a6a6-616b36e63cb2",
   "metadata": {},
   "outputs": [
    {
     "ename": "NameError",
     "evalue": "name 'square' is not defined",
     "output_type": "error",
     "traceback": [
      "\u001b[0;31m---------------------------------------------------------------------------\u001b[0m",
      "\u001b[0;31mNameError\u001b[0m                                 Traceback (most recent call last)",
      "Cell \u001b[0;32mIn[38], line 1\u001b[0m\n\u001b[0;32m----> 1\u001b[0m \u001b[43msquare\u001b[49m\u001b[38;5;241m.\u001b[39m\u001b[38;5;18m__doc__\u001b[39m\n",
      "\u001b[0;31mNameError\u001b[0m: name 'square' is not defined"
     ]
    }
   ],
   "source": [
    "square.__doc__"
   ]
  },
  {
   "cell_type": "code",
   "execution_count": null,
   "id": "e5dfeceb-20c5-4c35-b454-b84f891614db",
   "metadata": {},
   "outputs": [],
   "source": [
    "print(square.__doc__)"
   ]
  },
  {
   "cell_type": "markdown",
   "id": "5ac47783-4466-4d4a-9e32-b82880dc634b",
   "metadata": {},
   "source": [
    "## Lists"
   ]
  },
  {
   "cell_type": "code",
   "execution_count": null,
   "id": "825a58be-109e-4172-8198-ae1be0810a97",
   "metadata": {},
   "outputs": [],
   "source": [
    "numbers = [1, 2, 3]"
   ]
  },
  {
   "cell_type": "code",
   "execution_count": null,
   "id": "5015043d-a3b6-4279-96d3-f4e1174c77aa",
   "metadata": {},
   "outputs": [],
   "source": [
    "type(numbers)"
   ]
  },
  {
   "cell_type": "code",
   "execution_count": null,
   "id": "d4714410-ff66-438e-b5bf-46e100663ef7",
   "metadata": {},
   "outputs": [],
   "source": [
    "dir(numbers)"
   ]
  },
  {
   "cell_type": "code",
   "execution_count": 39,
   "id": "5c2d8ef2-9302-4a11-a630-556dfd3548ac",
   "metadata": {},
   "outputs": [
    {
     "ename": "NameError",
     "evalue": "name 'numbers' is not defined",
     "output_type": "error",
     "traceback": [
      "\u001b[0;31m---------------------------------------------------------------------------\u001b[0m",
      "\u001b[0;31mNameError\u001b[0m                                 Traceback (most recent call last)",
      "Cell \u001b[0;32mIn[39], line 1\u001b[0m\n\u001b[0;32m----> 1\u001b[0m \u001b[43mnumbers\u001b[49m\u001b[38;5;241m.\u001b[39mappend(\u001b[38;5;241m8\u001b[39m)\n",
      "\u001b[0;31mNameError\u001b[0m: name 'numbers' is not defined"
     ]
    }
   ],
   "source": [
    "numbers.append(8)"
   ]
  },
  {
   "cell_type": "code",
   "execution_count": null,
   "id": "f1d869b1-247e-46b1-b26f-07e535f7cabd",
   "metadata": {},
   "outputs": [],
   "source": [
    "numbers"
   ]
  },
  {
   "cell_type": "code",
   "execution_count": null,
   "id": "979e234f-b4bd-4fec-aa40-837ee75bc994",
   "metadata": {},
   "outputs": [],
   "source": [
    "numbers.copy()"
   ]
  },
  {
   "cell_type": "code",
   "execution_count": null,
   "id": "54d7d2cf-1852-4c61-b05e-8f94c83e35c4",
   "metadata": {},
   "outputs": [],
   "source": [
    "numbers.count?"
   ]
  },
  {
   "cell_type": "code",
   "execution_count": 40,
   "id": "6a5511e8-2ddf-4470-86fe-98722eb15266",
   "metadata": {},
   "outputs": [
    {
     "ename": "NameError",
     "evalue": "name 'numbers' is not defined",
     "output_type": "error",
     "traceback": [
      "\u001b[0;31m---------------------------------------------------------------------------\u001b[0m",
      "\u001b[0;31mNameError\u001b[0m                                 Traceback (most recent call last)",
      "Cell \u001b[0;32mIn[40], line 1\u001b[0m\n\u001b[0;32m----> 1\u001b[0m \u001b[43mnumbers\u001b[49m\u001b[38;5;241m.\u001b[39mcount(\u001b[38;5;241m8\u001b[39m)\n",
      "\u001b[0;31mNameError\u001b[0m: name 'numbers' is not defined"
     ]
    }
   ],
   "source": [
    "numbers.count(8)"
   ]
  },
  {
   "cell_type": "code",
   "execution_count": null,
   "id": "b296ec5a-3238-4754-a413-6c0ca6a243cb",
   "metadata": {},
   "outputs": [],
   "source": [
    "numbers.extend?"
   ]
  },
  {
   "cell_type": "code",
   "execution_count": null,
   "id": "49afb3f6-5c4a-4db5-840f-c8b05917706d",
   "metadata": {},
   "outputs": [],
   "source": [
    "numbers.extend(numbers)\n"
   ]
  },
  {
   "cell_type": "code",
   "execution_count": null,
   "id": "8be579fe-c48f-4731-a757-4b5182713a80",
   "metadata": {},
   "outputs": [],
   "source": [
    "numbers"
   ]
  },
  {
   "cell_type": "code",
   "execution_count": 41,
   "id": "91fb2eb8-1f86-45fd-85d7-ae444841fb52",
   "metadata": {},
   "outputs": [
    {
     "ename": "NameError",
     "evalue": "name 'numbers' is not defined",
     "output_type": "error",
     "traceback": [
      "\u001b[0;31m---------------------------------------------------------------------------\u001b[0m",
      "\u001b[0;31mNameError\u001b[0m                                 Traceback (most recent call last)",
      "Cell \u001b[0;32mIn[41], line 1\u001b[0m\n\u001b[0;32m----> 1\u001b[0m \u001b[43mnumbers\u001b[49m \u001b[38;5;241m+\u001b[39m numbers\n",
      "\u001b[0;31mNameError\u001b[0m: name 'numbers' is not defined"
     ]
    }
   ],
   "source": [
    "numbers + numbers"
   ]
  },
  {
   "cell_type": "code",
   "execution_count": null,
   "id": "38bf8060-3065-4f6e-90dd-dce6779b673f",
   "metadata": {},
   "outputs": [],
   "source": [
    "numbers.count(8)"
   ]
  },
  {
   "cell_type": "code",
   "execution_count": null,
   "id": "7d47d988-3804-4c48-9d7e-85f9d5c7ab95",
   "metadata": {},
   "outputs": [],
   "source": [
    "numbers.index?"
   ]
  },
  {
   "cell_type": "code",
   "execution_count": null,
   "id": "298debc9-082c-43c7-a67c-8df43575b046",
   "metadata": {},
   "outputs": [],
   "source": [
    "numbers.index(8)"
   ]
  },
  {
   "cell_type": "code",
   "execution_count": 42,
   "id": "cc91f447-ff90-4e02-a73c-fa75d1c6816e",
   "metadata": {},
   "outputs": [
    {
     "name": "stdout",
     "output_type": "stream",
     "text": [
      "Object `numbers.insert` not found.\n"
     ]
    }
   ],
   "source": [
    "numbers.insert?"
   ]
  },
  {
   "cell_type": "code",
   "execution_count": 43,
   "id": "2eaf13ce-b3e1-45c4-a89f-37be898e360e",
   "metadata": {},
   "outputs": [
    {
     "ename": "NameError",
     "evalue": "name 'numbers' is not defined",
     "output_type": "error",
     "traceback": [
      "\u001b[0;31m---------------------------------------------------------------------------\u001b[0m",
      "\u001b[0;31mNameError\u001b[0m                                 Traceback (most recent call last)",
      "Cell \u001b[0;32mIn[43], line 1\u001b[0m\n\u001b[0;32m----> 1\u001b[0m \u001b[43mnumbers\u001b[49m\u001b[38;5;241m.\u001b[39minsert(\u001b[38;5;241m4\u001b[39m, \u001b[38;5;241m0\u001b[39m) \u001b[38;5;66;03m# zero in the middle\u001b[39;00m\n",
      "\u001b[0;31mNameError\u001b[0m: name 'numbers' is not defined"
     ]
    }
   ],
   "source": [
    "numbers.insert(4, 0) # zero in the middle"
   ]
  },
  {
   "cell_type": "code",
   "execution_count": null,
   "id": "d04b4af5-4b86-4c45-8e83-3dccac6b7e01",
   "metadata": {},
   "outputs": [],
   "source": [
    "numbers"
   ]
  },
  {
   "cell_type": "code",
   "execution_count": null,
   "id": "0371c566-46d8-477b-b28b-06981ac398ae",
   "metadata": {},
   "outputs": [],
   "source": [
    "numbers.pop?"
   ]
  },
  {
   "cell_type": "code",
   "execution_count": null,
   "id": "e7a21a6c-932d-4c4a-8bb8-aae541c0dc5c",
   "metadata": {},
   "outputs": [],
   "source": [
    "numbers[-1]"
   ]
  },
  {
   "cell_type": "code",
   "execution_count": 44,
   "id": "1c17ef36-745c-4bae-bb5d-62a1309de05a",
   "metadata": {},
   "outputs": [
    {
     "ename": "NameError",
     "evalue": "name 'numbers' is not defined",
     "output_type": "error",
     "traceback": [
      "\u001b[0;31m---------------------------------------------------------------------------\u001b[0m",
      "\u001b[0;31mNameError\u001b[0m                                 Traceback (most recent call last)",
      "Cell \u001b[0;32mIn[44], line 1\u001b[0m\n\u001b[0;32m----> 1\u001b[0m \u001b[43mnumbers\u001b[49m\u001b[38;5;241m.\u001b[39mpop()\n",
      "\u001b[0;31mNameError\u001b[0m: name 'numbers' is not defined"
     ]
    }
   ],
   "source": [
    "numbers.pop()"
   ]
  },
  {
   "cell_type": "code",
   "execution_count": null,
   "id": "77adbb11-1dd4-465a-aced-315a8b8cd068",
   "metadata": {},
   "outputs": [],
   "source": [
    "numbers"
   ]
  },
  {
   "cell_type": "code",
   "execution_count": null,
   "id": "6ddf356c-c079-4249-90c2-ce60497f94ae",
   "metadata": {},
   "outputs": [],
   "source": [
    "numbers.pop(4)"
   ]
  },
  {
   "cell_type": "code",
   "execution_count": null,
   "id": "a742b7b5-ccce-4009-bf51-cc12f838f5c9",
   "metadata": {},
   "outputs": [],
   "source": [
    "numbers"
   ]
  },
  {
   "cell_type": "code",
   "execution_count": 45,
   "id": "fdfc0dd5-26db-46dd-a28a-ddf6c3bc9fe6",
   "metadata": {},
   "outputs": [
    {
     "name": "stdout",
     "output_type": "stream",
     "text": [
      "Object `numbers.remove` not found.\n"
     ]
    }
   ],
   "source": [
    "numbers.remove?"
   ]
  },
  {
   "cell_type": "code",
   "execution_count": 46,
   "id": "dada1c31-9106-40e6-8d88-3c387c722dd7",
   "metadata": {},
   "outputs": [
    {
     "ename": "NameError",
     "evalue": "name 'numbers' is not defined",
     "output_type": "error",
     "traceback": [
      "\u001b[0;31m---------------------------------------------------------------------------\u001b[0m",
      "\u001b[0;31mNameError\u001b[0m                                 Traceback (most recent call last)",
      "Cell \u001b[0;32mIn[46], line 1\u001b[0m\n\u001b[0;32m----> 1\u001b[0m \u001b[43mnumbers\u001b[49m\u001b[38;5;241m.\u001b[39mremove(\u001b[38;5;241m1\u001b[39m)\n",
      "\u001b[0;31mNameError\u001b[0m: name 'numbers' is not defined"
     ]
    }
   ],
   "source": [
    "numbers.remove(1)"
   ]
  },
  {
   "cell_type": "code",
   "execution_count": null,
   "id": "6751ccb5-9455-463b-bcca-69a2207fc348",
   "metadata": {},
   "outputs": [],
   "source": [
    "numbers"
   ]
  },
  {
   "cell_type": "code",
   "execution_count": null,
   "id": "2d332727-d500-4c0d-aa8a-5da0adf3c347",
   "metadata": {},
   "outputs": [],
   "source": [
    "numbers.remove(9)"
   ]
  },
  {
   "cell_type": "code",
   "execution_count": null,
   "id": "88d68177-0567-409d-9ea1-a43d86a4add8",
   "metadata": {},
   "outputs": [],
   "source": [
    "numbers.reverse()"
   ]
  },
  {
   "cell_type": "code",
   "execution_count": null,
   "id": "54856525-9feb-4974-940c-a4da5e150a5d",
   "metadata": {},
   "outputs": [],
   "source": [
    "numbers"
   ]
  },
  {
   "cell_type": "code",
   "execution_count": 47,
   "id": "5516fa81-dd1f-4df5-8aa9-47fd89b9e9e7",
   "metadata": {},
   "outputs": [
    {
     "ename": "NameError",
     "evalue": "name 'numbers' is not defined",
     "output_type": "error",
     "traceback": [
      "\u001b[0;31m---------------------------------------------------------------------------\u001b[0m",
      "\u001b[0;31mNameError\u001b[0m                                 Traceback (most recent call last)",
      "Cell \u001b[0;32mIn[47], line 1\u001b[0m\n\u001b[0;32m----> 1\u001b[0m \u001b[43mnumbers\u001b[49m\u001b[38;5;241m.\u001b[39msort()\n",
      "\u001b[0;31mNameError\u001b[0m: name 'numbers' is not defined"
     ]
    }
   ],
   "source": [
    "numbers.sort()"
   ]
  },
  {
   "cell_type": "code",
   "execution_count": null,
   "id": "eb488d1e-09a5-4530-bf1d-a49ecc685fe1",
   "metadata": {},
   "outputs": [],
   "source": [
    "numbers"
   ]
  },
  {
   "cell_type": "markdown",
   "id": "0a1cb2f2-3bfc-43e1-b135-e85ae8918368",
   "metadata": {},
   "source": [
    "## Looping"
   ]
  },
  {
   "cell_type": "code",
   "execution_count": null,
   "id": "e6fadb01-582b-494d-9682-235013fe8a5e",
   "metadata": {},
   "outputs": [],
   "source": [
    "print(numbers[0])\n",
    "print(numbers[1])\n",
    "print(numbers[2])"
   ]
  },
  {
   "cell_type": "code",
   "execution_count": 48,
   "id": "c160f49e-53dc-4870-a9cc-050350bd1a75",
   "metadata": {},
   "outputs": [
    {
     "ename": "NameError",
     "evalue": "name 'numbers' is not defined",
     "output_type": "error",
     "traceback": [
      "\u001b[0;31m---------------------------------------------------------------------------\u001b[0m",
      "\u001b[0;31mNameError\u001b[0m                                 Traceback (most recent call last)",
      "Cell \u001b[0;32mIn[48], line 2\u001b[0m\n\u001b[1;32m      1\u001b[0m i \u001b[38;5;241m=\u001b[39m \u001b[38;5;241m0\u001b[39m\n\u001b[0;32m----> 2\u001b[0m \u001b[38;5;28mprint\u001b[39m(\u001b[43mnumbers\u001b[49m[i])\n\u001b[1;32m      3\u001b[0m i \u001b[38;5;241m=\u001b[39m \u001b[38;5;241m1\u001b[39m\n\u001b[1;32m      4\u001b[0m \u001b[38;5;28mprint\u001b[39m(numbers[i])\n",
      "\u001b[0;31mNameError\u001b[0m: name 'numbers' is not defined"
     ]
    }
   ],
   "source": [
    "i = 0\n",
    "print(numbers[i])\n",
    "i = 1\n",
    "print(numbers[i])\n",
    "i = 2\n",
    "print(numbers[i])"
   ]
  },
  {
   "cell_type": "code",
   "execution_count": null,
   "id": "99a27d38-a03d-40a2-83b7-8845574e55f1",
   "metadata": {},
   "outputs": [],
   "source": [
    "for i in (0, 1, 2, 3):\n",
    "    print(numbers[i])"
   ]
  },
  {
   "cell_type": "code",
   "execution_count": null,
   "id": "c891eb8c-a282-4853-95b6-a990f6cc3cb3",
   "metadata": {},
   "outputs": [],
   "source": [
    "len(numbers)"
   ]
  },
  {
   "cell_type": "code",
   "execution_count": null,
   "id": "bd8e625b-8390-4427-be44-2a501eadee6e",
   "metadata": {},
   "outputs": [],
   "source": [
    "for i in range(6):\n",
    "    print(i)"
   ]
  },
  {
   "cell_type": "code",
   "execution_count": 49,
   "id": "48325b3e-30cd-4416-b02a-4f08a43e306b",
   "metadata": {},
   "outputs": [
    {
     "ename": "NameError",
     "evalue": "name 'numbers' is not defined",
     "output_type": "error",
     "traceback": [
      "\u001b[0;31m---------------------------------------------------------------------------\u001b[0m",
      "\u001b[0;31mNameError\u001b[0m                                 Traceback (most recent call last)",
      "Cell \u001b[0;32mIn[49], line 1\u001b[0m\n\u001b[0;32m----> 1\u001b[0m \u001b[38;5;28;01mfor\u001b[39;00m i \u001b[38;5;129;01min\u001b[39;00m \u001b[38;5;28mrange\u001b[39m(\u001b[38;5;28mlen\u001b[39m(\u001b[43mnumbers\u001b[49m)):\n\u001b[1;32m      2\u001b[0m     \u001b[38;5;28mprint\u001b[39m(numbers[i])\n",
      "\u001b[0;31mNameError\u001b[0m: name 'numbers' is not defined"
     ]
    }
   ],
   "source": [
    "for i in range(len(numbers)):\n",
    "    print(numbers[i])"
   ]
  },
  {
   "cell_type": "code",
   "execution_count": null,
   "id": "940424ca-2ef5-4363-b699-c202130bae1b",
   "metadata": {},
   "outputs": [],
   "source": [
    "for item in numbers:\n",
    "    print(item)"
   ]
  },
  {
   "cell_type": "code",
   "execution_count": null,
   "id": "1b2299e9-c899-4667-b083-6a99e652ee9f",
   "metadata": {},
   "outputs": [],
   "source": [
    "str.join"
   ]
  },
  {
   "cell_type": "code",
   "execution_count": null,
   "id": "e91a0ca2-8d06-4b22-8e93-d3b46dce5908",
   "metadata": {},
   "outputs": [],
   "source": [
    "':'.join"
   ]
  },
  {
   "cell_type": "code",
   "execution_count": 50,
   "id": "3b0b76ee-64b4-45ee-9422-87687b395fad",
   "metadata": {},
   "outputs": [
    {
     "data": {
      "text/plain": [
       "'Jane:John'"
      ]
     },
     "execution_count": 50,
     "metadata": {},
     "output_type": "execute_result"
    }
   ],
   "source": [
    "':'.join(['Jane', 'John'])"
   ]
  },
  {
   "cell_type": "code",
   "execution_count": 51,
   "id": "6a58ade3-897c-4d39-85b7-c212683c77d4",
   "metadata": {},
   "outputs": [],
   "source": [
    "separator = '-'\n"
   ]
  },
  {
   "cell_type": "code",
   "execution_count": 52,
   "id": "d24f7432-ef53-4980-bedb-3d1ff9cb9d5f",
   "metadata": {},
   "outputs": [
    {
     "data": {
      "text/plain": [
       "'father-in-law'"
      ]
     },
     "execution_count": 52,
     "metadata": {},
     "output_type": "execute_result"
    }
   ],
   "source": [
    "separator.join(['father', 'in', 'law'])"
   ]
  },
  {
   "cell_type": "code",
   "execution_count": 53,
   "id": "f4c0e742-be42-4631-a8ce-37ddc587f23a",
   "metadata": {},
   "outputs": [
    {
     "data": {
      "text/plain": [
       "'father\\nin\\nlaw'"
      ]
     },
     "execution_count": 53,
     "metadata": {},
     "output_type": "execute_result"
    }
   ],
   "source": [
    "'\\n'.join(['father', 'in', 'law'])"
   ]
  },
  {
   "cell_type": "code",
   "execution_count": 54,
   "id": "2bb0e7a7-dccb-4bec-8275-448e48a0aaa3",
   "metadata": {},
   "outputs": [
    {
     "name": "stdout",
     "output_type": "stream",
     "text": [
      "father\n",
      "in\n",
      "law\n"
     ]
    }
   ],
   "source": [
    "print('father\\nin\\nlaw')"
   ]
  },
  {
   "cell_type": "code",
   "execution_count": 55,
   "id": "db247eed-3bb1-464f-a85f-8e7d5c2c7477",
   "metadata": {},
   "outputs": [
    {
     "data": {
      "text/plain": [
       "'**'"
      ]
     },
     "execution_count": 55,
     "metadata": {},
     "output_type": "execute_result"
    }
   ],
   "source": [
    "'*' + '*'"
   ]
  },
  {
   "cell_type": "code",
   "execution_count": 56,
   "id": "8a17f59d-3e9e-4270-a50e-1f30780211f9",
   "metadata": {},
   "outputs": [
    {
     "data": {
      "text/plain": [
       "'**'"
      ]
     },
     "execution_count": 56,
     "metadata": {},
     "output_type": "execute_result"
    }
   ],
   "source": [
    "2 * '*'"
   ]
  },
  {
   "cell_type": "code",
   "execution_count": 57,
   "id": "2b648547-29ec-4d4f-aad9-b3bb88bac784",
   "metadata": {},
   "outputs": [
    {
     "data": {
      "text/plain": [
       "'***'"
      ]
     },
     "execution_count": 57,
     "metadata": {},
     "output_type": "execute_result"
    }
   ],
   "source": [
    "3 * '*'"
   ]
  },
  {
   "cell_type": "code",
   "execution_count": 58,
   "id": "9b3020a9-c86b-42c5-9134-4029806f0f5f",
   "metadata": {},
   "outputs": [
    {
     "data": {
      "text/plain": [
       "'fat'"
      ]
     },
     "execution_count": 58,
     "metadata": {},
     "output_type": "execute_result"
    }
   ],
   "source": [
    "'father\\nin\\nlaw'[0:3]  # first three characters strating at index 0"
   ]
  },
  {
   "cell_type": "code",
   "execution_count": 59,
   "id": "80a69269-4a1d-4a51-a401-b07ac12cc94b",
   "metadata": {},
   "outputs": [
    {
     "data": {
      "text/plain": [
       "'w'"
      ]
     },
     "execution_count": 59,
     "metadata": {},
     "output_type": "execute_result"
    }
   ],
   "source": [
    "'father\\nin\\nlaw'[-1]"
   ]
  },
  {
   "cell_type": "code",
   "execution_count": 60,
   "id": "6a60d3cc-2234-47d9-a09e-c3c005841f9a",
   "metadata": {},
   "outputs": [
    {
     "data": {
      "text/plain": [
       "'w'"
      ]
     },
     "execution_count": 60,
     "metadata": {},
     "output_type": "execute_result"
    }
   ],
   "source": [
    "'father\\nin\\nlaw'[-1] # select the whole string except the last character"
   ]
  },
  {
   "cell_type": "markdown",
   "id": "28d58430-ae86-40ae-a118-46fdcdfe021e",
   "metadata": {},
   "source": [
    "## Dictionaries"
   ]
  },
  {
   "cell_type": "code",
   "execution_count": 61,
   "id": "aa732bfa-a5b3-4c23-88e6-fe893b1482bf",
   "metadata": {},
   "outputs": [],
   "source": [
    "d = {'a': 1, 'b': 2}"
   ]
  },
  {
   "cell_type": "code",
   "execution_count": 62,
   "id": "e8ebda0c-c36a-45e3-b554-2f628acae03e",
   "metadata": {},
   "outputs": [
    {
     "data": {
      "text/plain": [
       "['__class__',\n",
       " '__class_getitem__',\n",
       " '__contains__',\n",
       " '__delattr__',\n",
       " '__delitem__',\n",
       " '__dir__',\n",
       " '__doc__',\n",
       " '__eq__',\n",
       " '__format__',\n",
       " '__ge__',\n",
       " '__getattribute__',\n",
       " '__getitem__',\n",
       " '__getstate__',\n",
       " '__gt__',\n",
       " '__hash__',\n",
       " '__init__',\n",
       " '__init_subclass__',\n",
       " '__ior__',\n",
       " '__iter__',\n",
       " '__le__',\n",
       " '__len__',\n",
       " '__lt__',\n",
       " '__ne__',\n",
       " '__new__',\n",
       " '__or__',\n",
       " '__reduce__',\n",
       " '__reduce_ex__',\n",
       " '__repr__',\n",
       " '__reversed__',\n",
       " '__ror__',\n",
       " '__setattr__',\n",
       " '__setitem__',\n",
       " '__sizeof__',\n",
       " '__str__',\n",
       " '__subclasshook__',\n",
       " 'clear',\n",
       " 'copy',\n",
       " 'fromkeys',\n",
       " 'get',\n",
       " 'items',\n",
       " 'keys',\n",
       " 'pop',\n",
       " 'popitem',\n",
       " 'setdefault',\n",
       " 'update',\n",
       " 'values']"
      ]
     },
     "execution_count": 62,
     "metadata": {},
     "output_type": "execute_result"
    }
   ],
   "source": [
    "dir(d)"
   ]
  },
  {
   "cell_type": "code",
   "execution_count": 63,
   "id": "dbdaac6d-80d8-4b5c-9a8c-28f8c5505237",
   "metadata": {},
   "outputs": [
    {
     "data": {
      "text/plain": [
       "dict_keys(['a', 'b'])"
      ]
     },
     "execution_count": 63,
     "metadata": {},
     "output_type": "execute_result"
    }
   ],
   "source": [
    "d.keys()"
   ]
  },
  {
   "cell_type": "code",
   "execution_count": 64,
   "id": "2762b375-88db-40a5-8526-7a68f7754d31",
   "metadata": {},
   "outputs": [
    {
     "data": {
      "text/plain": [
       "dict_values([1, 2])"
      ]
     },
     "execution_count": 64,
     "metadata": {},
     "output_type": "execute_result"
    }
   ],
   "source": [
    "d.values()"
   ]
  },
  {
   "cell_type": "code",
   "execution_count": 65,
   "id": "f7ce17ac-40f9-473e-9ba0-1185e6647882",
   "metadata": {},
   "outputs": [
    {
     "data": {
      "text/plain": [
       "1"
      ]
     },
     "execution_count": 65,
     "metadata": {},
     "output_type": "execute_result"
    }
   ],
   "source": [
    "d['a']"
   ]
  },
  {
   "cell_type": "code",
   "execution_count": 66,
   "id": "96a1bd72-6aa6-411d-ac53-a808dc6508f7",
   "metadata": {},
   "outputs": [
    {
     "data": {
      "text/plain": [
       "2"
      ]
     },
     "execution_count": 66,
     "metadata": {},
     "output_type": "execute_result"
    }
   ],
   "source": [
    "d['b']"
   ]
  },
  {
   "cell_type": "code",
   "execution_count": 67,
   "id": "bf221229-cf13-4c5b-8ebf-ad1d1182da96",
   "metadata": {},
   "outputs": [
    {
     "ename": "KeyError",
     "evalue": "'c'",
     "output_type": "error",
     "traceback": [
      "\u001b[0;31m---------------------------------------------------------------------------\u001b[0m",
      "\u001b[0;31mKeyError\u001b[0m                                  Traceback (most recent call last)",
      "Cell \u001b[0;32mIn[67], line 1\u001b[0m\n\u001b[0;32m----> 1\u001b[0m \u001b[43md\u001b[49m\u001b[43m[\u001b[49m\u001b[38;5;124;43m'\u001b[39;49m\u001b[38;5;124;43mc\u001b[39;49m\u001b[38;5;124;43m'\u001b[39;49m\u001b[43m]\u001b[49m  \u001b[38;5;66;03m# not defined\u001b[39;00m\n",
      "\u001b[0;31mKeyError\u001b[0m: 'c'"
     ]
    }
   ],
   "source": [
    "d['c']  # not defined"
   ]
  },
  {
   "cell_type": "code",
   "execution_count": 73,
   "id": "64061722-7aa9-4b3e-9e05-d2eaa40d74d3",
   "metadata": {},
   "outputs": [],
   "source": [
    "d['b'] += 1"
   ]
  },
  {
   "cell_type": "code",
   "execution_count": 74,
   "id": "33200380-3045-4738-82b4-33254fc8db40",
   "metadata": {},
   "outputs": [
    {
     "data": {
      "text/plain": [
       "{'a': 1, 'b': 3}"
      ]
     },
     "execution_count": 74,
     "metadata": {},
     "output_type": "execute_result"
    }
   ],
   "source": [
    "d"
   ]
  },
  {
   "cell_type": "code",
   "execution_count": 75,
   "id": "959b22c9-08f9-47f5-86d2-23f22d3151a2",
   "metadata": {},
   "outputs": [
    {
     "data": {
      "text/plain": [
       "1"
      ]
     },
     "execution_count": 75,
     "metadata": {},
     "output_type": "execute_result"
    }
   ],
   "source": [
    "d.get('a')"
   ]
  },
  {
   "cell_type": "code",
   "execution_count": 76,
   "id": "b98d9456-7f4f-46df-b926-be548e4f6950",
   "metadata": {},
   "outputs": [
    {
     "data": {
      "text/plain": [
       "3"
      ]
     },
     "execution_count": 76,
     "metadata": {},
     "output_type": "execute_result"
    }
   ],
   "source": [
    "d.get('b')"
   ]
  },
  {
   "cell_type": "code",
   "execution_count": 77,
   "id": "76bc9ce6-9319-4f74-87f3-6137b9a879cd",
   "metadata": {},
   "outputs": [],
   "source": [
    "d.get('c')"
   ]
  },
  {
   "cell_type": "code",
   "execution_count": 78,
   "id": "7172b2fc-a9d9-40e5-80d5-8533086a5015",
   "metadata": {},
   "outputs": [
    {
     "data": {
      "text/plain": [
       "\u001b[0;31mSignature:\u001b[0m \u001b[0md\u001b[0m\u001b[0;34m.\u001b[0m\u001b[0mget\u001b[0m\u001b[0;34m(\u001b[0m\u001b[0mkey\u001b[0m\u001b[0;34m,\u001b[0m \u001b[0mdefault\u001b[0m\u001b[0;34m=\u001b[0m\u001b[0;32mNone\u001b[0m\u001b[0;34m,\u001b[0m \u001b[0;34m/\u001b[0m\u001b[0;34m)\u001b[0m\u001b[0;34m\u001b[0m\u001b[0;34m\u001b[0m\u001b[0m\n",
       "\u001b[0;31mDocstring:\u001b[0m Return the value for key if key is in the dictionary, else default.\n",
       "\u001b[0;31mType:\u001b[0m      builtin_function_or_method"
      ]
     },
     "metadata": {},
     "output_type": "display_data"
    }
   ],
   "source": [
    "d.get?"
   ]
  },
  {
   "cell_type": "code",
   "execution_count": 79,
   "id": "82875d35-8b53-42be-9d87-cfb9fe1b0e14",
   "metadata": {},
   "outputs": [
    {
     "data": {
      "text/plain": [
       "0"
      ]
     },
     "execution_count": 79,
     "metadata": {},
     "output_type": "execute_result"
    }
   ],
   "source": [
    "d.get('c', 0)"
   ]
  },
  {
   "cell_type": "code",
   "execution_count": 80,
   "id": "0eca8dec-171a-4d36-bc01-29ce8ed8fcda",
   "metadata": {},
   "outputs": [
    {
     "data": {
      "text/plain": [
       "\u001b[0;31mSignature:\u001b[0m \u001b[0md\u001b[0m\u001b[0;34m.\u001b[0m\u001b[0msetdefault\u001b[0m\u001b[0;34m(\u001b[0m\u001b[0mkey\u001b[0m\u001b[0;34m,\u001b[0m \u001b[0mdefault\u001b[0m\u001b[0;34m=\u001b[0m\u001b[0;32mNone\u001b[0m\u001b[0;34m,\u001b[0m \u001b[0;34m/\u001b[0m\u001b[0;34m)\u001b[0m\u001b[0;34m\u001b[0m\u001b[0;34m\u001b[0m\u001b[0m\n",
       "\u001b[0;31mDocstring:\u001b[0m\n",
       "Insert key with a value of default if key is not in the dictionary.\n",
       "\n",
       "Return the value for key if key is in the dictionary, else default.\n",
       "\u001b[0;31mType:\u001b[0m      builtin_function_or_method"
      ]
     },
     "metadata": {},
     "output_type": "display_data"
    }
   ],
   "source": [
    "d.setdefault?"
   ]
  },
  {
   "cell_type": "code",
   "execution_count": 85,
   "id": "db728c49-fb90-478c-8ddf-47e3cf514031",
   "metadata": {},
   "outputs": [
    {
     "data": {
      "text/plain": [
       "{'a': 1, 'b': 3, 'c': 0}"
      ]
     },
     "execution_count": 85,
     "metadata": {},
     "output_type": "execute_result"
    }
   ],
   "source": [
    "d.setdefault('c', 0)\n",
    "d"
   ]
  },
  {
   "cell_type": "markdown",
   "id": "ac12adab-7aa7-49c3-98eb-ecf147b07dca",
   "metadata": {},
   "source": [
    "## Modules\n",
    "\n",
    "* we have a file `tools.py` with function `calculate`\n",
    "* we import that content in Python with\n",
    "\n",
    "~~~\n",
    ">>> import tools\n",
    "~~~\n",
    "\n",
    "* we can use that function with\n",
    "\n",
    "~~~\n",
    ">>> tools.calculate()\n",
    "~~~\n",
    "\n",
    "import does two things\n",
    "\n",
    "* run all code in the file\n",
    "* save all defintions in a `tools` namespace\n",
    "\n",
    "To be able to use a file both as a script and as a module use the pattern\n",
    "\n",
    "    if __name__ == \"__main__\":\n",
    "        # handle command line paramters\n",
    "        ..."
   ]
  },
  {
   "cell_type": "markdown",
   "id": "e1a6e5eb-9f74-4c79-b5f1-fdfefc52f59e",
   "metadata": {},
   "source": [
    "### import demo"
   ]
  },
  {
   "cell_type": "code",
   "execution_count": 91,
   "id": "958c2a50-733f-4dba-8823-5c37f0b4cc78",
   "metadata": {},
   "outputs": [
    {
     "name": "stdout",
     "output_type": "stream",
     "text": [
      "Overwriting import_demo.py\n"
     ]
    }
   ],
   "source": [
    "%%file import_demo.py\n",
    "print(__name__)"
   ]
  },
  {
   "cell_type": "markdown",
   "id": "e6b820f9-9200-4b27-ab5e-9fc4611ef2ba",
   "metadata": {},
   "source": [
    "Importing the file in  Python"
   ]
  },
  {
   "cell_type": "code",
   "execution_count": 92,
   "id": "d494f98a-c738-4cf5-a2aa-5eb93bd8486b",
   "metadata": {},
   "outputs": [],
   "source": [
    "import import_demo"
   ]
  },
  {
   "cell_type": "markdown",
   "id": "0becb37c-3f9e-46d8-a0c5-5bac07e09ec4",
   "metadata": {},
   "source": [
    "Running the file from the command line (here in jupyter via the leading `!`)"
   ]
  },
  {
   "cell_type": "code",
   "execution_count": 90,
   "id": "4f563389-fde3-408b-8bf3-07816ce593cc",
   "metadata": {},
   "outputs": [
    {
     "name": "stdout",
     "output_type": "stream",
     "text": [
      "__main__\n"
     ]
    }
   ],
   "source": [
    "!python import_demo.py"
   ]
  },
  {
   "cell_type": "markdown",
   "id": "46817396-05e9-4344-813a-ddcb28b5e514",
   "metadata": {},
   "source": [
    "## Files"
   ]
  },
  {
   "cell_type": "code",
   "execution_count": 1,
   "id": "5487946e-0d84-40ff-969a-7607c60c7b49",
   "metadata": {},
   "outputs": [
    {
     "name": "stdout",
     "output_type": "stream",
     "text": [
      "Help on function open in module _io:\n",
      "\n",
      "open(file, mode='r', buffering=-1, encoding=None, errors=None, newline=None, closefd=True, opener=None)\n",
      "    Open file and return a stream.  Raise OSError upon failure.\n",
      "\n",
      "    file is either a text or byte string giving the name (and the path\n",
      "    if the file isn't in the current working directory) of the file to\n",
      "    be opened or an integer file descriptor of the file to be\n",
      "    wrapped. (If a file descriptor is given, it is closed when the\n",
      "    returned I/O object is closed, unless closefd is set to False.)\n",
      "\n",
      "    mode is an optional string that specifies the mode in which the file\n",
      "    is opened. It defaults to 'r' which means open for reading in text\n",
      "    mode.  Other common values are 'w' for writing (truncating the file if\n",
      "    it already exists), 'x' for creating and writing to a new file, and\n",
      "    'a' for appending (which on some Unix systems, means that all writes\n",
      "    append to the end of the file regardless of the current seek position).\n",
      "    In text mode, if encoding is not specified the encoding used is platform\n",
      "    dependent: locale.getencoding() is called to get the current locale encoding.\n",
      "    (For reading and writing raw bytes use binary mode and leave encoding\n",
      "    unspecified.) The available modes are:\n",
      "\n",
      "    ========= ===============================================================\n",
      "    Character Meaning\n",
      "    --------- ---------------------------------------------------------------\n",
      "    'r'       open for reading (default)\n",
      "    'w'       open for writing, truncating the file first\n",
      "    'x'       create a new file and open it for writing\n",
      "    'a'       open for writing, appending to the end of the file if it exists\n",
      "    'b'       binary mode\n",
      "    't'       text mode (default)\n",
      "    '+'       open a disk file for updating (reading and writing)\n",
      "    ========= ===============================================================\n",
      "\n",
      "    The default mode is 'rt' (open for reading text). For binary random\n",
      "    access, the mode 'w+b' opens and truncates the file to 0 bytes, while\n",
      "    'r+b' opens the file without truncation. The 'x' mode implies 'w' and\n",
      "    raises an `FileExistsError` if the file already exists.\n",
      "\n",
      "    Python distinguishes between files opened in binary and text modes,\n",
      "    even when the underlying operating system doesn't. Files opened in\n",
      "    binary mode (appending 'b' to the mode argument) return contents as\n",
      "    bytes objects without any decoding. In text mode (the default, or when\n",
      "    't' is appended to the mode argument), the contents of the file are\n",
      "    returned as strings, the bytes having been first decoded using a\n",
      "    platform-dependent encoding or using the specified encoding if given.\n",
      "\n",
      "    buffering is an optional integer used to set the buffering policy.\n",
      "    Pass 0 to switch buffering off (only allowed in binary mode), 1 to select\n",
      "    line buffering (only usable in text mode), and an integer > 1 to indicate\n",
      "    the size of a fixed-size chunk buffer.  When no buffering argument is\n",
      "    given, the default buffering policy works as follows:\n",
      "\n",
      "    * Binary files are buffered in fixed-size chunks; the size of the buffer\n",
      "      is chosen using a heuristic trying to determine the underlying device's\n",
      "      \"block size\" and falling back on `io.DEFAULT_BUFFER_SIZE`.\n",
      "      On many systems, the buffer will typically be 4096 or 8192 bytes long.\n",
      "\n",
      "    * \"Interactive\" text files (files for which isatty() returns True)\n",
      "      use line buffering.  Other text files use the policy described above\n",
      "      for binary files.\n",
      "\n",
      "    encoding is the name of the encoding used to decode or encode the\n",
      "    file. This should only be used in text mode. The default encoding is\n",
      "    platform dependent, but any encoding supported by Python can be\n",
      "    passed.  See the codecs module for the list of supported encodings.\n",
      "\n",
      "    errors is an optional string that specifies how encoding errors are to\n",
      "    be handled---this argument should not be used in binary mode. Pass\n",
      "    'strict' to raise a ValueError exception if there is an encoding error\n",
      "    (the default of None has the same effect), or pass 'ignore' to ignore\n",
      "    errors. (Note that ignoring encoding errors can lead to data loss.)\n",
      "    See the documentation for codecs.register or run 'help(codecs.Codec)'\n",
      "    for a list of the permitted encoding error strings.\n",
      "\n",
      "    newline controls how universal newlines works (it only applies to text\n",
      "    mode). It can be None, '', '\\n', '\\r', and '\\r\\n'.  It works as\n",
      "    follows:\n",
      "\n",
      "    * On input, if newline is None, universal newlines mode is\n",
      "      enabled. Lines in the input can end in '\\n', '\\r', or '\\r\\n', and\n",
      "      these are translated into '\\n' before being returned to the\n",
      "      caller. If it is '', universal newline mode is enabled, but line\n",
      "      endings are returned to the caller untranslated. If it has any of\n",
      "      the other legal values, input lines are only terminated by the given\n",
      "      string, and the line ending is returned to the caller untranslated.\n",
      "\n",
      "    * On output, if newline is None, any '\\n' characters written are\n",
      "      translated to the system default line separator, os.linesep. If\n",
      "      newline is '' or '\\n', no translation takes place. If newline is any\n",
      "      of the other legal values, any '\\n' characters written are translated\n",
      "      to the given string.\n",
      "\n",
      "    If closefd is False, the underlying file descriptor will be kept open\n",
      "    when the file is closed. This does not work when a file name is given\n",
      "    and must be True in that case.\n",
      "\n",
      "    A custom opener can be used by passing a callable as *opener*. The\n",
      "    underlying file descriptor for the file object is then obtained by\n",
      "    calling *opener* with (*file*, *flags*). *opener* must return an open\n",
      "    file descriptor (passing os.open as *opener* results in functionality\n",
      "    similar to passing None).\n",
      "\n",
      "    open() returns a file object whose type depends on the mode, and\n",
      "    through which the standard file operations such as reading and writing\n",
      "    are performed. When open() is used to open a file in a text mode ('w',\n",
      "    'r', 'wt', 'rt', etc.), it returns a TextIOWrapper. When used to open\n",
      "    a file in a binary mode, the returned class varies: in read binary\n",
      "    mode, it returns a BufferedReader; in write binary and append binary\n",
      "    modes, it returns a BufferedWriter, and in read/write mode, it returns\n",
      "    a BufferedRandom.\n",
      "\n",
      "    It is also possible to use a string or bytearray as a file for both\n",
      "    reading and writing. For strings StringIO can be used like a file\n",
      "    opened in a text mode, and for bytes a BytesIO can be used like a file\n",
      "    opened in a binary mode.\n",
      "\n"
     ]
    }
   ],
   "source": [
    "#help(open)"
   ]
  },
  {
   "cell_type": "code",
   "execution_count": 6,
   "id": "a138a825-35a5-4bfe-979b-5a15a3cceff4",
   "metadata": {},
   "outputs": [],
   "source": [
    "myfile = open('hello.txt')"
   ]
  },
  {
   "cell_type": "code",
   "execution_count": 7,
   "id": "9d5de93d-5ebe-4782-a23b-b4dd9334bdb6",
   "metadata": {},
   "outputs": [
    {
     "data": {
      "text/plain": [
       "<_io.TextIOWrapper name='hello.txt' mode='r' encoding='UTF-8'>"
      ]
     },
     "execution_count": 7,
     "metadata": {},
     "output_type": "execute_result"
    }
   ],
   "source": [
    "myfile"
   ]
  },
  {
   "cell_type": "code",
   "execution_count": 8,
   "id": "d4239cb5-dc19-4172-ac6f-533f7acc5720",
   "metadata": {},
   "outputs": [
    {
     "data": {
      "text/plain": [
       "['_CHUNK_SIZE',\n",
       " '__class__',\n",
       " '__del__',\n",
       " '__delattr__',\n",
       " '__dict__',\n",
       " '__dir__',\n",
       " '__doc__',\n",
       " '__enter__',\n",
       " '__eq__',\n",
       " '__exit__',\n",
       " '__format__',\n",
       " '__ge__',\n",
       " '__getattribute__',\n",
       " '__getstate__',\n",
       " '__gt__',\n",
       " '__hash__',\n",
       " '__init__',\n",
       " '__init_subclass__',\n",
       " '__iter__',\n",
       " '__le__',\n",
       " '__lt__',\n",
       " '__module__',\n",
       " '__ne__',\n",
       " '__new__',\n",
       " '__next__',\n",
       " '__reduce__',\n",
       " '__reduce_ex__',\n",
       " '__repr__',\n",
       " '__setattr__',\n",
       " '__sizeof__',\n",
       " '__str__',\n",
       " '__subclasshook__',\n",
       " '_checkClosed',\n",
       " '_checkReadable',\n",
       " '_checkSeekable',\n",
       " '_checkWritable',\n",
       " '_finalizing',\n",
       " 'buffer',\n",
       " 'close',\n",
       " 'closed',\n",
       " 'detach',\n",
       " 'encoding',\n",
       " 'errors',\n",
       " 'fileno',\n",
       " 'flush',\n",
       " 'isatty',\n",
       " 'line_buffering',\n",
       " 'mode',\n",
       " 'name',\n",
       " 'newlines',\n",
       " 'read',\n",
       " 'readable',\n",
       " 'readline',\n",
       " 'readlines',\n",
       " 'reconfigure',\n",
       " 'seek',\n",
       " 'seekable',\n",
       " 'tell',\n",
       " 'truncate',\n",
       " 'writable',\n",
       " 'write',\n",
       " 'write_through',\n",
       " 'writelines']"
      ]
     },
     "execution_count": 8,
     "metadata": {},
     "output_type": "execute_result"
    }
   ],
   "source": [
    "dir(myfile)"
   ]
  },
  {
   "cell_type": "code",
   "execution_count": 9,
   "id": "7c540976-61d9-4c15-84fe-63f0db481d71",
   "metadata": {},
   "outputs": [
    {
     "data": {
      "text/plain": [
       "'Hello world\\nGoodbye'"
      ]
     },
     "execution_count": 9,
     "metadata": {},
     "output_type": "execute_result"
    }
   ],
   "source": [
    "myfile.read()"
   ]
  },
  {
   "cell_type": "code",
   "execution_count": 10,
   "id": "3cd34f2d-7e6f-4550-ab01-85bd33381ad0",
   "metadata": {},
   "outputs": [
    {
     "data": {
      "text/plain": [
       "''"
      ]
     },
     "execution_count": 10,
     "metadata": {},
     "output_type": "execute_result"
    }
   ],
   "source": [
    "myfile.read()"
   ]
  },
  {
   "cell_type": "code",
   "execution_count": 11,
   "id": "6b1a269c-d4d8-414a-8aed-9efbd7d0d4f4",
   "metadata": {},
   "outputs": [
    {
     "name": "stdout",
     "output_type": "stream",
     "text": [
      "/tmp/dates\n"
     ]
    }
   ],
   "source": [
    "!ls /tmp/dates\n"
   ]
  },
  {
   "cell_type": "code",
   "execution_count": 16,
   "id": "e438f788-c13f-4193-8708-ecae11e3892d",
   "metadata": {},
   "outputs": [],
   "source": [
    "myfile = open('hello.txt')\n",
    "#myfile.readlines()"
   ]
  },
  {
   "cell_type": "code",
   "execution_count": 17,
   "id": "505e09c2-da84-4aa9-afe8-89e61893bc44",
   "metadata": {},
   "outputs": [
    {
     "name": "stdout",
     "output_type": "stream",
     "text": [
      "Hello world\n",
      "\n",
      "Goodbye\n"
     ]
    }
   ],
   "source": [
    "for line in myfile.readlines():\n",
    "    print(line)"
   ]
  },
  {
   "cell_type": "code",
   "execution_count": 18,
   "id": "5fc18b2b-4067-40f0-ad57-b88906673214",
   "metadata": {},
   "outputs": [
    {
     "name": "stdout",
     "output_type": "stream",
     "text": [
      "Hello world\n",
      "\n",
      "Goodbye\n"
     ]
    }
   ],
   "source": [
    "for line in open('hello.txt'):\n",
    "    print(line)"
   ]
  },
  {
   "cell_type": "code",
   "execution_count": 19,
   "id": "86b939c8-e2db-409a-a51d-d84ef3a078a3",
   "metadata": {},
   "outputs": [
    {
     "ename": "FileNotFoundError",
     "evalue": "[Errno 2] No such file or directory: 'newfile.txt'",
     "output_type": "error",
     "traceback": [
      "\u001b[0;31m---------------------------------------------------------------------------\u001b[0m",
      "\u001b[0;31mFileNotFoundError\u001b[0m                         Traceback (most recent call last)",
      "Cell \u001b[0;32mIn[19], line 1\u001b[0m\n\u001b[0;32m----> 1\u001b[0m \u001b[38;5;28;43mopen\u001b[39;49m\u001b[43m(\u001b[49m\u001b[38;5;124;43m'\u001b[39;49m\u001b[38;5;124;43mnewfile.txt\u001b[39;49m\u001b[38;5;124;43m'\u001b[39;49m\u001b[43m)\u001b[49m\n",
      "File \u001b[0;32m/opt/miniconda3/envs/bb1000/lib/python3.12/site-packages/IPython/core/interactiveshell.py:324\u001b[0m, in \u001b[0;36m_modified_open\u001b[0;34m(file, *args, **kwargs)\u001b[0m\n\u001b[1;32m    317\u001b[0m \u001b[38;5;28;01mif\u001b[39;00m file \u001b[38;5;129;01min\u001b[39;00m {\u001b[38;5;241m0\u001b[39m, \u001b[38;5;241m1\u001b[39m, \u001b[38;5;241m2\u001b[39m}:\n\u001b[1;32m    318\u001b[0m     \u001b[38;5;28;01mraise\u001b[39;00m \u001b[38;5;167;01mValueError\u001b[39;00m(\n\u001b[1;32m    319\u001b[0m         \u001b[38;5;124mf\u001b[39m\u001b[38;5;124m\"\u001b[39m\u001b[38;5;124mIPython won\u001b[39m\u001b[38;5;124m'\u001b[39m\u001b[38;5;124mt let you open fd=\u001b[39m\u001b[38;5;132;01m{\u001b[39;00mfile\u001b[38;5;132;01m}\u001b[39;00m\u001b[38;5;124m by default \u001b[39m\u001b[38;5;124m\"\u001b[39m\n\u001b[1;32m    320\u001b[0m         \u001b[38;5;124m\"\u001b[39m\u001b[38;5;124mas it is likely to crash IPython. If you know what you are doing, \u001b[39m\u001b[38;5;124m\"\u001b[39m\n\u001b[1;32m    321\u001b[0m         \u001b[38;5;124m\"\u001b[39m\u001b[38;5;124myou can use builtins\u001b[39m\u001b[38;5;124m'\u001b[39m\u001b[38;5;124m open.\u001b[39m\u001b[38;5;124m\"\u001b[39m\n\u001b[1;32m    322\u001b[0m     )\n\u001b[0;32m--> 324\u001b[0m \u001b[38;5;28;01mreturn\u001b[39;00m \u001b[43mio_open\u001b[49m\u001b[43m(\u001b[49m\u001b[43mfile\u001b[49m\u001b[43m,\u001b[49m\u001b[43m \u001b[49m\u001b[38;5;241;43m*\u001b[39;49m\u001b[43margs\u001b[49m\u001b[43m,\u001b[49m\u001b[43m \u001b[49m\u001b[38;5;241;43m*\u001b[39;49m\u001b[38;5;241;43m*\u001b[39;49m\u001b[43mkwargs\u001b[49m\u001b[43m)\u001b[49m\n",
      "\u001b[0;31mFileNotFoundError\u001b[0m: [Errno 2] No such file or directory: 'newfile.txt'"
     ]
    }
   ],
   "source": [
    "open('newfile.txt')\n"
   ]
  },
  {
   "cell_type": "code",
   "execution_count": 21,
   "id": "41b98728-4509-49a8-b79c-c71982f85380",
   "metadata": {},
   "outputs": [],
   "source": [
    "newfile = open('newfile.txt', mode='w')"
   ]
  },
  {
   "cell_type": "code",
   "execution_count": 22,
   "id": "db98806a-c233-4244-9265-1c9b21f6c798",
   "metadata": {},
   "outputs": [
    {
     "data": {
      "text/plain": [
       "['_CHUNK_SIZE',\n",
       " '__class__',\n",
       " '__del__',\n",
       " '__delattr__',\n",
       " '__dict__',\n",
       " '__dir__',\n",
       " '__doc__',\n",
       " '__enter__',\n",
       " '__eq__',\n",
       " '__exit__',\n",
       " '__format__',\n",
       " '__ge__',\n",
       " '__getattribute__',\n",
       " '__getstate__',\n",
       " '__gt__',\n",
       " '__hash__',\n",
       " '__init__',\n",
       " '__init_subclass__',\n",
       " '__iter__',\n",
       " '__le__',\n",
       " '__lt__',\n",
       " '__module__',\n",
       " '__ne__',\n",
       " '__new__',\n",
       " '__next__',\n",
       " '__reduce__',\n",
       " '__reduce_ex__',\n",
       " '__repr__',\n",
       " '__setattr__',\n",
       " '__sizeof__',\n",
       " '__str__',\n",
       " '__subclasshook__',\n",
       " '_checkClosed',\n",
       " '_checkReadable',\n",
       " '_checkSeekable',\n",
       " '_checkWritable',\n",
       " '_finalizing',\n",
       " 'buffer',\n",
       " 'close',\n",
       " 'closed',\n",
       " 'detach',\n",
       " 'encoding',\n",
       " 'errors',\n",
       " 'fileno',\n",
       " 'flush',\n",
       " 'isatty',\n",
       " 'line_buffering',\n",
       " 'mode',\n",
       " 'name',\n",
       " 'newlines',\n",
       " 'read',\n",
       " 'readable',\n",
       " 'readline',\n",
       " 'readlines',\n",
       " 'reconfigure',\n",
       " 'seek',\n",
       " 'seekable',\n",
       " 'tell',\n",
       " 'truncate',\n",
       " 'writable',\n",
       " 'write',\n",
       " 'write_through',\n",
       " 'writelines']"
      ]
     },
     "execution_count": 22,
     "metadata": {},
     "output_type": "execute_result"
    }
   ],
   "source": [
    "dir(newfile)"
   ]
  },
  {
   "cell_type": "code",
   "execution_count": 24,
   "id": "3c135e71-8e02-44a1-88e4-370036141a3f",
   "metadata": {},
   "outputs": [
    {
     "data": {
      "text/plain": [
       "True"
      ]
     },
     "execution_count": 24,
     "metadata": {},
     "output_type": "execute_result"
    }
   ],
   "source": [
    "newfile.writable()"
   ]
  },
  {
   "cell_type": "code",
   "execution_count": 25,
   "id": "184938fa-7170-4368-9792-5ae1c2e900e9",
   "metadata": {},
   "outputs": [
    {
     "data": {
      "text/plain": [
       "5"
      ]
     },
     "execution_count": 25,
     "metadata": {},
     "output_type": "execute_result"
    }
   ],
   "source": [
    "newfile.write(\"Hello\")"
   ]
  },
  {
   "cell_type": "code",
   "execution_count": 26,
   "id": "e6c53d63-8845-42c4-91c9-97369e67ab10",
   "metadata": {},
   "outputs": [
    {
     "data": {
      "text/plain": [
       "11"
      ]
     },
     "execution_count": 26,
     "metadata": {},
     "output_type": "execute_result"
    }
   ],
   "source": [
    "newfile.write(\"Hello again\")"
   ]
  },
  {
   "cell_type": "code",
   "execution_count": 27,
   "id": "b71214fd-79cf-4f78-afe6-863c830e79a1",
   "metadata": {},
   "outputs": [],
   "source": [
    "newfile.close()"
   ]
  },
  {
   "cell_type": "code",
   "execution_count": 28,
   "id": "8250dc80-860e-496f-a25a-a917634c7e24",
   "metadata": {},
   "outputs": [],
   "source": [
    "newfile = open('newfile.txt', 'a')\n"
   ]
  },
  {
   "cell_type": "code",
   "execution_count": 29,
   "id": "5a20febc-1b6d-4107-970b-6c351482c5b1",
   "metadata": {},
   "outputs": [
    {
     "data": {
      "text/plain": [
       "9"
      ]
     },
     "execution_count": 29,
     "metadata": {},
     "output_type": "execute_result"
    }
   ],
   "source": [
    "newfile.write(\"\\nGoodbye\\n\")"
   ]
  },
  {
   "cell_type": "code",
   "execution_count": 30,
   "id": "0db1a0c2-a508-4781-9a6b-b892c13b977e",
   "metadata": {},
   "outputs": [],
   "source": [
    "newfile.close()"
   ]
  },
  {
   "cell_type": "code",
   "execution_count": 33,
   "id": "38900328-4bb6-4df3-b819-0694208d5223",
   "metadata": {},
   "outputs": [
    {
     "name": "stdout",
     "output_type": "stream",
     "text": [
      "HelloHello again\n",
      "Goodbye\n"
     ]
    }
   ],
   "source": [
    "for line in open('newfile.txt'):\n",
    "    print(line, end='')"
   ]
  },
  {
   "cell_type": "code",
   "execution_count": 34,
   "id": "4bd6dd5f-136d-4483-af9a-c9036dbd5e94",
   "metadata": {},
   "outputs": [
    {
     "name": "stdout",
     "output_type": "stream",
     "text": [
      "HelloHello again\n",
      "\n",
      "Goodbye\n",
      "\n"
     ]
    }
   ],
   "source": [
    "with open('newfile.txt') as f:\n",
    "    for line in f:\n",
    "        print(line)"
   ]
  },
  {
   "cell_type": "code",
   "execution_count": 36,
   "id": "8ad79443-3879-4ad9-a1a2-7c72289ce71d",
   "metadata": {},
   "outputs": [],
   "source": [
    "with open('someotherfile.txt', mode='w') as f:\n",
    "    print(\"Hello\", file=f)\n",
    "    print(\"world!\", file=f)\n"
   ]
  },
  {
   "cell_type": "code",
   "execution_count": 37,
   "id": "d1ed095d-715d-4915-98cf-a68027dbe252",
   "metadata": {},
   "outputs": [],
   "source": [
    "sample_data = ['hello\\n', 'world\\n']"
   ]
  },
  {
   "cell_type": "code",
   "execution_count": 38,
   "id": "3db9e6d8-e8a5-4984-9906-2c4fd07c8b49",
   "metadata": {},
   "outputs": [
    {
     "data": {
      "text/plain": [
       "'hello\\n'"
      ]
     },
     "execution_count": 38,
     "metadata": {},
     "output_type": "execute_result"
    }
   ],
   "source": [
    "sample_data[0]"
   ]
  },
  {
   "cell_type": "code",
   "execution_count": 39,
   "id": "57459a7a-46dc-4d97-b573-e8722602a9f1",
   "metadata": {},
   "outputs": [
    {
     "data": {
      "text/plain": [
       "'hello'"
      ]
     },
     "execution_count": 39,
     "metadata": {},
     "output_type": "execute_result"
    }
   ],
   "source": [
    "sample_data[0].strip()"
   ]
  },
  {
   "cell_type": "code",
   "execution_count": 40,
   "id": "3b5718ae-ce00-47eb-8763-3821a630bdd6",
   "metadata": {},
   "outputs": [],
   "source": [
    "new_data = []\n",
    "for word in sample_data:\n",
    "    new_data.append(word.strip())"
   ]
  },
  {
   "cell_type": "code",
   "execution_count": 41,
   "id": "18b15c64-24a6-4bc6-88fd-a804991538d0",
   "metadata": {},
   "outputs": [
    {
     "data": {
      "text/plain": [
       "['hello', 'world']"
      ]
     },
     "execution_count": 41,
     "metadata": {},
     "output_type": "execute_result"
    }
   ],
   "source": [
    "new_data"
   ]
  },
  {
   "cell_type": "code",
   "execution_count": 42,
   "id": "316fc471-61f0-4e6b-a07d-f13709ab55d1",
   "metadata": {},
   "outputs": [
    {
     "data": {
      "text/plain": [
       "['hello', 'world']"
      ]
     },
     "execution_count": 42,
     "metadata": {},
     "output_type": "execute_result"
    }
   ],
   "source": [
    "# list comprehension\n",
    "[word.strip() for word in sample_data]"
   ]
  },
  {
   "cell_type": "markdown",
   "id": "ce8219f5-2de7-44aa-9697-064fd86b6e08",
   "metadata": {},
   "source": [
    "## reading csv files"
   ]
  },
  {
   "cell_type": "code",
   "execution_count": 43,
   "id": "f6bd92fe-c656-460f-8b58-8a566c5c261d",
   "metadata": {},
   "outputs": [
    {
     "name": "stdout",
     "output_type": "stream",
     "text": [
      "employee_id,salary,position,department,years_of_experience,education_level,location,performance_rating,bonus_amount,hire_date\n",
      "1,86282.06,Administrative Officer,Business Development,33,High School Diploma,Suntar,2,3263.29,9/8/2019\n",
      "2,59331.72,Mechanical Systems Engineer,Human Resources,36,Master's Degree,Outapi,4,2484.87,9/11/2017\n",
      "3,29768.91,Software Consultant,Support,10,PhD,Sritanjung,4,662.85,9/17/2006\n",
      "4,66817.26,Analyst Programmer,Training,10,Master's Degree,Santa Cruz do Capibaribe,3,2117.47,4/7/2005\n",
      "5,147675.03,Analog Circuit Design manager,Services,6,PhD,Liancheng,3,2926.46,10/9/2013\n",
      "6,44019.07,Media Manager I,Marketing,35,High School Diploma,Fengshou,3,3850.62,5/17/2016\n",
      "7,35532.69,Senior Financial Analyst,Legal,20,Bachelor's Degree,Strážnice,1,3673.83,11/4/2006\n",
      "8,92179.77,Help Desk Technician,Accounting,11,Master's Degree,Kiełczów,4,3068.94,3/16/2019\n",
      "9,144837.35,Food Chemist,Research and Development,46,Bachelor's Degree,Altamira,5,1752.0,9/24/2003\n"
     ]
    }
   ],
   "source": [
    "!head salary_data.csv"
   ]
  },
  {
   "cell_type": "code",
   "execution_count": 57,
   "id": "0b4048e2-29c3-4239-9589-2e8c6a3d7cd9",
   "metadata": {},
   "outputs": [
    {
     "data": {
      "text/plain": [
       "87825.78"
      ]
     },
     "execution_count": 57,
     "metadata": {},
     "output_type": "execute_result"
    }
   ],
   "source": [
    "salaries = []\n",
    "csvfile = open('salary_data.csv')\n",
    "header = next(csvfile)\n",
    "for line in csvfile:\n",
    "    items = line.split(',')\n",
    "    salaries.append(float(items[1]))\n",
    "\n",
    "salaries[:10]\n",
    "round(sum(salaries)/len(salaries), 2)"
   ]
  },
  {
   "cell_type": "code",
   "execution_count": 52,
   "id": "658aff02-2a92-45e2-9808-7ed274790e4e",
   "metadata": {},
   "outputs": [
    {
     "data": {
      "text/plain": [
       "'employee_id,salary,position,department,years_of_experience,education_level,location,performance_rating,bonus_amount,hire_date\\n'"
      ]
     },
     "execution_count": 52,
     "metadata": {},
     "output_type": "execute_result"
    }
   ],
   "source": [
    "header"
   ]
  },
  {
   "cell_type": "markdown",
   "id": "602cf247-0c2b-4dc0-9502-0b34c16d478d",
   "metadata": {},
   "source": [
    "## External libraries\n",
    "### numpy"
   ]
  },
  {
   "cell_type": "code",
   "execution_count": 58,
   "id": "a1d5be84-2f56-4b2d-8985-8fc10bf5ae00",
   "metadata": {},
   "outputs": [],
   "source": [
    "import numpy"
   ]
  },
  {
   "cell_type": "code",
   "execution_count": 60,
   "id": "1726df34-818c-4b92-99a6-31b20126f057",
   "metadata": {},
   "outputs": [],
   "source": [
    "#dir(numpy)"
   ]
  },
  {
   "cell_type": "code",
   "execution_count": 61,
   "id": "f154f985-02ef-4436-a53a-7e94820b4c89",
   "metadata": {},
   "outputs": [
    {
     "data": {
      "text/plain": [
       "['LinAlgError',\n",
       " '__all__',\n",
       " '__builtins__',\n",
       " '__cached__',\n",
       " '__doc__',\n",
       " '__file__',\n",
       " '__loader__',\n",
       " '__name__',\n",
       " '__package__',\n",
       " '__path__',\n",
       " '__spec__',\n",
       " '_umath_linalg',\n",
       " 'cholesky',\n",
       " 'cond',\n",
       " 'det',\n",
       " 'eig',\n",
       " 'eigh',\n",
       " 'eigvals',\n",
       " 'eigvalsh',\n",
       " 'inv',\n",
       " 'linalg',\n",
       " 'lstsq',\n",
       " 'matrix_power',\n",
       " 'matrix_rank',\n",
       " 'multi_dot',\n",
       " 'norm',\n",
       " 'pinv',\n",
       " 'qr',\n",
       " 'slogdet',\n",
       " 'solve',\n",
       " 'svd',\n",
       " 'tensorinv',\n",
       " 'tensorsolve',\n",
       " 'test']"
      ]
     },
     "execution_count": 61,
     "metadata": {},
     "output_type": "execute_result"
    }
   ],
   "source": [
    "dir(numpy.linalg)"
   ]
  },
  {
   "cell_type": "code",
   "execution_count": 62,
   "id": "c4bd9f3d-7321-4c15-89a4-3739a526967e",
   "metadata": {},
   "outputs": [
    {
     "data": {
      "text/plain": [
       "\u001b[0;31mSignature:\u001b[0m       \u001b[0mnumpy\u001b[0m\u001b[0;34m.\u001b[0m\u001b[0mlinalg\u001b[0m\u001b[0;34m.\u001b[0m\u001b[0msolve\u001b[0m\u001b[0;34m(\u001b[0m\u001b[0ma\u001b[0m\u001b[0;34m,\u001b[0m \u001b[0mb\u001b[0m\u001b[0;34m)\u001b[0m\u001b[0;34m\u001b[0m\u001b[0;34m\u001b[0m\u001b[0m\n",
       "\u001b[0;31mCall signature:\u001b[0m  \u001b[0mnumpy\u001b[0m\u001b[0;34m.\u001b[0m\u001b[0mlinalg\u001b[0m\u001b[0;34m.\u001b[0m\u001b[0msolve\u001b[0m\u001b[0;34m(\u001b[0m\u001b[0;34m*\u001b[0m\u001b[0margs\u001b[0m\u001b[0;34m,\u001b[0m \u001b[0;34m**\u001b[0m\u001b[0mkwargs\u001b[0m\u001b[0;34m)\u001b[0m\u001b[0;34m\u001b[0m\u001b[0;34m\u001b[0m\u001b[0m\n",
       "\u001b[0;31mType:\u001b[0m            _ArrayFunctionDispatcher\n",
       "\u001b[0;31mString form:\u001b[0m     <function solve at 0x1155b0a40>\n",
       "\u001b[0;31mFile:\u001b[0m            /opt/miniconda3/envs/bb1000/lib/python3.12/site-packages/numpy/linalg/linalg.py\n",
       "\u001b[0;31mDocstring:\u001b[0m      \n",
       "Solve a linear matrix equation, or system of linear scalar equations.\n",
       "\n",
       "Computes the \"exact\" solution, `x`, of the well-determined, i.e., full\n",
       "rank, linear matrix equation `ax = b`.\n",
       "\n",
       "Parameters\n",
       "----------\n",
       "a : (..., M, M) array_like\n",
       "    Coefficient matrix.\n",
       "b : {(..., M,), (..., M, K)}, array_like\n",
       "    Ordinate or \"dependent variable\" values.\n",
       "\n",
       "Returns\n",
       "-------\n",
       "x : {(..., M,), (..., M, K)} ndarray\n",
       "    Solution to the system a x = b.  Returned shape is identical to `b`.\n",
       "\n",
       "Raises\n",
       "------\n",
       "LinAlgError\n",
       "    If `a` is singular or not square.\n",
       "\n",
       "See Also\n",
       "--------\n",
       "scipy.linalg.solve : Similar function in SciPy.\n",
       "\n",
       "Notes\n",
       "-----\n",
       "\n",
       ".. versionadded:: 1.8.0\n",
       "\n",
       "Broadcasting rules apply, see the `numpy.linalg` documentation for\n",
       "details.\n",
       "\n",
       "The solutions are computed using LAPACK routine ``_gesv``.\n",
       "\n",
       "`a` must be square and of full-rank, i.e., all rows (or, equivalently,\n",
       "columns) must be linearly independent; if either is not true, use\n",
       "`lstsq` for the least-squares best \"solution\" of the\n",
       "system/equation.\n",
       "\n",
       "References\n",
       "----------\n",
       ".. [1] G. Strang, *Linear Algebra and Its Applications*, 2nd Ed., Orlando,\n",
       "       FL, Academic Press, Inc., 1980, pg. 22.\n",
       "\n",
       "Examples\n",
       "--------\n",
       "Solve the system of equations ``x0 + 2 * x1 = 1`` and ``3 * x0 + 5 * x1 = 2``:\n",
       "\n",
       ">>> a = np.array([[1, 2], [3, 5]])\n",
       ">>> b = np.array([1, 2])\n",
       ">>> x = np.linalg.solve(a, b)\n",
       ">>> x\n",
       "array([-1.,  1.])\n",
       "\n",
       "Check that the solution is correct:\n",
       "\n",
       ">>> np.allclose(np.dot(a, x), b)\n",
       "True\n",
       "\u001b[0;31mClass docstring:\u001b[0m\n",
       "Class to wrap functions with checks for __array_function__ overrides.\n",
       "\n",
       "All arguments are required, and can only be passed by position.\n",
       "\n",
       "Parameters\n",
       "----------\n",
       "dispatcher : function or None\n",
       "    The dispatcher function that returns a single sequence-like object\n",
       "    of all arguments relevant.  It must have the same signature (except\n",
       "    the default values) as the actual implementation.\n",
       "    If ``None``, this is a ``like=`` dispatcher and the\n",
       "    ``_ArrayFunctionDispatcher`` must be called with ``like`` as the\n",
       "    first (additional and positional) argument.\n",
       "implementation : function\n",
       "    Function that implements the operation on NumPy arrays without\n",
       "    overrides.  Arguments passed calling the ``_ArrayFunctionDispatcher``\n",
       "    will be forwarded to this (and the ``dispatcher``) as if using\n",
       "    ``*args, **kwargs``.\n",
       "\n",
       "Attributes\n",
       "----------\n",
       "_implementation : function\n",
       "    The original implementation passed in."
      ]
     },
     "metadata": {},
     "output_type": "display_data"
    }
   ],
   "source": [
    "numpy.linalg.solve?"
   ]
  },
  {
   "cell_type": "code",
   "execution_count": 65,
   "id": "7d588f38-cd86-4719-8df1-731f119fd147",
   "metadata": {},
   "outputs": [],
   "source": [
    "coefficient_matrix = numpy.array([[3, 0, 0], [1, 8, 0], [0, 4, -2]])\n",
    "rhs = numpy.array([30, 18, 2])\n",
    "solution = numpy.linalg.solve(coefficient_matrix, rhs)"
   ]
  },
  {
   "cell_type": "code",
   "execution_count": 66,
   "id": "1912975d-8e64-4137-8de1-44b8a0a06d30",
   "metadata": {},
   "outputs": [
    {
     "data": {
      "text/plain": [
       "array([10.,  1.,  1.])"
      ]
     },
     "execution_count": 66,
     "metadata": {},
     "output_type": "execute_result"
    }
   ],
   "source": [
    "solution"
   ]
  },
  {
   "cell_type": "code",
   "execution_count": 68,
   "id": "1a80f9ef-1a68-43d6-8377-ea19a7e13a82",
   "metadata": {},
   "outputs": [
    {
     "data": {
      "text/plain": [
       "14.0"
      ]
     },
     "execution_count": 68,
     "metadata": {},
     "output_type": "execute_result"
    }
   ],
   "source": [
    "solution[0] + solution[1] + 3*solution[2]"
   ]
  },
  {
   "cell_type": "code",
   "execution_count": 69,
   "id": "f9cdb395-a41e-481f-bb87-08466fc0cf84",
   "metadata": {},
   "outputs": [
    {
     "data": {
      "text/plain": [
       "14.0"
      ]
     },
     "execution_count": 69,
     "metadata": {},
     "output_type": "execute_result"
    }
   ],
   "source": [
    "a, b, c = solution\n",
    "a + b + 3*c"
   ]
  },
  {
   "cell_type": "code",
   "execution_count": 70,
   "id": "bffe0064-c6f3-499c-a0f2-bdff3ddf1128",
   "metadata": {},
   "outputs": [
    {
     "data": {
      "text/plain": [
       "14.0"
      ]
     },
     "execution_count": 70,
     "metadata": {},
     "output_type": "execute_result"
    }
   ],
   "source": [
    "v = numpy.array([1, 1, 3])\n",
    "numpy.dot(v, solution)"
   ]
  },
  {
   "cell_type": "code",
   "execution_count": 71,
   "id": "cc652ea0-91a4-4e04-b8e8-f5bf88addb2c",
   "metadata": {},
   "outputs": [
    {
     "data": {
      "text/plain": [
       "14.0"
      ]
     },
     "execution_count": 71,
     "metadata": {},
     "output_type": "execute_result"
    }
   ],
   "source": [
    "v @ solution"
   ]
  },
  {
   "cell_type": "code",
   "execution_count": 73,
   "id": "77535135-7260-4500-8461-28eadc85a334",
   "metadata": {},
   "outputs": [
    {
     "data": {
      "text/plain": [
       "array([10.,  1.,  3.])"
      ]
     },
     "execution_count": 73,
     "metadata": {},
     "output_type": "execute_result"
    }
   ],
   "source": [
    "v * solution # element-by-element multiplication"
   ]
  },
  {
   "cell_type": "code",
   "execution_count": 76,
   "id": "35faf443-ff1c-4e02-8cdd-74a57fc588be",
   "metadata": {},
   "outputs": [
    {
     "data": {
      "text/plain": [
       "array([0.        , 0.05263158, 0.10526316, 0.15789474, 0.21052632,\n",
       "       0.26315789, 0.31578947, 0.36842105, 0.42105263, 0.47368421,\n",
       "       0.52631579, 0.57894737, 0.63157895, 0.68421053, 0.73684211,\n",
       "       0.78947368, 0.84210526, 0.89473684, 0.94736842, 1.        ])"
      ]
     },
     "execution_count": 76,
     "metadata": {},
     "output_type": "execute_result"
    }
   ],
   "source": [
    "numpy.linspace(0,1,20)"
   ]
  },
  {
   "cell_type": "code",
   "execution_count": 77,
   "id": "bc230f8d-b499-4bac-86d1-03ec29f2f2a0",
   "metadata": {},
   "outputs": [
    {
     "data": {
      "text/plain": [
       "array([1. , 1.1, 1.2, 1.3, 1.4, 1.5, 1.6, 1.7, 1.8, 1.9, 2. , 2.1, 2.2,\n",
       "       2.3, 2.4, 2.5, 2.6, 2.7, 2.8, 2.9, 3. , 3.1, 3.2, 3.3, 3.4, 3.5,\n",
       "       3.6, 3.7, 3.8, 3.9, 4. , 4.1, 4.2, 4.3, 4.4, 4.5, 4.6, 4.7, 4.8,\n",
       "       4.9, 5. , 5.1, 5.2, 5.3, 5.4, 5.5, 5.6, 5.7, 5.8, 5.9, 6. , 6.1,\n",
       "       6.2, 6.3, 6.4, 6.5, 6.6, 6.7, 6.8, 6.9, 7. , 7.1, 7.2, 7.3, 7.4,\n",
       "       7.5, 7.6, 7.7, 7.8, 7.9, 8. , 8.1, 8.2, 8.3, 8.4, 8.5, 8.6, 8.7,\n",
       "       8.8, 8.9, 9. , 9.1, 9.2, 9.3, 9.4, 9.5, 9.6, 9.7, 9.8, 9.9])"
      ]
     },
     "execution_count": 77,
     "metadata": {},
     "output_type": "execute_result"
    }
   ],
   "source": [
    "numpy.arange(1, 10, .1)"
   ]
  },
  {
   "cell_type": "code",
   "execution_count": 79,
   "id": "87c529b0-2003-4b61-9a39-f0d674ce68ea",
   "metadata": {},
   "outputs": [
    {
     "data": {
      "text/plain": [
       "[1, 2, 3, 4, 5, 6, 7, 8, 9]"
      ]
     },
     "execution_count": 79,
     "metadata": {},
     "output_type": "execute_result"
    }
   ],
   "source": [
    "list(range(1, 10, 1))"
   ]
  },
  {
   "cell_type": "code",
   "execution_count": 80,
   "id": "78001b4b-cd08-4cb6-ab8a-29f491a086e9",
   "metadata": {},
   "outputs": [],
   "source": [
    "# data from afile"
   ]
  },
  {
   "cell_type": "code",
   "execution_count": 81,
   "id": "733b3ed9-122e-4122-b1f2-df3674522bbf",
   "metadata": {},
   "outputs": [
    {
     "name": "stdout",
     "output_type": "stream",
     "text": [
      "Writing a.dat\n"
     ]
    }
   ],
   "source": [
    "%%file a.dat\n",
    "1 2 3\n",
    "4 5 6"
   ]
  },
  {
   "cell_type": "code",
   "execution_count": 83,
   "id": "e755b62a-90ff-418b-a9c4-898e2aa79808",
   "metadata": {},
   "outputs": [],
   "source": [
    "a = numpy.loadtxt('a.dat')"
   ]
  },
  {
   "cell_type": "code",
   "execution_count": 84,
   "id": "62afd1ab-c3c0-47f7-8b17-2f1455e7cb04",
   "metadata": {},
   "outputs": [
    {
     "data": {
      "text/plain": [
       "array([[1., 2., 3.],\n",
       "       [4., 5., 6.]])"
      ]
     },
     "execution_count": 84,
     "metadata": {},
     "output_type": "execute_result"
    }
   ],
   "source": [
    "a"
   ]
  },
  {
   "cell_type": "code",
   "execution_count": 85,
   "id": "8fde06fa-3912-450d-b51d-bec76f66a502",
   "metadata": {},
   "outputs": [],
   "source": [
    "b = a.reshape((3, 2))"
   ]
  },
  {
   "cell_type": "code",
   "execution_count": 86,
   "id": "74494642-ca2c-4173-8cf5-b6add15510c9",
   "metadata": {},
   "outputs": [
    {
     "data": {
      "text/plain": [
       "array([[1., 2.],\n",
       "       [3., 4.],\n",
       "       [5., 6.]])"
      ]
     },
     "execution_count": 86,
     "metadata": {},
     "output_type": "execute_result"
    }
   ],
   "source": [
    "b"
   ]
  },
  {
   "cell_type": "code",
   "execution_count": 88,
   "id": "046754e4-11f5-44dc-9f54-f4596d859cac",
   "metadata": {},
   "outputs": [],
   "source": [
    "a[0, 0] = 0"
   ]
  },
  {
   "cell_type": "code",
   "execution_count": 89,
   "id": "02e57455-6427-40d6-9e90-e69692633998",
   "metadata": {},
   "outputs": [
    {
     "data": {
      "text/plain": [
       "array([[0., 2., 3.],\n",
       "       [4., 5., 6.]])"
      ]
     },
     "execution_count": 89,
     "metadata": {},
     "output_type": "execute_result"
    }
   ],
   "source": [
    "a"
   ]
  },
  {
   "cell_type": "code",
   "execution_count": 90,
   "id": "1d9ac8ca-f99b-4638-b5c1-8bc1f6a60902",
   "metadata": {},
   "outputs": [
    {
     "data": {
      "text/plain": [
       "array([[0., 2.],\n",
       "       [3., 4.],\n",
       "       [5., 6.]])"
      ]
     },
     "execution_count": 90,
     "metadata": {},
     "output_type": "execute_result"
    }
   ],
   "source": [
    "b"
   ]
  },
  {
   "cell_type": "code",
   "execution_count": 91,
   "id": "16f8ab86-5d7e-4920-b778-bfe6bbdddb5b",
   "metadata": {},
   "outputs": [],
   "source": [
    "# a and b are different views of the same data"
   ]
  },
  {
   "cell_type": "code",
   "execution_count": 92,
   "id": "9a624baa-9ead-4f6c-a130-1a566ba86c83",
   "metadata": {},
   "outputs": [
    {
     "data": {
      "text/plain": [
       "array([[0., 2., 3.],\n",
       "       [4., 5., 6.]])"
      ]
     },
     "execution_count": 92,
     "metadata": {},
     "output_type": "execute_result"
    }
   ],
   "source": [
    "a[:, :] # all elements"
   ]
  },
  {
   "cell_type": "code",
   "execution_count": 93,
   "id": "ede23c2e-c708-4633-b5e4-fbbd9e18aefb",
   "metadata": {},
   "outputs": [],
   "source": [
    "c = a[:, :] # like a copy operation"
   ]
  },
  {
   "cell_type": "code",
   "execution_count": 94,
   "id": "96507dfc-f4fa-4f5e-bb47-3fb5b1845aa8",
   "metadata": {},
   "outputs": [
    {
     "data": {
      "text/plain": [
       "array([[0., 2., 3.],\n",
       "       [4., 5., 6.]])"
      ]
     },
     "execution_count": 94,
     "metadata": {},
     "output_type": "execute_result"
    }
   ],
   "source": [
    "c"
   ]
  },
  {
   "cell_type": "code",
   "execution_count": 95,
   "id": "7ebef50b-96c7-4277-b24c-74a0bf90d866",
   "metadata": {},
   "outputs": [
    {
     "data": {
      "text/plain": [
       "array([0., 4.])"
      ]
     },
     "execution_count": 95,
     "metadata": {},
     "output_type": "execute_result"
    }
   ],
   "source": [
    "a[:, 0] # first column"
   ]
  },
  {
   "cell_type": "code",
   "execution_count": 96,
   "id": "09dc74b8-2324-4bef-af51-ff1280045ac9",
   "metadata": {},
   "outputs": [
    {
     "data": {
      "text/plain": [
       "array([[0.],\n",
       "       [4.]])"
      ]
     },
     "execution_count": 96,
     "metadata": {},
     "output_type": "execute_result"
    }
   ],
   "source": [
    "a[:, :1] # first column"
   ]
  },
  {
   "cell_type": "code",
   "execution_count": 97,
   "id": "e8cbdcc1-9a13-44c8-afff-aebb1583b464",
   "metadata": {},
   "outputs": [
    {
     "data": {
      "text/plain": [
       "array([[0., 2.],\n",
       "       [4., 5.]])"
      ]
     },
     "execution_count": 97,
     "metadata": {},
     "output_type": "execute_result"
    }
   ],
   "source": [
    "a[:, :2] # first two columns"
   ]
  },
  {
   "cell_type": "code",
   "execution_count": 98,
   "id": "1b7dac6e-167a-4ac2-87ce-1517d07d70c9",
   "metadata": {},
   "outputs": [
    {
     "data": {
      "text/plain": [
       "array([4., 5., 6.])"
      ]
     },
     "execution_count": 98,
     "metadata": {},
     "output_type": "execute_result"
    }
   ],
   "source": [
    "a[-1, :] # last row"
   ]
  },
  {
   "cell_type": "code",
   "execution_count": 101,
   "id": "c6057c06-9223-4ed9-8e85-89c770fe041d",
   "metadata": {},
   "outputs": [
    {
     "name": "stdout",
     "output_type": "stream",
     "text": [
      "Loop timing 44.73186206817627\n"
     ]
    }
   ],
   "source": [
    "import time\n",
    "import numpy\n",
    "n = 512\n",
    "a = numpy.ones((n, n))\n",
    "b = numpy.ones((n, n))\n",
    "c = numpy.zeros((n, n))\n",
    "t1 = time.time()\n",
    "for i in range(n):\n",
    "    for j in range(n):\n",
    "        for k in range(n):\n",
    "            c[i, j] += a[i, k]*b[k, j]\n",
    "t2 = time.time()\n",
    "print(\"Loop timing\", t2-t1)"
   ]
  },
  {
   "cell_type": "code",
   "execution_count": 102,
   "id": "86c6d374-2379-4690-81e9-d53ba81293f8",
   "metadata": {},
   "outputs": [
    {
     "name": "stdout",
     "output_type": "stream",
     "text": [
      "Loop timing 0.01900005340576172\n"
     ]
    }
   ],
   "source": [
    "t1 = time.time()\n",
    "a @ b # or numpy.dot(a, b)\n",
    "t2 = time.time()\n",
    "print(\"Loop timing\", t2-t1)"
   ]
  },
  {
   "cell_type": "code",
   "execution_count": 106,
   "id": "135c8e06-aa01-4de1-8536-b2227a6c6efe",
   "metadata": {},
   "outputs": [
    {
     "data": {
      "text/plain": [
       "array([[0.47102309, 0.28655813, 0.67085648],\n",
       "       [0.43206739, 0.21412444, 0.37351277],\n",
       "       [0.94708137, 0.07003021, 0.13932737]])"
      ]
     },
     "execution_count": 106,
     "metadata": {},
     "output_type": "execute_result"
    }
   ],
   "source": [
    "x = numpy.random.random((3, 3))\n",
    "x"
   ]
  },
  {
   "cell_type": "code",
   "execution_count": 107,
   "id": "177988b1-c163-445a-b12b-e7043ed678ae",
   "metadata": {},
   "outputs": [
    {
     "data": {
      "text/plain": [
       "array([[-0.12296536, -0.23597627,  1.22468588],\n",
       "       [-9.81886142, 19.05681336, -3.81056711],\n",
       "       [ 5.77112129, -7.97448446,  0.767815  ]])"
      ]
     },
     "execution_count": 107,
     "metadata": {},
     "output_type": "execute_result"
    }
   ],
   "source": [
    "numpy.linalg.inv(x)"
   ]
  },
  {
   "cell_type": "code",
   "execution_count": 108,
   "id": "0e3618b8-4dfa-4279-bca7-dfc71bd518a7",
   "metadata": {},
   "outputs": [
    {
     "data": {
      "text/plain": [
       "array([[ 1.00000000e+00,  4.40380951e-18,  6.47990611e-17],\n",
       "       [-1.21883505e-16,  1.00000000e+00, -1.49926612e-15],\n",
       "       [ 2.95216716e-16,  8.58934824e-17,  1.00000000e+00]])"
      ]
     },
     "execution_count": 108,
     "metadata": {},
     "output_type": "execute_result"
    }
   ],
   "source": [
    "numpy.linalg.inv(x) @ x"
   ]
  },
  {
   "cell_type": "markdown",
   "id": "b9e4eeab-6e69-4b69-ba73-7422718189bd",
   "metadata": {},
   "source": [
    "**The solution problem**\n",
    "\n",
    "You can solve a linear equation given the inverse of the coefficient matrix\n",
    "\n",
    "$$ Ax = b $$\n",
    "$$ A^{-1}Ax = A^{-1}b $$\n",
    "$$ x = A^{-1}b $$\n",
    "\n",
    "Note that the linalg.solve method is preferred (more accurate)"
   ]
  },
  {
   "cell_type": "code",
   "execution_count": 130,
   "id": "50d18ceb-3642-49ec-a34c-ec2fbc980d98",
   "metadata": {},
   "outputs": [
    {
     "data": {
      "text/plain": [
       "array([10.,  1.,  1.])"
      ]
     },
     "execution_count": 130,
     "metadata": {},
     "output_type": "execute_result"
    }
   ],
   "source": [
    "numpy.linalg.inv(coefficient_matrix) @ rhs  "
   ]
  },
  {
   "cell_type": "code",
   "execution_count": 112,
   "id": "75cfc02b-350a-42d6-b21a-af725a6647f7",
   "metadata": {},
   "outputs": [],
   "source": [
    "# see https://lectures.scientific-python.org/intro/numpy/index.html"
   ]
  },
  {
   "cell_type": "code",
   "execution_count": 114,
   "id": "c6b1cd56-d05e-41f6-a4c9-c3e1e9ce3671",
   "metadata": {},
   "outputs": [
    {
     "data": {
      "text/plain": [
       "array([[0.47102309, 0.28655813, 0.67085648],\n",
       "       [0.43206739, 0.21412444, 0.37351277],\n",
       "       [0.94708137, 0.07003021, 0.13932737]])"
      ]
     },
     "execution_count": 114,
     "metadata": {},
     "output_type": "execute_result"
    }
   ],
   "source": [
    "x"
   ]
  },
  {
   "cell_type": "code",
   "execution_count": 115,
   "id": "a3b8c6ef-4692-4934-9f99-f7e0e8bec839",
   "metadata": {},
   "outputs": [
    {
     "data": {
      "text/plain": [
       "dtype('float64')"
      ]
     },
     "execution_count": 115,
     "metadata": {},
     "output_type": "execute_result"
    }
   ],
   "source": [
    "x.dtype"
   ]
  },
  {
   "cell_type": "code",
   "execution_count": 116,
   "id": "46820697-f615-4759-ad07-f0f34421fbb8",
   "metadata": {},
   "outputs": [
    {
     "data": {
      "text/plain": [
       "dtype('int64')"
      ]
     },
     "execution_count": 116,
     "metadata": {},
     "output_type": "execute_result"
    }
   ],
   "source": [
    "coefficient_matrix.dtype"
   ]
  },
  {
   "cell_type": "code",
   "execution_count": 119,
   "id": "492997a5-244a-4c6f-bc51-717d6fc33b71",
   "metadata": {},
   "outputs": [
    {
     "data": {
      "text/plain": [
       "array([[False, False, False],\n",
       "       [False,  True, False],\n",
       "       [False,  True,  True]])"
      ]
     },
     "execution_count": 119,
     "metadata": {},
     "output_type": "execute_result"
    }
   ],
   "source": [
    "filter_small = x < .25\n",
    "filter_small"
   ]
  },
  {
   "cell_type": "code",
   "execution_count": 120,
   "id": "16d8e984-b0c1-4ef4-ad97-3de929b129b9",
   "metadata": {},
   "outputs": [
    {
     "data": {
      "text/plain": [
       "dtype('bool')"
      ]
     },
     "execution_count": 120,
     "metadata": {},
     "output_type": "execute_result"
    }
   ],
   "source": [
    "filter_small.dtype"
   ]
  },
  {
   "cell_type": "code",
   "execution_count": 122,
   "id": "165ebc4c-e4ec-4336-b43c-b9ffbeed2fb2",
   "metadata": {},
   "outputs": [],
   "source": [
    "x[filter_small] = 0"
   ]
  },
  {
   "cell_type": "code",
   "execution_count": 123,
   "id": "ca2bdfdb-0f18-4e13-871a-6d10f83eca1b",
   "metadata": {},
   "outputs": [
    {
     "data": {
      "text/plain": [
       "array([[0.47102309, 0.28655813, 0.67085648],\n",
       "       [0.43206739, 0.        , 0.37351277],\n",
       "       [0.94708137, 0.        , 0.        ]])"
      ]
     },
     "execution_count": 123,
     "metadata": {},
     "output_type": "execute_result"
    }
   ],
   "source": [
    "x"
   ]
  },
  {
   "cell_type": "code",
   "execution_count": 126,
   "id": "48ef38b2-248e-409e-b1af-7256075ac764",
   "metadata": {},
   "outputs": [
    {
     "data": {
      "text/plain": [
       "array([[ 1.        ,  4.21642658],\n",
       "       [ 1.09090909,  4.47722031],\n",
       "       [ 1.18181818,  4.18817461],\n",
       "       [ 1.27272727,  5.100702  ],\n",
       "       [ 1.36363636,  5.01672539],\n",
       "       [ 1.45454545,  5.46245043],\n",
       "       [ 1.54545455,  6.00238562],\n",
       "       [ 1.63636364,  6.09124094],\n",
       "       [ 1.72727273,  6.62425117],\n",
       "       [ 1.81818182,  5.9675025 ],\n",
       "       [ 1.90909091,  7.20194681],\n",
       "       [ 2.        ,  6.87940874],\n",
       "       [ 2.09090909,  7.72082858],\n",
       "       [ 2.18181818,  7.33887176],\n",
       "       [ 2.27272727,  7.94002996],\n",
       "       [ 2.36363636,  7.59556983],\n",
       "       [ 2.45454545,  8.41213451],\n",
       "       [ 2.54545455,  8.791312  ],\n",
       "       [ 2.63636364,  9.24879064],\n",
       "       [ 2.72727273,  9.18388224],\n",
       "       [ 2.81818182,  9.55427964],\n",
       "       [ 2.90909091, 10.12332028],\n",
       "       [ 3.        ,  9.84165946],\n",
       "       [ 3.09090909, 10.65242067],\n",
       "       [ 3.18181818, 11.018415  ],\n",
       "       [ 3.27272727, 11.2742905 ],\n",
       "       [ 3.36363636, 11.43853565],\n",
       "       [ 3.45454545, 11.70937174],\n",
       "       [ 3.54545455, 12.07982474],\n",
       "       [ 3.63636364, 11.97467717],\n",
       "       [ 3.72727273, 12.59567192],\n",
       "       [ 3.81818182, 12.10955009],\n",
       "       [ 3.90909091, 13.12405155],\n",
       "       [ 4.        , 12.89153975],\n",
       "       [ 4.09090909, 13.10057003],\n",
       "       [ 4.18181818, 13.51655597],\n",
       "       [ 4.27272727, 14.08838484],\n",
       "       [ 4.36363636, 14.37189888],\n",
       "       [ 4.45454545, 14.04068713],\n",
       "       [ 4.54545455, 14.48129024],\n",
       "       [ 4.63636364, 15.11118585],\n",
       "       [ 4.72727273, 14.92047769],\n",
       "       [ 4.81818182, 15.7269607 ],\n",
       "       [ 4.90909091, 15.3468745 ],\n",
       "       [ 5.        , 16.30487175],\n",
       "       [ 5.09090909, 16.72669092],\n",
       "       [ 5.18181818, 17.00577646],\n",
       "       [ 5.27272727, 16.95249259],\n",
       "       [ 5.36363636, 16.95773582],\n",
       "       [ 5.45454545, 17.28023614],\n",
       "       [ 5.54545455, 17.71243121],\n",
       "       [ 5.63636364, 17.82132559],\n",
       "       [ 5.72727273, 18.65960353],\n",
       "       [ 5.81818182, 18.74245624],\n",
       "       [ 5.90909091, 18.35164271],\n",
       "       [ 6.        , 19.00095366],\n",
       "       [ 6.09090909, 19.57463232],\n",
       "       [ 6.18181818, 19.07188621],\n",
       "       [ 6.27272727, 19.61045658],\n",
       "       [ 6.36363636, 20.119636  ],\n",
       "       [ 6.45454545, 20.80239957],\n",
       "       [ 6.54545455, 20.6193445 ],\n",
       "       [ 6.63636364, 21.35056354],\n",
       "       [ 6.72727273, 21.38745191],\n",
       "       [ 6.81818182, 21.89681543],\n",
       "       [ 6.90909091, 21.99890991],\n",
       "       [ 7.        , 22.13319198],\n",
       "       [ 7.09090909, 22.71782585],\n",
       "       [ 7.18181818, 22.25158277],\n",
       "       [ 7.27272727, 22.65132817],\n",
       "       [ 7.36363636, 22.63109049],\n",
       "       [ 7.45454545, 22.98388502],\n",
       "       [ 7.54545455, 23.3231422 ],\n",
       "       [ 7.63636364, 24.34649701],\n",
       "       [ 7.72727273, 24.15956058],\n",
       "       [ 7.81818182, 24.74046691],\n",
       "       [ 7.90909091, 24.87777507],\n",
       "       [ 8.        , 24.88415485],\n",
       "       [ 8.09090909, 25.04977087],\n",
       "       [ 8.18181818, 25.97343956],\n",
       "       [ 8.27272727, 25.75852871],\n",
       "       [ 8.36363636, 26.54056174],\n",
       "       [ 8.45454545, 26.56763889],\n",
       "       [ 8.54545455, 26.30768327],\n",
       "       [ 8.63636364, 27.10633316],\n",
       "       [ 8.72727273, 27.17002905],\n",
       "       [ 8.81818182, 27.05330427],\n",
       "       [ 8.90909091, 28.03572473],\n",
       "       [ 9.        , 28.25247605],\n",
       "       [ 9.09090909, 28.26221953],\n",
       "       [ 9.18181818, 28.10747607],\n",
       "       [ 9.27272727, 28.89585094],\n",
       "       [ 9.36363636, 29.07592824],\n",
       "       [ 9.45454545, 29.06694763],\n",
       "       [ 9.54545455, 29.30026289],\n",
       "       [ 9.63636364, 29.89579288],\n",
       "       [ 9.72727273, 29.76710929],\n",
       "       [ 9.81818182, 30.09864563],\n",
       "       [ 9.90909091, 30.9016019 ],\n",
       "       [10.        , 30.85132618]])"
      ]
     },
     "execution_count": 126,
     "metadata": {},
     "output_type": "execute_result"
    }
   ],
   "source": [
    "# the lab data\n",
    "data = numpy.loadtxt('data.txt')\n",
    "data"
   ]
  },
  {
   "cell_type": "code",
   "execution_count": 127,
   "id": "81eb157f-65b2-4da7-8267-c9697c8067b5",
   "metadata": {},
   "outputs": [],
   "source": [
    "x = data[:, 0]\n",
    "y = data[:, 1]"
   ]
  },
  {
   "cell_type": "code",
   "execution_count": 128,
   "id": "d98ca0b0-17c2-4c63-8476-c336663de670",
   "metadata": {},
   "outputs": [],
   "source": [
    "import matplotlib.pyplot as plt"
   ]
  },
  {
   "cell_type": "code",
   "execution_count": 129,
   "id": "9d2d34f7-8cfc-4ad9-8e23-0c88181636a4",
   "metadata": {},
   "outputs": [
    {
     "data": {
      "text/plain": [
       "[<matplotlib.lines.Line2D at 0x117765a60>]"
      ]
     },
     "execution_count": 129,
     "metadata": {},
     "output_type": "execute_result"
    },
    {
     "data": {
      "image/png": "[encoded data removed]",
      "text/plain": [
       "<Figure size 640x480 with 1 Axes>"
      ]
     },
     "metadata": {},
     "output_type": "display_data"
    }
   ],
   "source": [
    "plt.plot(x, y)"
   ]
  },
  {
   "cell_type": "code",
   "execution_count": 131,
   "id": "13b78a0d-56a4-4cb9-8b35-a35ddb4ee0d9",
   "metadata": {},
   "outputs": [
    {
     "data": {
      "text/plain": [
       "<matplotlib.collections.PathCollection at 0x1161d4830>"
      ]
     },
     "execution_count": 131,
     "metadata": {},
     "output_type": "execute_result"
    },
    {
     "data": {
      "image/png": "[encoded data removed]",
      "text/plain": [
       "<Figure size 640x480 with 1 Axes>"
      ]
     },
     "metadata": {},
     "output_type": "display_data"
    }
   ],
   "source": [
    "plt.scatter(x, y)"
   ]
  },
  {
   "cell_type": "code",
   "execution_count": 132,
   "id": "d720b707-f712-400a-8756-9a6c60b0d6bd",
   "metadata": {},
   "outputs": [
    {
     "data": {
      "text/plain": [
       "3713.6363636363635"
      ]
     },
     "execution_count": 132,
     "metadata": {},
     "output_type": "execute_result"
    }
   ],
   "source": [
    "x @ x"
   ]
  },
  {
   "cell_type": "code",
   "execution_count": 133,
   "id": "0eefe4d9-4d0e-4528-9e94-41d9e41bf241",
   "metadata": {},
   "outputs": [
    {
     "data": {
      "text/plain": [
       "11708.398687425932"
      ]
     },
     "execution_count": 133,
     "metadata": {},
     "output_type": "execute_result"
    }
   ],
   "source": [
    "x @ y"
   ]
  },
  {
   "cell_type": "code",
   "execution_count": 134,
   "id": "da06ef2e-5aae-4da0-93eb-5d6cfe04d70a",
   "metadata": {},
   "outputs": [
    {
     "data": {
      "text/plain": [
       "550.0"
      ]
     },
     "execution_count": 134,
     "metadata": {},
     "output_type": "execute_result"
    }
   ],
   "source": [
    "sum(x)"
   ]
  },
  {
   "cell_type": "code",
   "execution_count": 135,
   "id": "6c795c1f-6959-4d12-a702-34831e381a32",
   "metadata": {},
   "outputs": [],
   "source": [
    "A = [ [ x@x, sum(x)], [sum(x), len(x)]]"
   ]
  },
  {
   "cell_type": "code",
   "execution_count": 136,
   "id": "17a72f59-af20-4c65-af9e-2dab2806da52",
   "metadata": {},
   "outputs": [
    {
     "data": {
      "text/plain": [
       "[[3713.6363636363635, 550.0], [550.0, 100]]"
      ]
     },
     "execution_count": 136,
     "metadata": {},
     "output_type": "execute_result"
    }
   ],
   "source": [
    "A"
   ]
  },
  {
   "cell_type": "code",
   "execution_count": 138,
   "id": "d3b3144f-d988-4b08-b0d4-112e4c73cba4",
   "metadata": {},
   "outputs": [],
   "source": [
    "b =  [ x @ y, sum(y) ]"
   ]
  },
  {
   "cell_type": "code",
   "execution_count": 139,
   "id": "e83472b6-b4df-473b-a502-71d709405219",
   "metadata": {},
   "outputs": [
    {
     "data": {
      "text/plain": [
       "[11708.398687425932, 1756.2398135940878]"
      ]
     },
     "execution_count": 139,
     "metadata": {},
     "output_type": "execute_result"
    }
   ],
   "source": [
    "b"
   ]
  },
  {
   "cell_type": "code",
   "execution_count": 142,
   "id": "58a98202-735d-4d13-addb-9c2987aa008c",
   "metadata": {},
   "outputs": [
    {
     "data": {
      "text/plain": [
       "(2.97556129890996, 1.1968109919360999)"
      ]
     },
     "execution_count": 142,
     "metadata": {},
     "output_type": "execute_result"
    }
   ],
   "source": [
    "k, l = numpy.linalg.solve(A, b)\n",
    "k, l"
   ]
  },
  {
   "cell_type": "code",
   "execution_count": 147,
   "id": "05e146b2-5e11-4231-9bba-7b0c0bcac02d",
   "metadata": {},
   "outputs": [
    {
     "data": {
      "image/png": "[encoded data removed]",
      "text/plain": [
       "<Figure size 640x480 with 1 Axes>"
      ]
     },
     "metadata": {},
     "output_type": "display_data"
    }
   ],
   "source": [
    "plt.plot(x, k * x + l)\n",
    "plt.scatter(x, y)\n",
    "\n",
    "plt.savefig('figure.png')"
   ]
  },
  {
   "cell_type": "code",
   "execution_count": 148,
   "id": "48df7176-9955-4e34-94fe-c74c7531b163",
   "metadata": {},
   "outputs": [],
   "source": [
    "## plotting, object-oriented approach"
   ]
  },
  {
   "cell_type": "code",
   "execution_count": 149,
   "id": "897bc31e-b95c-4ec4-908a-f4dc817881e7",
   "metadata": {},
   "outputs": [
    {
     "data": {
      "text/plain": [
       "(<Figure size 640x480 with 1 Axes>, <Axes: >)"
      ]
     },
     "execution_count": 149,
     "metadata": {},
     "output_type": "execute_result"
    },
    {
     "data": {
      "image/png": "[encoded data removed]",
      "text/plain": [
       "<Figure size 640x480 with 1 Axes>"
      ]
     },
     "metadata": {},
     "output_type": "display_data"
    }
   ],
   "source": [
    "plt.subplots()"
   ]
  },
  {
   "cell_type": "code",
   "execution_count": 150,
   "id": "af94463e-1737-4e99-9872-779ad0e04e5f",
   "metadata": {},
   "outputs": [
    {
     "data": {
      "image/png": "[encoded data removed]",
      "text/plain": [
       "<Figure size 640x480 with 1 Axes>"
      ]
     },
     "metadata": {},
     "output_type": "display_data"
    }
   ],
   "source": [
    "fig, ax = plt.subplots()"
   ]
  },
  {
   "cell_type": "code",
   "execution_count": 153,
   "id": "5db0f188-1a37-4b5e-a29f-f5a2dcaa3df1",
   "metadata": {},
   "outputs": [
    {
     "data": {
      "text/plain": [
       "(<Figure size 640x480 with 2 Axes>, array([<Axes: >, <Axes: >], dtype=object))"
      ]
     },
     "execution_count": 153,
     "metadata": {},
     "output_type": "execute_result"
    },
    {
     "data": {
      "image/png": "[encoded data removed]",
      "text/plain": [
       "<Figure size 640x480 with 2 Axes>"
      ]
     },
     "metadata": {},
     "output_type": "display_data"
    }
   ],
   "source": [
    "plt.subplots(nrows=2, ncols=1)"
   ]
  },
  {
   "cell_type": "code",
   "execution_count": 156,
   "id": "0ea38588-50af-4b79-87d8-9f9bba8e6f78",
   "metadata": {},
   "outputs": [
    {
     "data": {
      "image/png": "[encoded data removed]",
      "text/plain": [
       "<Figure size 640x480 with 2 Axes>"
      ]
     },
     "metadata": {},
     "output_type": "display_data"
    }
   ],
   "source": [
    "fig, ax = plt.subplots(nrows=2)"
   ]
  },
  {
   "cell_type": "code",
   "execution_count": 158,
   "id": "e9553b85-dee8-4f63-a219-b017e47bf18b",
   "metadata": {},
   "outputs": [
    {
     "data": {
      "image/png": "[encoded data removed]",
      "text/plain": [
       "<Figure size 640x480 with 2 Axes>"
      ]
     },
     "execution_count": 158,
     "metadata": {},
     "output_type": "execute_result"
    }
   ],
   "source": [
    "fig"
   ]
  },
  {
   "cell_type": "code",
   "execution_count": 161,
   "id": "459e541f-08cf-47ee-92dd-86acdfe57f25",
   "metadata": {},
   "outputs": [
    {
     "data": {
      "image/png": "[encoded data removed]",
      "text/plain": [
       "<Figure size 640x480 with 2 Axes>"
      ]
     },
     "metadata": {},
     "output_type": "display_data"
    }
   ],
   "source": [
    "fig, (ax1, ax2) = plt.subplots(nrows=2)"
   ]
  },
  {
   "cell_type": "code",
   "execution_count": 164,
   "id": "17428ce0-888a-4368-b05b-b3e400d73dc5",
   "metadata": {},
   "outputs": [
    {
     "data": {
      "text/plain": [
       "<matplotlib.collections.PathCollection at 0x120b554c0>"
      ]
     },
     "execution_count": 164,
     "metadata": {},
     "output_type": "execute_result"
    }
   ],
   "source": [
    "ax1.scatter(x, y)"
   ]
  },
  {
   "cell_type": "code",
   "execution_count": 165,
   "id": "98ed02f9-f831-469f-9864-4a5b3dbb1ff9",
   "metadata": {},
   "outputs": [
    {
     "data": {
      "image/png": "[encoded data removed]",
      "text/plain": [
       "<Figure size 640x480 with 2 Axes>"
      ]
     },
     "execution_count": 165,
     "metadata": {},
     "output_type": "execute_result"
    }
   ],
   "source": [
    "fig"
   ]
  },
  {
   "cell_type": "code",
   "execution_count": 166,
   "id": "adaa832e-7664-4b20-8ffa-8aa515c2b6e3",
   "metadata": {},
   "outputs": [
    {
     "data": {
      "text/plain": [
       "[<matplotlib.lines.Line2D at 0x1208c5f10>]"
      ]
     },
     "execution_count": 166,
     "metadata": {},
     "output_type": "execute_result"
    }
   ],
   "source": [
    "ax2.plot(x, k*x + l)"
   ]
  },
  {
   "cell_type": "code",
   "execution_count": 167,
   "id": "f3e16c89-b99b-4df6-8d45-644362081463",
   "metadata": {},
   "outputs": [
    {
     "data": {
      "image/png": "[encoded data removed]",
      "text/plain": [
       "<Figure size 640x480 with 2 Axes>"
      ]
     },
     "execution_count": 167,
     "metadata": {},
     "output_type": "execute_result"
    }
   ],
   "source": [
    "fig"
   ]
  },
  {
   "cell_type": "code",
   "execution_count": 168,
   "id": "581de313-72bc-4f27-a34e-a23aeea2a6bf",
   "metadata": {},
   "outputs": [],
   "source": [
    "fig.savefig('figure2.png')"
   ]
  },
  {
   "cell_type": "markdown",
   "id": "7b35cc03-b704-4791-9c22-0eb4dca8ba1f",
   "metadata": {},
   "source": [
    "## eigenvalues example \n",
    "\n",
    "Consider a matrix A and define\n",
    "\n",
    "$$B = A^2$$\n",
    "\n",
    "Is there a function f such that f(B) = A?"
   ]
  },
  {
   "cell_type": "code",
   "execution_count": 169,
   "id": "312e5dc1-c1d4-48ec-b4bc-a278ece82446",
   "metadata": {},
   "outputs": [],
   "source": [
    "# consider a diagonal matrix"
   ]
  },
  {
   "cell_type": "code",
   "execution_count": 173,
   "id": "50a911b9-abe7-452d-b982-656f137830a9",
   "metadata": {},
   "outputs": [],
   "source": [
    "m = numpy.zeros((2, 2))"
   ]
  },
  {
   "cell_type": "code",
   "execution_count": 174,
   "id": "19023afd-f210-4f85-9e21-5c6e62622657",
   "metadata": {},
   "outputs": [
    {
     "data": {
      "text/plain": [
       "array([[3., 0.],\n",
       "       [0., 4.]])"
      ]
     },
     "execution_count": 174,
     "metadata": {},
     "output_type": "execute_result"
    }
   ],
   "source": [
    "m[0, 0] = 3.0\n",
    "m[1, 1] = 4.0\n",
    "m"
   ]
  },
  {
   "cell_type": "code",
   "execution_count": 176,
   "id": "6e35d298-9fda-4111-b3e5-e9807e1db014",
   "metadata": {},
   "outputs": [
    {
     "data": {
      "text/plain": [
       "array([[ 54.,   0.],\n",
       "       [  0., 112.]])"
      ]
     },
     "execution_count": 176,
     "metadata": {},
     "output_type": "execute_result"
    }
   ],
   "source": [
    "m @ m @ m + 3*m@m"
   ]
  },
  {
   "cell_type": "markdown",
   "id": "36fc59f4-8fa9-48a4-8a7d-a9a5f281a148",
   "metadata": {},
   "source": [
    "A diagonal representation of a matrix\n",
    "\n",
    "A x = x * l\n",
    "A = x @ diag(l) @ x.T"
   ]
  },
  {
   "cell_type": "code",
   "execution_count": 179,
   "id": "241cfa1b-6a2c-41c3-ae4f-53b9dc862882",
   "metadata": {},
   "outputs": [],
   "source": [
    "A = numpy.array([[1, 2], [2, 4]])"
   ]
  },
  {
   "cell_type": "code",
   "execution_count": 180,
   "id": "b0e98a84-4fe5-477b-a44d-9a1599ba947e",
   "metadata": {},
   "outputs": [
    {
     "data": {
      "text/plain": [
       "array([[1, 2],\n",
       "       [2, 4]])"
      ]
     },
     "execution_count": 180,
     "metadata": {},
     "output_type": "execute_result"
    }
   ],
   "source": [
    "A"
   ]
  },
  {
   "cell_type": "code",
   "execution_count": 182,
   "id": "eca5d857-5242-4ab9-9805-084f31f8eea9",
   "metadata": {},
   "outputs": [
    {
     "data": {
      "text/plain": [
       "EigResult(eigenvalues=array([0., 5.]), eigenvectors=array([[-0.89442719, -0.4472136 ],\n",
       "       [ 0.4472136 , -0.89442719]]))"
      ]
     },
     "execution_count": 182,
     "metadata": {},
     "output_type": "execute_result"
    }
   ],
   "source": [
    "numpy.linalg.eig(A)"
   ]
  },
  {
   "cell_type": "code",
   "execution_count": 183,
   "id": "997fc49f-1a35-4d6b-9f83-1c9e4e9da849",
   "metadata": {},
   "outputs": [],
   "source": [
    "l, X = numpy.linalg.eig(A)"
   ]
  },
  {
   "cell_type": "code",
   "execution_count": 184,
   "id": "0ff00ab9-4960-4ee3-a95c-df7415a03c08",
   "metadata": {},
   "outputs": [
    {
     "data": {
      "text/plain": [
       "array([0., 5.])"
      ]
     },
     "execution_count": 184,
     "metadata": {},
     "output_type": "execute_result"
    }
   ],
   "source": [
    "l"
   ]
  },
  {
   "cell_type": "code",
   "execution_count": 186,
   "id": "3feba840-2553-4544-8900-b1fb1fdbf83c",
   "metadata": {},
   "outputs": [
    {
     "data": {
      "text/plain": [
       "array([[-0.89442719, -0.4472136 ],\n",
       "       [ 0.4472136 , -0.89442719]])"
      ]
     },
     "execution_count": 186,
     "metadata": {},
     "output_type": "execute_result"
    }
   ],
   "source": [
    "X"
   ]
  },
  {
   "cell_type": "code",
   "execution_count": 187,
   "id": "5d8a1f19-a67b-48f8-ae35-7b7c8bd49dfc",
   "metadata": {},
   "outputs": [
    {
     "data": {
      "text/plain": [
       "array([0., 0.])"
      ]
     },
     "execution_count": 187,
     "metadata": {},
     "output_type": "execute_result"
    }
   ],
   "source": [
    "A @ X[:, 0] "
   ]
  },
  {
   "cell_type": "code",
   "execution_count": 188,
   "id": "5beb9dba-6b83-467a-8561-274dae3fe6a5",
   "metadata": {},
   "outputs": [
    {
     "data": {
      "text/plain": [
       "array([-0.,  0.])"
      ]
     },
     "execution_count": 188,
     "metadata": {},
     "output_type": "execute_result"
    }
   ],
   "source": [
    "X[:, 0] * l[0]"
   ]
  },
  {
   "cell_type": "code",
   "execution_count": 189,
   "id": "f5fb8e55-85cb-4d1a-949d-ac5062d5a026",
   "metadata": {},
   "outputs": [
    {
     "data": {
      "text/plain": [
       "array([-2.23606798, -4.47213595])"
      ]
     },
     "execution_count": 189,
     "metadata": {},
     "output_type": "execute_result"
    }
   ],
   "source": [
    "A @ X[:, 1]"
   ]
  },
  {
   "cell_type": "code",
   "execution_count": 190,
   "id": "2da38673-14e4-46c8-989f-7b082019f09e",
   "metadata": {},
   "outputs": [
    {
     "data": {
      "text/plain": [
       "array([-2.23606798, -4.47213595])"
      ]
     },
     "execution_count": 190,
     "metadata": {},
     "output_type": "execute_result"
    }
   ],
   "source": [
    "X[: , 1] * l[1]"
   ]
  },
  {
   "cell_type": "code",
   "execution_count": 193,
   "id": "88860b88-5d0d-4857-a55b-214f871237c9",
   "metadata": {},
   "outputs": [
    {
     "data": {
      "text/plain": [
       "array([[0., 0.],\n",
       "       [0., 5.]])"
      ]
     },
     "execution_count": 193,
     "metadata": {},
     "output_type": "execute_result"
    }
   ],
   "source": [
    "L = numpy.zeros((2, 2))\n",
    "L[0, 0] = l[0]\n",
    "L[1, 1] = l[1]\n",
    "L"
   ]
  },
  {
   "cell_type": "code",
   "execution_count": 198,
   "id": "a5e8f195-d37e-4c53-ac65-3bd7e380c5a7",
   "metadata": {},
   "outputs": [
    {
     "data": {
      "text/plain": [
       "array([[0., 0.],\n",
       "       [0., 5.]])"
      ]
     },
     "execution_count": 198,
     "metadata": {},
     "output_type": "execute_result"
    }
   ],
   "source": [
    "numpy.diag(l)"
   ]
  },
  {
   "cell_type": "code",
   "execution_count": 194,
   "id": "e0bcca45-4021-4c1d-a022-b43bf8b37458",
   "metadata": {},
   "outputs": [
    {
     "data": {
      "text/plain": [
       "array([[1, 2],\n",
       "       [2, 4]])"
      ]
     },
     "execution_count": 194,
     "metadata": {},
     "output_type": "execute_result"
    }
   ],
   "source": [
    "A"
   ]
  },
  {
   "cell_type": "code",
   "execution_count": 195,
   "id": "b9c8d1d5-00b8-498b-940f-0bb3abbe4b27",
   "metadata": {},
   "outputs": [
    {
     "data": {
      "text/plain": [
       "array([[1., 2.],\n",
       "       [2., 4.]])"
      ]
     },
     "execution_count": 195,
     "metadata": {},
     "output_type": "execute_result"
    }
   ],
   "source": [
    "X @ L @ X.T"
   ]
  },
  {
   "cell_type": "code",
   "execution_count": 196,
   "id": "c8d1a661-0590-42c2-95e5-b3b15dd23363",
   "metadata": {},
   "outputs": [],
   "source": [
    "# generally we have f(A) = X f(L) X.T  , spectral mapping theorem"
   ]
  },
  {
   "cell_type": "code",
   "execution_count": 197,
   "id": "82336e9a-568d-4eef-9b9a-8fbc91ef65e4",
   "metadata": {},
   "outputs": [],
   "source": [
    "# defina the square root function of matrix"
   ]
  },
  {
   "cell_type": "code",
   "execution_count": 205,
   "id": "58998e45-8272-41b5-b6d6-d9fd682409cc",
   "metadata": {},
   "outputs": [],
   "source": [
    "def msqrt(mat):\n",
    "    eigval, eigvec = numpy.linalg.eig(mat)\n",
    "    l = numpy.diag(eigval)\n",
    "    result = eigvec @ numpy.sqrt(l) @ eigvec.T\n",
    "    return result"
   ]
  },
  {
   "cell_type": "code",
   "execution_count": 206,
   "id": "ed3c815a-9e9b-43d3-97f9-d8547d3b1ea9",
   "metadata": {},
   "outputs": [
    {
     "data": {
      "text/plain": [
       "array([[0.4472136 , 0.89442719],\n",
       "       [0.89442719, 1.78885438]])"
      ]
     },
     "execution_count": 206,
     "metadata": {},
     "output_type": "execute_result"
    }
   ],
   "source": [
    "msqrt(A)"
   ]
  },
  {
   "cell_type": "code",
   "execution_count": 207,
   "id": "bca895dd-7d2e-4e25-afba-3643f1870693",
   "metadata": {},
   "outputs": [
    {
     "data": {
      "text/plain": [
       "array([[1., 2.],\n",
       "       [2., 4.]])"
      ]
     },
     "execution_count": 207,
     "metadata": {},
     "output_type": "execute_result"
    }
   ],
   "source": [
    "msqrt(A) @ msqrt(A)"
   ]
  },
  {
   "cell_type": "code",
   "execution_count": null,
   "id": "233c7470-5dd7-4c99-865c-d4aec6fa8233",
   "metadata": {},
   "outputs": [],
   "source": [
    "# Generalization"
   ]
  },
  {
   "cell_type": "code",
   "execution_count": 210,
   "id": "7b2ee48d-9686-4182-9246-427318a8a6cd",
   "metadata": {},
   "outputs": [],
   "source": [
    "def matrix_function(f, mat):\n",
    "    eigval, eigvec = numpy.linalg.eig(mat)\n",
    "    l = numpy.diag(eigval)\n",
    "    result = eigvec @ f(l) @ eigvec.T\n",
    "    return result"
   ]
  },
  {
   "cell_type": "code",
   "execution_count": 212,
   "id": "5aaffad0-ac6b-4a43-88ed-c1d52cf045c3",
   "metadata": {},
   "outputs": [
    {
     "data": {
      "text/plain": [
       "array([[0.4472136 , 0.89442719],\n",
       "       [0.89442719, 1.78885438]])"
      ]
     },
     "execution_count": 212,
     "metadata": {},
     "output_type": "execute_result"
    }
   ],
   "source": [
    "matrix_function(numpy.sqrt, A)"
   ]
  },
  {
   "cell_type": "code",
   "execution_count": null,
   "id": "8cc5d1e9-7070-43d0-988c-6b6dbd51df1c",
   "metadata": {},
   "outputs": [],
   "source": []
  }
 ],
 "metadata": {
  "kernelspec": {
   "display_name": "Python 3 (ipykernel)",
   "language": "python",
   "name": "python3"
  },
  "language_info": {
   "codemirror_mode": {
    "name": "ipython",
    "version": 3
   },
   "file_extension": ".py",
   "mimetype": "text/x-python",
   "name": "python",
   "nbconvert_exporter": "python",
   "pygments_lexer": "ipython3",
   "version": "3.12.2"
  }
 },
 "nbformat": 4,
 "nbformat_minor": 5
}
