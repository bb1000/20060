{
 "cells": [
  {
   "cell_type": "markdown",
   "metadata": {},
   "source": [
    "Before you turn this problem in, make sure everything runs as expected. First, **restart the kernel** (in the menubar, select Kernel$\\rightarrow$Restart) and then **run all cells** (in the menubar, select Cell$\\rightarrow$Run All).\n",
    "\n",
    "Make sure you fill in any place that says `YOUR CODE HERE` or \"YOUR ANSWER HERE\", as well as your name and collaborators below:"
   ]
  },
  {
   "cell_type": "code",
   "execution_count": null,
   "metadata": {},
   "outputs": [],
   "source": [
    "NAME = \"\""
   ]
  },
  {
   "cell_type": "markdown",
   "metadata": {},
   "source": [
    "---"
   ]
  },
  {
   "cell_type": "markdown",
   "metadata": {
    "deletable": false,
    "editable": false,
    "nbgrader": {
     "cell_type": "markdown",
     "checksum": "7f7fe35443d4e25a7a33502472dc50e3",
     "grade": false,
     "grade_id": "cell-6f1643b6dad0028b",
     "locked": true,
     "schema_version": 3,
     "solution": false,
     "task": false
    }
   },
   "source": [
    "# Advanced concepts\n",
    "\n",
    "\n",
    "This lab provides exercises for decorators and iterators. Complete the assignments and return this notebook and return to Canvas"
   ]
  },
  {
   "cell_type": "code",
   "execution_count": null,
   "metadata": {},
   "outputs": [],
   "source": [
    "import colorama"
   ]
  },
  {
   "cell_type": "markdown",
   "metadata": {
    "deletable": false,
    "editable": false,
    "nbgrader": {
     "cell_type": "markdown",
     "checksum": "dae1a62cc4a5cb932e44f7a3b958c3b8",
     "grade": false,
     "grade_id": "cell-b30da7003d2d1508",
     "locked": true,
     "schema_version": 3,
     "solution": false,
     "task": false
    }
   },
   "source": [
    "## Context managers\n",
    "\n",
    "Context managers are statements with a `with` block and are implemented by classes with `__enter__` and `__exit__` methods. The official documentation is at https://docs.python.org/3/library/stdtypes.html#context-manager-types"
   ]
  },
  {
   "cell_type": "markdown",
   "metadata": {
    "deletable": false,
    "editable": false,
    "nbgrader": {
     "cell_type": "markdown",
     "checksum": "2ddb102e518f1c2afa7b1b8963f07699",
     "grade": false,
     "grade_id": "cell-2bb4c30693fb9874",
     "locked": true,
     "schema_version": 3,
     "solution": false,
     "task": false
    }
   },
   "source": [
    "### Assignment 1\n",
    "\n",
    "Consider the color codes from the colorama package\n",
    "They have the property illustrated by the following block:"
   ]
  },
  {
   "cell_type": "code",
   "execution_count": 1,
   "metadata": {
    "deletable": false,
    "editable": false,
    "nbgrader": {
     "cell_type": "code",
     "checksum": "fd40f124c3d5fd5aeeb378fdcd947ad9",
     "grade": false,
     "grade_id": "cell-f860c50d7b8a7ad7",
     "locked": true,
     "schema_version": 3,
     "solution": false,
     "task": false
    }
   },
   "outputs": [
    {
     "name": "stdout",
     "output_type": "stream",
     "text": [
      "\u001b[32myes \u001b[31mno \u001b[39mmaybe\n"
     ]
    }
   ],
   "source": [
    "from colorama import Fore\n",
    "GREEN = Fore.GREEN\n",
    "RED = Fore.RED\n",
    "RESET = Fore.RESET\n",
    "print (f'{GREEN}yes {RED}no {RESET}maybe')"
   ]
  },
  {
   "cell_type": "markdown",
   "metadata": {
    "deletable": false,
    "editable": false,
    "nbgrader": {
     "cell_type": "markdown",
     "checksum": "5f0242ecfae613b3d01ca645ab7db49f",
     "grade": false,
     "grade_id": "cell-be04aaf62c75a44b",
     "locked": true,
     "schema_version": 3,
     "solution": false,
     "task": false
    }
   },
   "source": [
    "Complete a context manager that changes the color of the output such that\n",
    "\n",
    "<code>\n",
    ">>> with Color(RED):\n",
    "...     print('hello')    \n",
    "<span style=\"color:red\">hello</span>\n",
    ">>> with Color(GREEN):\n",
    "...     print('hello')    \n",
    "<span style=\"color:green\">hello</span>\n",
    ">>> print('Back to normal')\n",
    "Back to normal\n",
    "</code>\n"
   ]
  },
  {
   "cell_type": "code",
   "execution_count": 9,
   "metadata": {
    "deletable": false,
    "nbgrader": {
     "cell_type": "code",
     "checksum": "f88ac4e22e744986e77b4f01d0fc2046",
     "grade": false,
     "grade_id": "cell-e1388e8c145cd2ca",
     "locked": false,
     "schema_version": 3,
     "solution": true,
     "task": false
    }
   },
   "outputs": [],
   "source": [
    "class Color:\n",
    "    def __init__(self, color):\n",
    "        # YOUR CODE HERE\n",
    "        ################\n",
    "        self.color = color\n",
    "        \n",
    "    def __enter__(self):\n",
    "        # YOUR CODE HERE\n",
    "        ################\n",
    "        print(self.color, end='')\n",
    "        \n",
    "    def __exit__(self, *args):\n",
    "        print(RESET, end='')"
   ]
  },
  {
   "cell_type": "code",
   "execution_count": 12,
   "metadata": {},
   "outputs": [
    {
     "name": "stdout",
     "output_type": "stream",
     "text": [
      "\u001b[31mHello\n",
      "World\n",
      "\u001b[39mBye\n"
     ]
    }
   ],
   "source": [
    "with Color(RED):\n",
    "    print('Hello')\n",
    "    print('World')\n",
    "print(\"Bye\")"
   ]
  },
  {
   "cell_type": "code",
   "execution_count": 10,
   "metadata": {
    "deletable": false,
    "editable": false,
    "nbgrader": {
     "cell_type": "code",
     "checksum": "af1ed01bed362fb1fd1510639256446d",
     "grade": true,
     "grade_id": "cell-73773482ff268d10",
     "locked": true,
     "points": 1,
     "schema_version": 3,
     "solution": false,
     "task": false
    }
   },
   "outputs": [
    {
     "name": "stdout",
     "output_type": "stream",
     "text": [
      "\u001b[31mRed day\n",
      "\u001b[39m\u001b[32mGreen forest\n",
      "\u001b[39mBack to normal\n"
     ]
    }
   ],
   "source": [
    "# Verifies that you get color output\n",
    "\n",
    "\n",
    "with Color(RED):\n",
    "    print('Red day')\n",
    "    \n",
    "with Color(GREEN):\n",
    "    print('Green forest')\n",
    "    \n",
    "print(\"Back to normal\")\n",
    "    "
   ]
  },
  {
   "cell_type": "markdown",
   "metadata": {
    "deletable": false,
    "editable": false,
    "nbgrader": {
     "cell_type": "markdown",
     "checksum": "6b9896e3513f9d3bb14f1bb2e54a6b6a",
     "grade": false,
     "grade_id": "cell-781f8d6836da605c",
     "locked": true,
     "schema_version": 3,
     "solution": false,
     "task": false
    }
   },
   "source": [
    "## Decorators\n",
    "\n",
    "A decorator is a function that modifies the behaviour of another function. The syntax\n",
    "\n",
    "~~~\n",
    "@decorator1\n",
    "@decorator2\n",
    "def f():\n",
    "   ...\n",
    "~~~\n",
    "\n",
    "is so called syntactic sugar for\n",
    "\n",
    "~~~\n",
    "def f():\n",
    "    ...\n",
    "~~~\n",
    "\n",
    "f = decorator1(decorator2(f))\n",
    "\n",
    "The first form is convenient for our own code, but the second form must be used when we do not have the source at hand, e.g. for built-in functions"
   ]
  },
  {
   "cell_type": "markdown",
   "metadata": {
    "deletable": false,
    "editable": false,
    "nbgrader": {
     "cell_type": "markdown",
     "checksum": "a4f3c842d2f3669de365e39384eef856",
     "grade": false,
     "grade_id": "cell-90642a3cff5d3e71",
     "locked": true,
     "schema_version": 3,
     "solution": false,
     "task": false
    }
   },
   "source": [
    "### Assignment 2\n",
    "\n",
    "Repeat the functionality of Assignment1 for decorators such that a decorated function gets color output:\n",
    "\n",
    "<code>\n",
    "@print_in_red\n",
    "def hello():\n",
    "    print(\"Hello world!\")\n",
    "</code>\n",
    "\n",
    "<code>\n",
    ">>> hello()\n",
    "<span style=\"color:red\">Hello world!</span>\n",
    "</code>\n",
    ">>>"
   ]
  },
  {
   "cell_type": "code",
   "execution_count": null,
   "metadata": {
    "deletable": false,
    "nbgrader": {
     "cell_type": "code",
     "checksum": "3c78e9cc8243770b5764392f5701d206",
     "grade": false,
     "grade_id": "cell-1282ae349daeef71",
     "locked": false,
     "schema_version": 3,
     "solution": true,
     "task": false
    }
   },
   "outputs": [],
   "source": [
    "def print_in_red(f):\n",
    "    # YOUR CODE HERE\n",
    "    ################\n",
    "    "
   ]
  },
  {
   "cell_type": "code",
   "execution_count": null,
   "metadata": {
    "deletable": false,
    "editable": false,
    "nbgrader": {
     "cell_type": "code",
     "checksum": "f16664ab44967fa451ccd238aa47594c",
     "grade": true,
     "grade_id": "cell-19eb7c83720e263e",
     "locked": true,
     "points": 1,
     "schema_version": 3,
     "solution": false,
     "task": false
    }
   },
   "outputs": [],
   "source": [
    "# Verify that you get color output\n",
    "\n",
    "@print_in_red\n",
    "def hello():\n",
    "    print(\"Hello world!\")\n",
    "     \n",
    "hello()\n"
   ]
  },
  {
   "cell_type": "markdown",
   "metadata": {
    "deletable": false,
    "editable": false,
    "nbgrader": {
     "cell_type": "markdown",
     "checksum": "5d0b52232bb53183da019c18030ae0d1",
     "grade": false,
     "grade_id": "cell-47232d48af8aa4c3",
     "locked": true,
     "schema_version": 3,
     "solution": false,
     "task": false
    }
   },
   "source": [
    "## Iterators/generators"
   ]
  },
  {
   "cell_type": "markdown",
   "metadata": {
    "deletable": false,
    "editable": false,
    "nbgrader": {
     "cell_type": "markdown",
     "checksum": "d68ffedfd949ad04b37e0f079975d3c1",
     "grade": false,
     "grade_id": "cell-c4f3058d70f72b3e",
     "locked": true,
     "schema_version": 3,
     "solution": false,
     "task": false
    }
   },
   "source": [
    "### Assignment 3\n",
    "\n",
    "The `datetime` module contains a number of helper function to handle dates and times. Here we will use the `date` and `timedelta` objects. \n",
    "\n",
    "* `date` objects refers to date information with year/month/day and more\n",
    "* `timedelta` objects are differences between two dates (or date-times). They can be added to date objects to obtain new dates in some future.\n",
    "\n",
    "Example of how they work is"
   ]
  },
  {
   "cell_type": "code",
   "execution_count": null,
   "metadata": {
    "deletable": false,
    "editable": false,
    "nbgrader": {
     "cell_type": "code",
     "checksum": "a311508ef8354b1d5a6d5a957337ec66",
     "grade": false,
     "grade_id": "cell-8ccf90094351250e",
     "locked": true,
     "schema_version": 3,
     "solution": false,
     "task": false
    }
   },
   "outputs": [],
   "source": [
    "import datetime\n",
    "today = datetime.date.today()\n",
    "today"
   ]
  },
  {
   "cell_type": "code",
   "execution_count": null,
   "metadata": {
    "deletable": false,
    "editable": false,
    "nbgrader": {
     "cell_type": "code",
     "checksum": "48fd6a2d7ad59a7388d04e43428363b5",
     "grade": false,
     "grade_id": "cell-c54567b5833bbcfd",
     "locked": true,
     "schema_version": 3,
     "solution": false,
     "task": false
    }
   },
   "outputs": [],
   "source": [
    "week = datetime.timedelta(days=7)\n",
    "today + week"
   ]
  },
  {
   "cell_type": "markdown",
   "metadata": {
    "deletable": false,
    "editable": false,
    "nbgrader": {
     "cell_type": "markdown",
     "checksum": "ebd532787e3311513f174ce13eb99a9c",
     "grade": false,
     "grade_id": "cell-f170adc352540a10",
     "locked": true,
     "schema_version": 3,
     "solution": false,
     "task": false
    }
   },
   "source": [
    "Write a generator that returns the dates a number of weeks from now, in string format using `isoformat` method"
   ]
  },
  {
   "cell_type": "code",
   "execution_count": null,
   "metadata": {
    "deletable": false,
    "nbgrader": {
     "cell_type": "code",
     "checksum": "30e8c4c1b733010a85df66af36739512",
     "grade": false,
     "grade_id": "cell-03b5401cc183bf8e",
     "locked": false,
     "schema_version": 3,
     "solution": true,
     "task": false
    }
   },
   "outputs": [],
   "source": [
    "def date_weeks_ahead(starting_date, number_of_weeks):\n",
    "    # YOUR CODE HERE\n",
    "    ################"
   ]
  },
  {
   "cell_type": "code",
   "execution_count": null,
   "metadata": {
    "deletable": false,
    "editable": false,
    "nbgrader": {
     "cell_type": "code",
     "checksum": "acdc3c4e125b18562139a34b868d4ae8",
     "grade": true,
     "grade_id": "cell-b42fc950abbaa239",
     "locked": true,
     "points": 1,
     "schema_version": 3,
     "solution": false,
     "task": false
    }
   },
   "outputs": [],
   "source": [
    "today = datetime.date(2022, 3, 4)\n",
    "actual = list(date_weeks_ahead(today, 4))\n",
    "expected = ['2022-03-11', '2022-03-18', '2022-03-25', '2022-04-01']\n",
    "assert actual == expected, f'{actual} != {expected}'"
   ]
  }
 ],
 "metadata": {
  "kernelspec": {
   "display_name": "Python 3 (ipykernel)",
   "language": "python",
   "name": "python3"
  },
  "language_info": {
   "codemirror_mode": {
    "name": "ipython",
    "version": 3
   },
   "file_extension": ".py",
   "mimetype": "text/x-python",
   "name": "python",
   "nbconvert_exporter": "python",
   "pygments_lexer": "ipython3",
   "version": "3.12.2"
  }
 },
 "nbformat": 4,
 "nbformat_minor": 4
}
