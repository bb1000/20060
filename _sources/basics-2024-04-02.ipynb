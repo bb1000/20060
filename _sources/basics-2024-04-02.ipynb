{
 "cells": [
  {
   "cell_type": "markdown",
   "metadata": {},
   "source": [
    "Before you turn this problem in, make sure everything runs as expected. First, **restart the kernel** (in the menubar, select Kernel$\\rightarrow$Restart) and then **run all cells** (in the menubar, select Cell$\\rightarrow$Run All).\n"
   ]
  },
  {
   "cell_type": "code",
   "execution_count": null,
   "metadata": {},
   "outputs": [],
   "source": [
    "NAME = \"\""
   ]
  },
  {
   "cell_type": "markdown",
   "metadata": {},
   "source": [
    "---"
   ]
  },
  {
   "cell_type": "markdown",
   "metadata": {},
   "source": [
    "## Lab: basic Python syntax\n"
   ]
  },
  {
   "cell_type": "markdown",
   "metadata": {
    "deletable": false,
    "editable": false,
    "nbgrader": {
     "cell_type": "markdown",
     "checksum": "e85f0c544c5fd752b49cb220ce12171a",
     "grade": false,
     "grade_id": "cell-d841305055b00f7f",
     "locked": true,
     "schema_version": 3,
     "solution": false
    }
   },
   "source": [
    "#### Exercise 1\n",
    "Write a function 'mymax' that accepts two numbers as parameters and that prints the larger number to the screen. For this elementary exercise, do not use the built-in function 'max()' - just revert to elementary expressions and statements."
   ]
  },
  {
   "cell_type": "code",
   "execution_count": 12,
   "metadata": {
    "deletable": false,
    "nbgrader": {
     "cell_type": "code",
     "checksum": "ff93861295afaa5f7754e2f52433b712",
     "grade": false,
     "grade_id": "cell-ee8c56c7cc588b03",
     "locked": false,
     "schema_version": 3,
     "solution": true
    }
   },
   "outputs": [
    {
     "data": {
      "text/plain": [
       "6"
      ]
     },
     "execution_count": 12,
     "metadata": {},
     "output_type": "execute_result"
    }
   ],
   "source": [
    "def mymax(x, y):\n",
    "    \"\"\"\n",
    "    Returns the maximum of x and y\n",
    "    \"\"\"\n",
    "    #print(max(x, y))\n",
    "    #return max(x, y)\n",
    "    if x > y:\n",
    "        result = x\n",
    "    else:\n",
    "        result = y\n",
    "    return result\n",
    "\n",
    "mymax(2, 6)\n",
    "    "
   ]
  },
  {
   "cell_type": "code",
   "execution_count": 13,
   "metadata": {
    "deletable": false,
    "editable": false,
    "nbgrader": {
     "cell_type": "code",
     "checksum": "d816ded16e2ccdae9536103e94c95f5e",
     "grade": true,
     "grade_id": "cell-304328f9c7d4c051",
     "locked": true,
     "points": 1,
     "schema_version": 3,
     "solution": false
    }
   },
   "outputs": [],
   "source": [
    "# Verifies the function mymax\n",
    "\n",
    "calculated = mymax(2, 6)\n",
    "expected = 6\n",
    "assert calculated == expected, f'{calculated=} != {expected=}'\n",
    "\n",
    "calculated = mymax(5, 3)\n",
    "expected = 5\n",
    "assert calculated == expected, f'{calculated=} != {expected=}'"
   ]
  },
  {
   "cell_type": "code",
   "execution_count": 14,
   "metadata": {
    "deletable": false,
    "editable": false,
    "nbgrader": {
     "cell_type": "code",
     "checksum": "554f8bcaf9329c23b3b5554434609f40",
     "grade": true,
     "grade_id": "cell-3de8d447b6562bf0",
     "locked": true,
     "points": 1,
     "schema_version": 3,
     "solution": false,
     "task": false
    }
   },
   "outputs": [],
   "source": [
    "# Verifies that built-in max has not been used\n",
    "\n",
    "import unittest.mock\n",
    "with unittest.mock.patch('__main__.max') as mockmax:\n",
    "    mymax(2, 6)\n",
    "mockmax.assert_not_called()"
   ]
  },
  {
   "cell_type": "markdown",
   "metadata": {
    "deletable": false,
    "editable": false,
    "nbgrader": {
     "cell_type": "markdown",
     "checksum": "ab8d45123f6ba4f80724423578c7cb99",
     "grade": false,
     "grade_id": "cell-7e57cd736d5abc19",
     "locked": true,
     "schema_version": 3,
     "solution": false
    }
   },
   "source": [
    "#### Exercise 2\n",
    "\n",
    "Write a function to sum the elements of a sequence with a for loop. You can assume that it consists of numeric values. Do not use the builtin sum function"
   ]
  },
  {
   "cell_type": "code",
   "execution_count": 26,
   "metadata": {
    "deletable": false,
    "nbgrader": {
     "cell_type": "code",
     "checksum": "65844e17f504dac47763508a8bd44fe5",
     "grade": false,
     "grade_id": "cell-5ac58bb5e671db91",
     "locked": false,
     "schema_version": 3,
     "solution": true,
     "task": false
    }
   },
   "outputs": [],
   "source": [
    "def mysum(sequence):\n",
    "    \"\"\"\n",
    "    Returns the sum of the elements in sequence\n",
    "    \"\"\"\n",
    "    #return sum(sequence)\n",
    "    result = 0\n",
    "    for item in sequence:\n",
    "        print(item)\n",
    "        #result = result + item\n",
    "        result += item\n",
    "\n",
    "    return result"
   ]
  },
  {
   "cell_type": "code",
   "execution_count": 27,
   "metadata": {
    "deletable": false,
    "editable": false,
    "nbgrader": {
     "cell_type": "code",
     "checksum": "4580ce98acfc0b2caef65c95c88e8381",
     "grade": true,
     "grade_id": "cell-24ac435261756312",
     "locked": true,
     "points": 1,
     "schema_version": 3,
     "solution": false
    }
   },
   "outputs": [
    {
     "name": "stdout",
     "output_type": "stream",
     "text": [
      "1\n",
      "2\n",
      "1\n",
      "0.5\n",
      "0.25\n"
     ]
    }
   ],
   "source": [
    "# Verifies mysum\n",
    "\n",
    "calculated = mysum([1, 2])\n",
    "expected = 3\n",
    "assert calculated == expected, f'{calculated=} != {expected=}'\n",
    "\n",
    "calculated = mysum((1, 1/2, 1/4))\n",
    "expected = 1.75\n",
    "assert calculated == expected, f'{calculated=} != {expected=}'\n"
   ]
  },
  {
   "cell_type": "code",
   "execution_count": 28,
   "metadata": {
    "deletable": false,
    "editable": false,
    "nbgrader": {
     "cell_type": "code",
     "checksum": "d38c846fc0158378016e536b7f5fc3dc",
     "grade": true,
     "grade_id": "cell-f3e385c711f70755",
     "locked": true,
     "points": 1,
     "schema_version": 3,
     "solution": false,
     "task": false
    }
   },
   "outputs": [
    {
     "name": "stdout",
     "output_type": "stream",
     "text": [
      "2\n",
      "6\n"
     ]
    }
   ],
   "source": [
    "# Verifies that built-in sum has not been used\n",
    "\n",
    "import unittest.mock\n",
    "with unittest.mock.patch('__main__.sum') as mocksum:\n",
    "    mysum((2, 6))\n",
    "mocksum.assert_not_called()"
   ]
  },
  {
   "cell_type": "markdown",
   "metadata": {
    "deletable": false,
    "editable": false,
    "nbgrader": {
     "cell_type": "markdown",
     "checksum": "e43659c9c20ea4a87c5413a48835b92b",
     "grade": false,
     "grade_id": "cell-0fcb64dce5cad45f",
     "locked": true,
     "schema_version": 3,
     "solution": false
    }
   },
   "source": [
    "#### Exercise 3\n",
    "\n",
    "Variables of `str` type has a method `join` defined such that when a sequence (e.g. `list`, `tuple`) of strings is given as an argument, they are concatenated to a single string with the variable as a separator. E.g.\n",
    "\n",
    "    >>> separator = '-'\n",
    "    >>> separator.join(['father', 'in', 'law'])\n",
    "    'father-in-law'\n",
    "\n",
    "    >>> separator = '\\n'\n",
    "    >>> separator.join(['father', 'in', 'law'])\n",
    "    'father\\nin\\nlaw'\n",
    "    \n",
    "    >>> print(separator.join(['father', 'in', 'law']))\n",
    "    father\n",
    "    in\n",
    "    law\n",
    "\n",
    "\n",
    "Use the `join` to generate a histogram with stars such that \n",
    "\n",
    "    histogram([3, 4, 1]) \n",
    "    \n",
    "returns\n",
    "\n",
    "    ***\n",
    "    ****\n",
    "    *\n",
    "\n",
    "Hint: make use of the fact that a character multiplied by a number gives\n",
    "\n",
    "    >>> 3 * '*'\n",
    "    ***\n",
    "    \n",
    "and generate a list within the function that can be passed to the join function"
   ]
  },
  {
   "cell_type": "code",
   "execution_count": null,
   "metadata": {
    "deletable": false,
    "nbgrader": {
     "cell_type": "code",
     "checksum": "c43488dd8526194ccc2bdcf78559c5b6",
     "grade": false,
     "grade_id": "cell-631ae09a389a66d4",
     "locked": false,
     "schema_version": 3,
     "solution": true
    }
   },
   "outputs": [],
   "source": [
    "def histogram(sequence):\n",
    "    \"\"\"\n",
    "    Returns histogram in the form of characters\n",
    "    \n",
    "    >>> histogram([3, 4, 1])\n",
    "    ***\n",
    "    ****\n",
    "    *\n",
    "    \n",
    "    \"\"\"\n",
    "    \n",
    "    \n",
    "\n",
    "print(f'Example: the histogram of [3, 4, 1] is \\n{histogram([3, 4, 1])}')"
   ]
  },
  {
   "cell_type": "code",
   "execution_count": null,
   "metadata": {
    "deletable": false,
    "editable": false,
    "nbgrader": {
     "cell_type": "code",
     "checksum": "5e949f83cee840a19b83789c65d6c6f2",
     "grade": true,
     "grade_id": "cell-901ea19debe3ee4c",
     "locked": true,
     "points": 1,
     "schema_version": 3,
     "solution": false
    }
   },
   "outputs": [],
   "source": [
    "calculated = histogram([])\n",
    "expected = \"\"\n",
    "assert calculated == expected, f'{calculated=} != {expected=}'\n",
    "\n",
    "calculated = histogram([1, 2])\n",
    "expected = \"*\\n**\"\n",
    "assert calculated == expected, f'{calculated=} != {expected=}'\n",
    "\n",
    "calculated = histogram([1, 2, 3])\n",
    "expected = \"*\\n**\\n***\"\n",
    "assert calculated == expected, f'{calculated=} != {expected=}'"
   ]
  },
  {
   "cell_type": "markdown",
   "metadata": {
    "deletable": false,
    "editable": false,
    "nbgrader": {
     "cell_type": "markdown",
     "checksum": "9ac20f3e33cc51d8873efe3aaf431360",
     "grade": false,
     "grade_id": "cell-191cda8f80a291fe",
     "locked": true,
     "schema_version": 3,
     "solution": false
    }
   },
   "source": [
    "#### Exercise 4\n",
    "\n",
    "Compute how many times a character is present in a string. Use a dictionary to represent the string. "
   ]
  },
  {
   "cell_type": "code",
   "execution_count": null,
   "metadata": {
    "deletable": false,
    "nbgrader": {
     "cell_type": "code",
     "checksum": "83b50ff0fd6b1c793be9d71f83516830",
     "grade": false,
     "grade_id": "cell-94b1ecc182583f9b",
     "locked": false,
     "schema_version": 3,
     "solution": true
    }
   },
   "outputs": [],
   "source": [
    "def character_count(text):\n",
    "    \"\"\"\n",
    "    Returns character count of text\n",
    "    Input: text of type str\n",
    "    Output: dict that maps a character to a number count\n",
    "    \"\"\"\n",
    "    \n",
    "    \n",
    "\n",
    "print(f\"Example: Character count of 'ABBA': {character_count('ABBA')} \\nExpected {{'A': 2, 'B': 2}}\")"
   ]
  },
  {
   "cell_type": "code",
   "execution_count": null,
   "metadata": {
    "deletable": false,
    "editable": false,
    "nbgrader": {
     "cell_type": "code",
     "checksum": "3690e07db4877c67ce567668a19d7953",
     "grade": true,
     "grade_id": "cell-2a787760db753909",
     "locked": true,
     "points": 1,
     "schema_version": 3,
     "solution": false
    }
   },
   "outputs": [],
   "source": [
    "# Verification\n",
    "\n",
    "calculated = character_count(\"ABBA\")\n",
    "expected = {\"A\": 2, \"B\": 2}\n",
    "assert calculated == expected, f'{calculated=} != {expected=}'\n",
    "\n",
    "calculated = character_count(\"CCGGAAGAGCTTACTTAG\")\n",
    "expected = {\"A\": 5, \"C\": 4, \"G\": 5, \"T\": 4}\n",
    "assert calculated == expected, f'{calculated=} != {expected=}'"
   ]
  },
  {
   "cell_type": "markdown",
   "metadata": {
    "deletable": false,
    "editable": false,
    "nbgrader": {
     "cell_type": "markdown",
     "checksum": "8bf8dfb6fdd1febab23a4d66b19d6777",
     "grade": false,
     "grade_id": "cell-e61ece745b1ea220",
     "locked": true,
     "schema_version": 3,
     "solution": false
    }
   },
   "source": [
    "#### Exercise 5\n",
    "\n",
    "A simple encryption scheme known as Caesarian roll, is obtained by shifting characters a fixed amount. In Python we can obtain the order of a character with the `ord` function\n",
    "\n",
    "    >>> ord('A')\n",
    "    65\n",
    "    \n",
    "and there reverse operation\n",
    "\n",
    "    >>> chr(65)\n",
    "    'A' \n",
    "    \n",
    "Use this in a function that takes a string and returns the encrypted representation"
   ]
  },
  {
   "cell_type": "code",
   "execution_count": null,
   "metadata": {
    "deletable": false,
    "nbgrader": {
     "cell_type": "code",
     "checksum": "00c18c7431d507ede613ad6bee24548d",
     "grade": false,
     "grade_id": "cell-95b86ffef93462ec",
     "locked": false,
     "schema_version": 3,
     "solution": true
    }
   },
   "outputs": [],
   "source": [
    "def caesar_shift(text, n):\n",
    "    \"\"\"\n",
    "    Returns an encrypted string by shifting input characters by n\n",
    "    \"\"\"\n",
    "    "
   ]
  },
  {
   "cell_type": "code",
   "execution_count": null,
   "metadata": {
    "deletable": false,
    "editable": false,
    "nbgrader": {
     "cell_type": "code",
     "checksum": "86375f9ec8d76a72f9785ecb6d8c359c",
     "grade": true,
     "grade_id": "cell-4403018cd26de943",
     "locked": true,
     "points": 1,
     "schema_version": 3,
     "solution": false
    }
   },
   "outputs": [],
   "source": [
    "# Verification\n",
    "\n",
    "calculated = caesar_shift('a', 0)\n",
    "expected = 'a'\n",
    "assert calculated == expected, f'{calculated=} != {expected=}'\n",
    "\n",
    "calculated = caesar_shift('ABBA', 2)\n",
    "expected = 'CDDC'\n",
    "assert calculated == expected, f'{calculated=} != {expected=}'"
   ]
  }
 ],
 "metadata": {
  "kernelspec": {
   "display_name": "Python 3 (ipykernel)",
   "language": "python",
   "name": "python3"
  },
  "language_info": {
   "codemirror_mode": {
    "name": "ipython",
    "version": 3
   },
   "file_extension": ".py",
   "mimetype": "text/x-python",
   "name": "python",
   "nbconvert_exporter": "python",
   "pygments_lexer": "ipython3",
   "version": "3.12.2"
  }
 },
 "nbformat": 4,
 "nbformat_minor": 4
}
