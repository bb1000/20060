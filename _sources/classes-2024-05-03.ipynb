{
 "cells": [
  {
   "cell_type": "markdown",
   "metadata": {},
   "source": [
    "Before you turn this problem in, make sure everything runs as expected. First, **restart the kernel** (in the menubar, select Kernel$\\rightarrow$Restart) and then **run all cells** (in the menubar, select Cell$\\rightarrow$Run All).\n",
    "\n",
    "Make sure you fill in any place that says `YOUR CODE HERE` or \"YOUR ANSWER HERE\", as well as your name and collaborators below:"
   ]
  },
  {
   "cell_type": "code",
   "execution_count": null,
   "metadata": {},
   "outputs": [],
   "source": [
    "NAME = \"\"\n",
    "COLLABORATORS = \"\""
   ]
  },
  {
   "cell_type": "markdown",
   "metadata": {},
   "source": [
    "---"
   ]
  },
  {
   "cell_type": "markdown",
   "metadata": {
    "deletable": false,
    "editable": false,
    "nbgrader": {
     "cell_type": "markdown",
     "checksum": "e253c1c5c3a4c819d20079c93585b929",
     "grade": false,
     "grade_id": "cell-5930d298e0fb0e89",
     "locked": true,
     "schema_version": 3,
     "solution": false,
     "task": false
    }
   },
   "source": [
    "# Using classes in Python\n",
    "\n",
    "* Date: 2023-02-20\n",
    "* Deadline: 2023-02-27\n",
    "\n",
    "## 1. Create class for 3D vector \n",
    "\n",
    "Create a class for storing a 3D vector (x, y, z coordinates), and which provides a set of functions for manipulating the coordinates.  \n",
    "\n",
    "* Implement class Vector3D which has the following properties:\n",
    "\n",
    "### a. instance attributes\n",
    "\n",
    "- coord_x stores x coordinate\n",
    "- coord_y stores y coordinate\n",
    "- coord_z stores z coordinate\n",
    "    \n",
    "### b. instance methods\n",
    "\n",
    "- length() : computes length of vector* \n",
    "- renormalize()   : renormalizes vector to unit length vector*\n",
    "- for square root use sqrt function from math library\n",
    "\n",
    "### c. Overloaded operations  \n",
    "\n",
    "- addition operator(+)     : implement `__add__` method \n",
    "- substraction operator(-) : implement `__sub__` method \n",
    "\n",
    "    "
   ]
  },
  {
   "cell_type": "code",
   "execution_count": null,
   "metadata": {
    "deletable": false,
    "nbgrader": {
     "cell_type": "code",
     "checksum": "f56438fcd8aabfacd651d7d1083f8fef",
     "grade": false,
     "grade_id": "cell-106104681ce80401",
     "locked": false,
     "schema_version": 3,
     "solution": true
    }
   },
   "outputs": [],
   "source": [
    "import math\n",
    "\n",
    "class Vector3D:\n",
    "    \"\"\"\n",
    "    Class for manipulation of 3D-vectors\n",
    "    \n",
    "    instance attributes:\n",
    "        coord_x, coord_y, coord_z (float)\n",
    "    \n",
    "    class methods\n",
    "        length (float): returns Euclidean norm of vector\n",
    "        normalize (None): scales coordinates so that resulting vector has length 1\n",
    "        __add__ (Vector3D) returns new vector as vector sum of two vectors\n",
    "        __sub__ (Vector3D) returns new vector as vector difference of two vectors\n",
    "        __repr__: string representation of vector\n",
    "\n",
    "    \"\"\"\n",
    "    # YOUR CODE HERE\n",
    "    ################\n",
    "\n",
    "    \n",
    "    "
   ]
  },
  {
   "cell_type": "markdown",
   "metadata": {},
   "source": [
    "### a. instance attributes\n",
    "\n",
    "* coord_x stores x coordinate\n",
    "* coord_y stores y coordinate\n",
    "* coord_z stores z coordinate\n"
   ]
  },
  {
   "cell_type": "code",
   "execution_count": null,
   "metadata": {
    "deletable": false,
    "editable": false,
    "nbgrader": {
     "cell_type": "code",
     "checksum": "0659b6fc53733ae2a632b56d14659108",
     "grade": true,
     "grade_id": "cell-e8becee65f92a575",
     "locked": true,
     "points": 1,
     "schema_version": 3,
     "solution": false
    }
   },
   "outputs": [],
   "source": [
    "# Verify Vector3D constructor\n",
    "from pytest import approx\n",
    "vector = Vector3D(1.0, 2.0, 4.0)\n",
    "\n",
    "assert vector.coord_x == approx(1), f'{vector.coord_x=} != 1'\n",
    "assert vector.coord_y == approx(2), f'{vector.coord_y=} != 2'\n",
    "assert vector.coord_z == approx(4), f'{vector.coord_z=} != 4'"
   ]
  },
  {
   "cell_type": "markdown",
   "metadata": {},
   "source": [
    "### b. instance methods\n",
    "\n",
    "- length() : computes length of vector* \n",
    "- renormalize()   : renormalizes vector to unit length vector*"
   ]
  },
  {
   "cell_type": "code",
   "execution_count": null,
   "metadata": {
    "deletable": false,
    "editable": false,
    "nbgrader": {
     "cell_type": "code",
     "checksum": "03b16a862ae24b4b8dd2747fa962fdea",
     "grade": true,
     "grade_id": "cell-3328f70c25343894",
     "locked": true,
     "points": 1,
     "schema_version": 3,
     "solution": false
    }
   },
   "outputs": [],
   "source": [
    "# Verify length method in Vector3D class \n",
    "vector = Vector3D(1.0, 2.0, 4.0)\n",
    "\n",
    "assert vector.length()**2 == approx(21), f'{vector.length()**2=} != 21'"
   ]
  },
  {
   "cell_type": "code",
   "execution_count": null,
   "metadata": {
    "deletable": false,
    "editable": false,
    "nbgrader": {
     "cell_type": "code",
     "checksum": "305069265840fb7a875765f1750f6243",
     "grade": true,
     "grade_id": "cell-96e5a932f3347dcf",
     "locked": true,
     "points": 1,
     "schema_version": 3,
     "solution": false
    }
   },
   "outputs": [],
   "source": [
    "# Verify norm method in Vector3D class \n",
    "vector = Vector3D(1.0, 2.0, 4.0)\n",
    "\n",
    "vector.renormalize()\n",
    "\n",
    "assert vector.length() == approx(1), f'{vector.length()=} != 1'"
   ]
  },
  {
   "cell_type": "markdown",
   "metadata": {},
   "source": [
    "### c. Overloaded operations  \n",
    "\n",
    "- addition operator(+)     : implement `__add__` method \n",
    "- substraction operator(-) : implement `__sub__` method \n",
    "\n",
    "    "
   ]
  },
  {
   "cell_type": "code",
   "execution_count": null,
   "metadata": {
    "deletable": false,
    "editable": false,
    "nbgrader": {
     "cell_type": "code",
     "checksum": "0db166dee2dd618e342b4961a38d7cdc",
     "grade": true,
     "grade_id": "cell-1f019ebe8894fb2b",
     "locked": true,
     "points": 1,
     "schema_version": 3,
     "solution": false
    }
   },
   "outputs": [],
   "source": [
    "#Verify addition operator for two vectors \n",
    "avector = Vector3D(1.0, 2.0, 4.0)\n",
    "bvector = Vector3D(2.0, 3.3, 0.9)\n",
    "\n",
    "cvector = avector + bvector\n",
    "\n",
    "assert cvector.coord_x == approx(3.0), f'{cvector.coord_x=} != 3'\n",
    "assert cvector.coord_y == approx(5.3), f'{cvector.coord_y=} != 5.3'\n",
    "assert cvector.coord_z == approx(4.9), f'{cvector.coord_z=} != 4.9'\n"
   ]
  },
  {
   "cell_type": "code",
   "execution_count": null,
   "metadata": {
    "deletable": false,
    "editable": false,
    "nbgrader": {
     "cell_type": "code",
     "checksum": "25a9af5fb147e2f0f58d321b2d795a22",
     "grade": true,
     "grade_id": "cell-965fcb9cfdf9230b",
     "locked": true,
     "points": 1,
     "schema_version": 3,
     "solution": false
    }
   },
   "outputs": [],
   "source": [
    "#Verify substraction operator for two vectors \n",
    "avector = Vector3D(1.0, 2.0, 4.0)\n",
    "bvector = Vector3D(2.0, 0.2, 0.9)\n",
    "\n",
    "cvector = avector - bvector\n",
    "\n",
    "assert cvector.coord_x == approx(-1.0), f'{cvector.coord_x=} != -1'\n",
    "assert cvector.coord_y == approx(1.8), f'{cvector.coord_y=} != 1.8'\n",
    "assert cvector.coord_z == approx(3.1), f'{cvector.coord_z=} != 3,1'"
   ]
  },
  {
   "cell_type": "markdown",
   "metadata": {},
   "source": [
    "## 2. Create class for a multi-currency bank account \n",
    "\n",
    "\n",
    "### 2.a\n",
    "\n",
    "The account objects have an instance attribute that is initialized on creation\n",
    "\n",
    "    >>> mca = MultiCurrencyAccount('SEK')\n",
    "    >>> mca.base_currency\n",
    "    'SEK'\n",
    "    \n",
    "### 2.b\n",
    "\n",
    "We can model current exchange rates with a provided dictionary\n",
    "\n",
    "    >>> exchange_rates['USDSEK']\n",
    "    10\n",
    "    \n",
    "Use that dictionary to define a method in the class that converts a given currency to the base currency\n",
    "\n",
    "    >>> mca.conversion_rate('USD')\n",
    "    10\n",
    "    \n",
    "### 2.c\n",
    "\n",
    "Define an instance attribute as a dictionary that holds different currencies that is initialized to zero for the base currency and a deposit method that updates it\n",
    "\n",
    "    >>> mca.balances\n",
    "    defaultdict(<class 'int'>, {'SEK': 0})\n",
    "    >>> mca.deposit(10, 'USD')\n",
    "    >>> mca.balances\n",
    "    defaultdict(<class 'int'>, {'SEK': 0, 'USD': 10})\n",
    "\n",
    "    \n",
    "For this use a special version of dictonary from the collections module: defaultdict. If an element is not defined it is automatically created\n",
    "\n",
    "### 2.d\n",
    "\n",
    "Define a method `total_balance` that calculated the total value of the balances in the base currency\n",
    "\n",
    "    >>> mca.deposit(10, 'USD')\n",
    "    >>> mca.balances\n",
    "    defaultdict(<class 'int'>, {'SEK': 0, 'USD': 10})\n",
    "    >>> mca.total_balance()\n",
    "    100\n",
    "    \n",
    "### 2.e\n",
    "\n",
    "Consider a customer who needs to extract all his money to pay his electrical bill in the base currency.\n",
    "A method `convert_to_base_currency` does the internal exchange before they can receive the mony\n",
    "\n",
    "\n",
    "    >>> mca.balances\n",
    "    defaultdict(<class 'int'>, {'SEK': 0, 'USD': 10})\n",
    "    >>> mca.convert_to_base_currency()\n",
    "    >>> mca.balances\n",
    "    defaultdict(<class 'int'>, {'SEK': 100, 'USD': 0})"
   ]
  },
  {
   "cell_type": "code",
   "execution_count": null,
   "metadata": {
    "deletable": false,
    "nbgrader": {
     "cell_type": "code",
     "checksum": "dbb1efdca056d26d021eb6699e5e8ebe",
     "grade": false,
     "grade_id": "cell-cd199a6c4ed7bd19",
     "locked": false,
     "schema_version": 3,
     "solution": true,
     "task": false
    }
   },
   "outputs": [],
   "source": [
    "from collections import defaultdict\n",
    "\n",
    "exchange_rates = {'USDSEK': 10, 'EURSEK': 10}\n",
    "\n",
    "class MultiCurrencyAccount:\n",
    "    \"\"\"\n",
    "    A multi-currency account with attributes:\n",
    "    \n",
    "        base_currency (str): international three-letter symbol\n",
    "        balances (dict[str: int]): balance of each currency that has been introducted\n",
    "        conversion_rate: instance method that returns exchange rate relative to base currency\n",
    "        total_balance: value of all assets relative to base currency\n",
    "        deposit: add funds in a given currency\n",
    "        convert_to_base_currency: convert all funds to base currency\n",
    "    \"\"\"\n",
    "    # YOUR CODE HERE\n",
    "    ################\n",
    "            "
   ]
  },
  {
   "cell_type": "markdown",
   "metadata": {},
   "source": [
    "### 2.a\n",
    "\n",
    "The account objects have an instance attribute that is initialized on creation\n",
    "\n",
    "    >>> mca = MultiCurrencyAccount('SEK')\n",
    "    >>> mca.base_currency\n",
    "    'SEK'"
   ]
  },
  {
   "cell_type": "code",
   "execution_count": null,
   "metadata": {
    "deletable": false,
    "editable": false,
    "nbgrader": {
     "cell_type": "code",
     "checksum": "ab30ea0d9d073700a6246f6e9cbb3360",
     "grade": true,
     "grade_id": "cell-743e300b258a8a24",
     "locked": true,
     "points": 1,
     "schema_version": 3,
     "solution": false,
     "task": false
    }
   },
   "outputs": [],
   "source": [
    "mca = MultiCurrencyAccount('SEK')\n",
    "assert mca.base_currency == 'SEK', f'{mca.basecurrency=} != SEK'\n"
   ]
  },
  {
   "cell_type": "markdown",
   "metadata": {},
   "source": [
    "### 2.b\n",
    "\n",
    "We can model current exchange rates with a provided dictionary\n",
    "\n",
    "    >>> exchange_rates['USDSEK']\n",
    "    10\n",
    "    \n",
    "Use that dictionary to define a method in the class that converts a given currency to the base currency\n",
    "\n",
    "    >>> mca.conversion_rate('USD')\n",
    "    10\n"
   ]
  },
  {
   "cell_type": "code",
   "execution_count": null,
   "metadata": {
    "deletable": false,
    "editable": false,
    "nbgrader": {
     "cell_type": "code",
     "checksum": "314afbf71bea993d8e2034e6280ec889",
     "grade": true,
     "grade_id": "cell-75ceff37da3ad5d5",
     "locked": true,
     "points": 1,
     "schema_version": 3,
     "solution": false,
     "task": false
    }
   },
   "outputs": [],
   "source": [
    "mca = MultiCurrencyAccount('SEK')\n",
    "assert mca.conversion_rate('USD') == 10, f\"{mca.conversion_rate('USD')=} != 10\""
   ]
  },
  {
   "cell_type": "markdown",
   "metadata": {},
   "source": [
    "### 2.c\n",
    "\n",
    "Define an instance attribute as a dictionary that holds different currencies that is initialized to zero for the base currency and a deposit method that updates it\n",
    "\n",
    "    >>> mca.balances\n",
    "    defaultdict(<class 'int'>, {'SEK': 0})\n",
    "    >>> mca.deposit(10, 'USD')\n",
    "    >>> mca.balances\n",
    "    defaultdict(<class 'int'>, {'SEK': 0, 'USD': 10})\n",
    "\n",
    "    \n",
    "For this use a special version of dictonary from the collections module: defaultdict. If an element is not defined it is automatically created\n",
    "\n"
   ]
  },
  {
   "cell_type": "code",
   "execution_count": null,
   "metadata": {
    "deletable": false,
    "editable": false,
    "nbgrader": {
     "cell_type": "code",
     "checksum": "103c452b63e90c33a877ebabc8e1ffcc",
     "grade": true,
     "grade_id": "cell-cfb2d9bd7b05f848",
     "locked": true,
     "points": 1,
     "schema_version": 3,
     "solution": false,
     "task": false
    }
   },
   "outputs": [],
   "source": [
    "mca = MultiCurrencyAccount('SEK')\n",
    "assert mca.balances == {'SEK': 0}, f'{mca.currencies=}'\n",
    "\n",
    "mca.deposit(1, 'USD')\n",
    "assert mca.balances == {'SEK': 0, 'USD': 1}, f'{mca.balances=}'\n",
    "\n",
    "mca.deposit(2, 'EUR')\n",
    "assert mca.balances == {'SEK': 0, 'USD': 1, 'EUR': 2}"
   ]
  },
  {
   "cell_type": "markdown",
   "metadata": {},
   "source": [
    "### 2.d\n",
    "\n",
    "Define a method `total_balance` that calculated the total value of the balances in the base currency\n",
    "\n",
    "    >>> mca.deposit(10, 'USD')\n",
    "    >>> mca.balances\n",
    "    defaultdict(<class 'int'>, {'SEK': 0, 'USD': 10})\n",
    "    >>> mca.total_balance()\n",
    "    100\n",
    "    "
   ]
  },
  {
   "cell_type": "code",
   "execution_count": null,
   "metadata": {
    "deletable": false,
    "editable": false,
    "nbgrader": {
     "cell_type": "code",
     "checksum": "6206191ef15d6bef96265e661958293e",
     "grade": true,
     "grade_id": "cell-0564374e5e9da16a",
     "locked": true,
     "points": 1,
     "schema_version": 3,
     "solution": false,
     "task": false
    }
   },
   "outputs": [],
   "source": [
    "mca = MultiCurrencyAccount('SEK')\n",
    "assert mca.total_balance() == 0\n",
    "mca.deposit(1, 'USD')\n",
    "mca.deposit(2, 'EUR')\n",
    "\n",
    "assert mca.total_balance() == 30, f'{mca.total_balance()=} != 30'"
   ]
  },
  {
   "cell_type": "markdown",
   "metadata": {},
   "source": [
    "### 2.e\n",
    "\n",
    "Consider a customer who needs to extract all his money to pay his electrical bill in the base currency.\n",
    "A method `convert_to_base_currency` does the internal exchange before they can receive the mony\n",
    "\n",
    "\n",
    "    >>> mca.balances\n",
    "    defaultdict(<class 'int'>, {'SEK': 0, 'USD': 10})\n",
    "    >>> mca.convert_to_base_currency()\n",
    "    >>> mca.balances\n",
    "    defaultdict(<class 'int'>, {'SEK': 100, 'USD': 0})"
   ]
  },
  {
   "cell_type": "code",
   "execution_count": null,
   "metadata": {
    "deletable": false,
    "editable": false,
    "nbgrader": {
     "cell_type": "code",
     "checksum": "b63353fea5ed690971fd021782d1fac2",
     "grade": true,
     "grade_id": "cell-ea6fce2baafa1212",
     "locked": true,
     "points": 1,
     "schema_version": 3,
     "solution": false,
     "task": false
    }
   },
   "outputs": [],
   "source": [
    "mca.convert_to_base_currency()\n",
    "assert mca.balances == {'SEK': 30, 'USD': 0, 'EUR': 0}\n",
    "assert mca.total_balance() == 30, f'{mca.total_balance()=} != 30'"
   ]
  },
  {
   "cell_type": "markdown",
   "metadata": {},
   "source": [
    "## C. Animals\n",
    "\n",
    "Complete the Animal class to have and a class variable `animals` (list) and two instance variables, `name` (str) and `number` (int). You need to implement `__init__` and `__str__` methods"
   ]
  },
  {
   "cell_type": "code",
   "execution_count": null,
   "metadata": {
    "deletable": false,
    "nbgrader": {
     "cell_type": "code",
     "checksum": "05b718394f9b7a89228a8698b8c748aa",
     "grade": false,
     "grade_id": "cell-f9faff46e9639b35",
     "locked": false,
     "schema_version": 3,
     "solution": true,
     "task": false
    }
   },
   "outputs": [],
   "source": [
    "class Animal:\n",
    "    \"\"\"\n",
    "    A class for storing animals\n",
    "    \n",
    "    class attributes:\n",
    "        animals: (list) to store all animals\n",
    "    instance attributes:\n",
    "        name:  (str) to store animal name\n",
    "        number: (int) to store animal order number (starting with 1)\n",
    "        \n",
    "    class methods:\n",
    "        __str__: string representation of animal, e.g. \"1. Dog\"\n",
    "        \n",
    "    static methods:\n",
    "        zoo: returns string representation of all animals in orderd lies, e.g. \n",
    "           '''\\\n",
    "           1. Dog\n",
    "           2. Cat'''\n",
    "    \"\"\"\n",
    "    # YOUR CODE HERE\n",
    "    ################"
   ]
  },
  {
   "cell_type": "code",
   "execution_count": null,
   "metadata": {
    "deletable": false,
    "editable": false,
    "nbgrader": {
     "cell_type": "code",
     "checksum": "3cb9594f5a641579899558add8292aa6",
     "grade": true,
     "grade_id": "cell-41580406aa20538d",
     "locked": true,
     "points": 1,
     "schema_version": 3,
     "solution": false,
     "task": false
    }
   },
   "outputs": [],
   "source": [
    "Animal.animals.clear()\n",
    "\n",
    "dog = Animal('dog')\n",
    "assert dog.name == 'dog', error_message(dog.name, 'dog')\n",
    "assert dog.number == 1, error_message(dog.number, 1)\n",
    "assert str(dog) == '1. Dog', error_message(str(dog), '1. Dog')\n",
    "\n",
    "cat = Animal('cat')\n",
    "assert cat.name == 'cat', error_message(cat.name, 'cat')\n",
    "assert cat.number == 2, error_message(cat.number, 2)\n",
    "assert str(cat) == '2. Cat', error_message(str(cat), '2. Cat')\n"
   ]
  },
  {
   "cell_type": "markdown",
   "metadata": {},
   "source": [
    "A static method is a function in a class that is like an ordinary function, that does not depend on any instance (no self argument). \n",
    "\n",
    "In a class it is defined with a `@staticmethod` decorator.\n",
    "\n",
    "It can be appended to the class definition as below. Complete the static method so that it returns a string which lists all member animals"
   ]
  },
  {
   "cell_type": "code",
   "execution_count": null,
   "metadata": {
    "deletable": false,
    "editable": false,
    "nbgrader": {
     "cell_type": "code",
     "checksum": "897079b688a892af4035d81e18dfb014",
     "grade": true,
     "grade_id": "cell-a89d339b99865f5d",
     "locked": true,
     "points": 1,
     "schema_version": 3,
     "solution": false,
     "task": false
    }
   },
   "outputs": [],
   "source": [
    "Animal.animals.clear()\n",
    "\n",
    "#Generate a list of animals and compare with the class attribute\n",
    "animals = [Animal(a) for a in ['camel', 'donkey', 'hippo']]\n",
    "assert animals == Animal.animals, f'{animals} != {Animal.animals}'\n",
    "\n",
    "#zoo should produce a printout of the defined animals\n",
    "zoo_output = Animal.zoo()\n",
    "print(zoo_output)\n",
    "expected_output = \"\"\"\n",
    "1. Camel\n",
    "2. Donkey\n",
    "3. Hippo\n",
    "\"\"\"\n",
    "\n",
    "condition = zoo_output.strip() == expected_output.strip()\n",
    "error_message = f\"\\n{zoo_output}\\n\\n   !=\\n{expected_output}\"\n",
    "\n",
    "assert condition, error_message"
   ]
  }
 ],
 "metadata": {
  "kernelspec": {
   "display_name": "Python 3 (ipykernel)",
   "language": "python",
   "name": "python3"
  },
  "language_info": {
   "codemirror_mode": {
    "name": "ipython",
    "version": 3
   },
   "file_extension": ".py",
   "mimetype": "text/x-python",
   "name": "python",
   "nbconvert_exporter": "python",
   "pygments_lexer": "ipython3",
   "version": "3.12.2"
  }
 },
 "nbformat": 4,
 "nbformat_minor": 4
}
