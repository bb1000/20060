{
 "cells": [
  {
   "cell_type": "markdown",
   "id": "5e8d4956",
   "metadata": {},
   "source": [
    "Before you turn this problem in, make sure everything runs as expected. First, **restart the kernel** (in the menubar, select Kernel$\\rightarrow$Restart) and then **run all cells** (in the menubar, select Cell$\\rightarrow$Run All).\n"
   ]
  },
  {
   "cell_type": "code",
   "execution_count": 1,
   "id": "83027eb3",
   "metadata": {},
   "outputs": [],
   "source": [
    "NAME = \"\""
   ]
  },
  {
   "cell_type": "markdown",
   "id": "9eaa55ed",
   "metadata": {},
   "source": [
    "---"
   ]
  },
  {
   "cell_type": "markdown",
   "id": "0dea1dd2-6590-4d48-9766-ca73417aaadc",
   "metadata": {
    "deletable": false,
    "editable": false,
    "nbgrader": {
     "cell_type": "markdown",
     "checksum": "060625e41ac59b2c178ef4c9b6f60ebb",
     "grade": false,
     "grade_id": "cell-2f5f151360219e7f",
     "locked": true,
     "schema_version": 3,
     "solution": false,
     "task": false
    }
   },
   "source": [
    "# Sample exercise notebook"
   ]
  },
  {
   "cell_type": "markdown",
   "id": "8e36f79b-a575-4e38-b938-d19508d8f6cc",
   "metadata": {
    "deletable": false,
    "editable": false,
    "nbgrader": {
     "cell_type": "markdown",
     "checksum": "90c0d24644f5dfca48bf21d29c2f9f8b",
     "grade": false,
     "grade_id": "cell-b8fe4f212a4a43c9",
     "locked": true,
     "schema_version": 3,
     "solution": false,
     "task": false
    }
   },
   "source": [
    "Based on exercises at https://exercism.org/tracks/python"
   ]
  },
  {
   "cell_type": "markdown",
   "id": "07de6eb3-154c-4316-ad62-2f07759c1db7",
   "metadata": {
    "deletable": false,
    "editable": false,
    "nbgrader": {
     "cell_type": "markdown",
     "checksum": "2b0006cc4dc4d134b3982c4af20ec3f7",
     "grade": false,
     "grade_id": "cell-2e25afef6cbcfeee",
     "locked": true,
     "schema_version": 3,
     "solution": false,
     "task": false
    }
   },
   "source": [
    "## Hello world\n",
    "### Instructions\n",
    "\n",
    "The classical introductory exercise. Just say \"Hello, World!\".\n",
    "\n",
    "\"Hello, World!\" is the traditional first program for beginning programming in a new language or environment.\n",
    "\n",
    "The objectives are simple:\n",
    "\n",
    "    Modify the provided code so that it produces the string \"Hello, World!\".\n",
    "    Run the test suite and make sure that it succeeds.\n",
    "    Submit your solution and check it at the website.\n",
    "\n",
    "If everything goes well, you will be ready to fetch your first real exercise.\n"
   ]
  },
  {
   "cell_type": "markdown",
   "id": "2c52ea08-b017-48d7-a4af-a8ac219248a3",
   "metadata": {
    "deletable": false,
    "editable": false,
    "nbgrader": {
     "cell_type": "markdown",
     "checksum": "4c9c0630ec9eaded00da8ed2975c0cc1",
     "grade": false,
     "grade_id": "cell-7ce4998a1d960a91",
     "locked": true,
     "schema_version": 3,
     "solution": false,
     "task": false
    }
   },
   "source": [
    "### Your solution"
   ]
  },
  {
   "cell_type": "code",
   "execution_count": 2,
   "id": "618cff23-f79e-40de-bdc8-194b7bd2745d",
   "metadata": {
    "deletable": false,
    "nbgrader": {
     "cell_type": "code",
     "checksum": "846db3ba21e4940d026183d63fa1fb21",
     "grade": false,
     "grade_id": "cell-d824d6a9dd6c5234",
     "locked": false,
     "schema_version": 3,
     "solution": true,
     "task": false
    }
   },
   "outputs": [],
   "source": [
    "def hello():\n",
    "    \n",
    "    return 'Hello, World!'"
   ]
  },
  {
   "cell_type": "markdown",
   "id": "8f260587-e7ab-44d3-a2fb-e3585ec90bd4",
   "metadata": {
    "deletable": false,
    "editable": false,
    "nbgrader": {
     "cell_type": "markdown",
     "checksum": "a516469ad528323b3da1b68d49bac27f",
     "grade": false,
     "grade_id": "cell-685ea25d040fedb2",
     "locked": true,
     "schema_version": 3,
     "solution": false,
     "task": false
    }
   },
   "source": [
    "### Run tests"
   ]
  },
  {
   "cell_type": "code",
   "execution_count": 3,
   "id": "4b7b11e3-04d0-4b76-bb9b-5cef55a77030",
   "metadata": {
    "deletable": false,
    "editable": false,
    "nbgrader": {
     "cell_type": "code",
     "checksum": "e73637d2e46c6585a5419fa824d54d81",
     "grade": true,
     "grade_id": "cell-d3b0ab867157e6c6",
     "locked": true,
     "points": 0,
     "schema_version": 3,
     "solution": false,
     "task": false
    }
   },
   "outputs": [],
   "source": [
    "msg = \"\"\"\n",
    "This test expects a return of the string 'Hello, World!'\n",
    "Did you use print('Hello, World!') by mistake?\n",
    "\"\"\"\n",
    "assert hello() == \"Hello, World!\", msg         "
   ]
  },
  {
   "cell_type": "markdown",
   "id": "7a70d18c-e7f9-4cae-8b23-c4fda121474b",
   "metadata": {
    "deletable": false,
    "editable": false,
    "nbgrader": {
     "cell_type": "markdown",
     "checksum": "373fe9e3d97da443335c3f010cb76900",
     "grade": false,
     "grade_id": "cell-f77f65875db0b15a",
     "locked": true,
     "schema_version": 3,
     "solution": false,
     "task": false
    }
   },
   "source": [
    "## Guidos lasagna\n",
    "### Instructions\n",
    "\n",
    "You're going to write some code to help you cook a gorgeous lasagna from your favorite cookbook.\n",
    "\n",
    "You have five tasks, all related to cooking your recipe.\n",
    "\n",
    "### 1. Define expected bake time in minutes\n",
    "\n",
    "Define an EXPECTED_BAKE_TIME constant that returns how many minutes the lasagna should bake in the oven. According to your cookbook, the Lasagna should be in the oven for 40 minutes:\n",
    "\n",
    "#### Your solution"
   ]
  },
  {
   "cell_type": "code",
   "execution_count": 4,
   "id": "fd326600-139a-4c74-b406-eec09cfa3a4e",
   "metadata": {
    "deletable": false,
    "nbgrader": {
     "cell_type": "code",
     "checksum": "7674388df4e0bb02e7e1c4b43d80ec25",
     "grade": false,
     "grade_id": "cell-b49c345a32d13e97",
     "locked": false,
     "schema_version": 3,
     "solution": true,
     "task": false
    }
   },
   "outputs": [],
   "source": [
    "#TODO: define the 'EXPECTED_BAKE_TIME' constant.\n"
   ]
  },
  {
   "cell_type": "markdown",
   "id": "2457ac12-184f-4dcd-9302-36b4b74915c8",
   "metadata": {
    "deletable": false,
    "editable": false,
    "nbgrader": {
     "cell_type": "markdown",
     "checksum": "2084646eb04a3e75ceeb05fbc71e5993",
     "grade": false,
     "grade_id": "cell-01a3202cf96db490",
     "locked": true,
     "schema_version": 3,
     "solution": false,
     "task": false
    }
   },
   "source": [
    "#### Run tests"
   ]
  },
  {
   "cell_type": "code",
   "execution_count": 5,
   "id": "5d769925-a369-4ef1-be34-c77c1af7aafc",
   "metadata": {
    "deletable": false,
    "editable": false,
    "nbgrader": {
     "cell_type": "code",
     "checksum": "63a383af61a17b3e4d145f3f3ebd3ad4",
     "grade": true,
     "grade_id": "cell-ea6be230b4ea0551",
     "locked": true,
     "points": 1,
     "schema_version": 3,
     "solution": false,
     "task": false
    }
   },
   "outputs": [
    {
     "ename": "NameError",
     "evalue": "name 'EXPECTED_BAKE_TIME' is not defined",
     "output_type": "error",
     "traceback": [
      "\u001b[0;31m---------------------------------------------------------------------------\u001b[0m",
      "\u001b[0;31mNameError\u001b[0m                                 Traceback (most recent call last)",
      "Cell \u001b[0;32mIn[5], line 2\u001b[0m\n\u001b[1;32m      1\u001b[0m failure_msg \u001b[38;5;241m=\u001b[39m \u001b[38;5;124m'\u001b[39m\u001b[38;5;124mExpected a constant of EXPECTED_BAKE_TIME with a value of 40.\u001b[39m\u001b[38;5;124m'\u001b[39m\n\u001b[0;32m----> 2\u001b[0m \u001b[38;5;28;01massert\u001b[39;00m \u001b[43mEXPECTED_BAKE_TIME\u001b[49m \u001b[38;5;241m==\u001b[39m \u001b[38;5;241m40\u001b[39m, failure_msg\n",
      "\u001b[0;31mNameError\u001b[0m: name 'EXPECTED_BAKE_TIME' is not defined"
     ]
    }
   ],
   "source": [
    "failure_msg = 'Expected a constant of EXPECTED_BAKE_TIME with a value of 40.'\n",
    "assert EXPECTED_BAKE_TIME == 40, failure_msg"
   ]
  },
  {
   "cell_type": "markdown",
   "id": "3e74c645-e595-4c26-930c-f1db9d59a878",
   "metadata": {
    "deletable": false,
    "editable": false,
    "nbgrader": {
     "cell_type": "markdown",
     "checksum": "7c87f1019730c4bfb38578fab7573605",
     "grade": false,
     "grade_id": "cell-291564c9e68b3dcc",
     "locked": true,
     "schema_version": 3,
     "solution": false,
     "task": false
    }
   },
   "source": [
    "### 2. Calculate remaining bake time in minutes\n",
    "\n",
    "Implement the bake_time_remaining() function that takes the actual minutes the lasagna has been in the oven as an argument and returns how many minutes the lasagna still needs to bake based on the EXPECTED_BAKE_TIME.\n",
    "\n",
    "#### Your solution"
   ]
  },
  {
   "cell_type": "code",
   "execution_count": null,
   "id": "122bb009-2beb-48fa-a979-30dc3cc1a9b2",
   "metadata": {
    "deletable": false,
    "nbgrader": {
     "cell_type": "code",
     "checksum": "775ab3a6a513929f57b3f9f5c92c29a5",
     "grade": false,
     "grade_id": "cell-8b00ef8183a91013",
     "locked": false,
     "schema_version": 3,
     "solution": true,
     "task": false
    }
   },
   "outputs": [],
   "source": [
    "#TODO: Remove 'pass' and complete the 'bake_time_remaining()' function below.\n",
    "def bake_time_remaining():\n",
    "    \"\"\"Calculate the bake time remaining.\n",
    "\n",
    "    :param elapsed_bake_time: int - baking time already elapsed.\n",
    "    :return: int - remaining bake time (in minutes) derived from 'EXPECTED_BAKE_TIME'.\n",
    "\n",
    "    Function that takes the actual minutes the lasagna has been in the oven as\n",
    "    an argument and returns how many minutes the lasagna still needs to bake\n",
    "    based on the `EXPECTED_BAKE_TIME`.\n",
    "    \"\"\"\n",
    "    \n",
    "    pass"
   ]
  },
  {
   "cell_type": "markdown",
   "id": "e45c94ef-7e45-4ebe-a9ec-a11cd29fefe7",
   "metadata": {
    "deletable": false,
    "editable": false,
    "nbgrader": {
     "cell_type": "markdown",
     "checksum": "9bb1e2a97f5098cbef6cecd090b57a57",
     "grade": false,
     "grade_id": "cell-019ea2b6bc9dbfed",
     "locked": true,
     "schema_version": 3,
     "solution": false,
     "task": false
    }
   },
   "source": [
    "#### Run tests"
   ]
  },
  {
   "cell_type": "code",
   "execution_count": null,
   "id": "a4579826-a5c9-4b74-81a4-9bb86cea49be",
   "metadata": {
    "deletable": false,
    "editable": false,
    "nbgrader": {
     "cell_type": "code",
     "checksum": "32167a527afffd0eb71735cfb43f92ad",
     "grade": true,
     "grade_id": "cell-76836f1fbd7b1d84",
     "locked": true,
     "points": 1,
     "schema_version": 3,
     "solution": false,
     "task": false
    }
   },
   "outputs": [],
   "source": [
    "time = 30\n",
    "expected = 10\n",
    "actual_result = bake_time_remaining(time)\n",
    "failure_msg = f\"\"\"\n",
    "    Called bake_time_remaining({time}).\n",
    "    The function returned {actual_result}, but the tests\n",
    "    expected {expected} as the remaining bake time.\n",
    "\"\"\"\n",
    "\n",
    "assert actual_result == expected, failure_msg"
   ]
  },
  {
   "cell_type": "markdown",
   "id": "13f715ae-f9b2-4077-a7ea-6a36313e9189",
   "metadata": {
    "deletable": false,
    "editable": false,
    "nbgrader": {
     "cell_type": "markdown",
     "checksum": "2306172526d18a73523f038460c35250",
     "grade": false,
     "grade_id": "cell-d9e0404c320c22df",
     "locked": true,
     "schema_version": 3,
     "solution": false,
     "task": false
    }
   },
   "source": [
    "### 3. Calculate preparation time in minutes\n",
    "\n",
    "Implement the preparation_time_in_minutes(number_of_layers) function that takes the number of layers you want to add to the lasagna as an argument and returns how many minutes you would spend making them. Assume each layer takes 2 minutes to prepare."
   ]
  },
  {
   "cell_type": "markdown",
   "id": "4d53566c-b47c-4b39-8051-05920220c106",
   "metadata": {
    "deletable": false,
    "editable": false,
    "nbgrader": {
     "cell_type": "markdown",
     "checksum": "1348ceaecc1d1b8e2e74044e828e8b3f",
     "grade": false,
     "grade_id": "cell-ace5522e2a201a99",
     "locked": true,
     "schema_version": 3,
     "solution": false,
     "task": false
    }
   },
   "source": [
    "#### Your solution"
   ]
  },
  {
   "cell_type": "code",
   "execution_count": null,
   "id": "b97be627-5c56-499e-ab8c-4f420812bd23",
   "metadata": {
    "deletable": false,
    "nbgrader": {
     "cell_type": "code",
     "checksum": "4c0e408e842a65e72bfe001f2ceff42c",
     "grade": false,
     "grade_id": "cell-2e2653a250dbc0e6",
     "locked": false,
     "schema_version": 3,
     "solution": true,
     "task": false
    }
   },
   "outputs": [],
   "source": [
    "#TODO: Define the 'preparation_time_in_minutes()' function below.\n",
    "# You might also consider using 'PREPARATION_TIME' here, if you have it defined.\n"
   ]
  },
  {
   "cell_type": "markdown",
   "id": "b56284b4-6c37-403e-9401-4b416caf2302",
   "metadata": {
    "deletable": false,
    "editable": false,
    "nbgrader": {
     "cell_type": "markdown",
     "checksum": "4c1f742db294e3b1fcf9d69721760752",
     "grade": false,
     "grade_id": "cell-0e7f7609960c7924",
     "locked": true,
     "schema_version": 3,
     "solution": false,
     "task": false
    }
   },
   "source": [
    "#### Run tests"
   ]
  },
  {
   "cell_type": "code",
   "execution_count": null,
   "id": "b996af28-415c-4b16-8e76-e60de44a5941",
   "metadata": {
    "deletable": false,
    "editable": false,
    "nbgrader": {
     "cell_type": "code",
     "checksum": "f58baba658efb518319054782d7ad527",
     "grade": true,
     "grade_id": "cell-da3a9b000f33c1f2",
     "locked": true,
     "points": 1,
     "schema_version": 3,
     "solution": false,
     "task": false
    }
   },
   "outputs": [],
   "source": [
    "layers = 2\n",
    "actual_result = preparation_time_in_minutes(layers)\n",
    "expected = 4\n",
    "failure_msg = f'''\n",
    "    Called preparation_time_in_minutes({layers}).\n",
    "    The function returned {actual_result}, but the tests\n",
    "    expected {expected} as the preparation time.\n",
    "    '''\n",
    "assert actual_result == expected, failure_msg"
   ]
  },
  {
   "cell_type": "markdown",
   "id": "f4935d43-542b-4700-879e-4b093959f64c",
   "metadata": {
    "deletable": false,
    "editable": false,
    "nbgrader": {
     "cell_type": "markdown",
     "checksum": "d4c98dded6f8162e0be0c5167cf1db02",
     "grade": false,
     "grade_id": "cell-412eea8d1476455d",
     "locked": true,
     "schema_version": 3,
     "solution": false,
     "task": false
    }
   },
   "source": [
    "### 4. Calculate total elapsed cooking time (prep + bake) in minutes\n",
    "\n",
    "Implement the elapsed_time_in_minutes(number_of_layers, elapsed_bake_time) function that has two parameters: number_of_layers (the number of layers added to the lasagna) and elapsed_bake_time (the number of minutes the lasagna has been baking in the oven). This function should return the total number of minutes you've been cooking, or the sum of your preparation time and the time the lasagna has already spent baking in the oven.\n",
    "\n",
    "#### Your solution"
   ]
  },
  {
   "cell_type": "code",
   "execution_count": null,
   "id": "c1bbbd24-227e-49db-b552-1d57b1ff8f77",
   "metadata": {
    "deletable": false,
    "nbgrader": {
     "cell_type": "code",
     "checksum": "1f07601abed0206f3830af9809566cdd",
     "grade": false,
     "grade_id": "cell-5bea1a73ddf30629",
     "locked": false,
     "schema_version": 3,
     "solution": true,
     "task": false
    }
   },
   "outputs": [],
   "source": [
    "#TODO: define the 'elapsed_time_in_minutes()' function below.\n",
    "# Remember to add a docstring (you can copy and then alter the one from bake_time_remaining.)\n"
   ]
  },
  {
   "cell_type": "markdown",
   "id": "c256dfcd-f314-4da8-b0b3-e9ca99516066",
   "metadata": {
    "deletable": false,
    "editable": false,
    "nbgrader": {
     "cell_type": "markdown",
     "checksum": "06b81dd83602dfe00979a7510222a9a9",
     "grade": false,
     "grade_id": "cell-ab1c63697b637289",
     "locked": true,
     "schema_version": 3,
     "solution": false,
     "task": false
    }
   },
   "source": [
    "#### Run tests"
   ]
  },
  {
   "cell_type": "code",
   "execution_count": null,
   "id": "3c266262-1d6e-4a54-ab53-a24fee31bb77",
   "metadata": {
    "deletable": false,
    "editable": false,
    "nbgrader": {
     "cell_type": "code",
     "checksum": "fd874c170f41bdf8a9982ecd236bc95e",
     "grade": true,
     "grade_id": "cell-4918c80791bc128a",
     "locked": true,
     "points": 1,
     "schema_version": 3,
     "solution": false,
     "task": false
    }
   },
   "outputs": [],
   "source": [
    "layers = 3\n",
    "time = 20\n",
    "actual_result = elapsed_time_in_minutes(layers, time)\n",
    "expected = 26\n",
    "actual_result = elapsed_time_in_minutes(layers, time) \n",
    "failure_msg = f'''\n",
    "    Called elapsed_time_in_minutes({layers}, {time}).\n",
    "    The function returned {actual_result}, but the tests\n",
    "    expected {expected} as the elapsed time.\n",
    "    '''\n",
    "assert actual_result == expected, failure_msg                               "
   ]
  },
  {
   "cell_type": "markdown",
   "id": "dd406de0-2f60-4a23-9089-cc9157522459",
   "metadata": {
    "deletable": false,
    "editable": false,
    "nbgrader": {
     "cell_type": "markdown",
     "checksum": "999b73ef92f0ad5400850381dfc6b400",
     "grade": false,
     "grade_id": "cell-52b32671199413da",
     "locked": true,
     "schema_version": 3,
     "solution": false,
     "task": false
    }
   },
   "source": [
    "### 5. Update the recipe with notes\n",
    "\n",
    "Go back through the recipe, adding \"notes\" in the form of function docstrings.\n",
    "\n",
    "#### Run tests"
   ]
  },
  {
   "cell_type": "code",
   "execution_count": null,
   "id": "8be179cd-f4a9-454b-8a2e-8389b85448e6",
   "metadata": {
    "deletable": false,
    "editable": false,
    "nbgrader": {
     "cell_type": "code",
     "checksum": "8715e95fdbcf7c54aefba13acedefbc3",
     "grade": true,
     "grade_id": "cell-9a6a9a3c9b06f3b3",
     "locked": true,
     "points": 1,
     "schema_version": 3,
     "solution": false,
     "task": false
    }
   },
   "outputs": [],
   "source": [
    "assert bake_time_remaining.__doc__ is not None\n",
    "assert elapsed_time_in_minutes.__doc__ is not None\n",
    "assert preparation_time_in_minutes.__doc__ is not None"
   ]
  }
 ],
 "metadata": {
  "kernelspec": {
   "display_name": "Python 3 (ipykernel)",
   "language": "python",
   "name": "python3"
  },
  "language_info": {
   "codemirror_mode": {
    "name": "ipython",
    "version": 3
   },
   "file_extension": ".py",
   "mimetype": "text/x-python",
   "name": "python",
   "nbconvert_exporter": "python",
   "pygments_lexer": "ipython3",
   "version": "3.12.2"
  }
 },
 "nbformat": 4,
 "nbformat_minor": 5
}
