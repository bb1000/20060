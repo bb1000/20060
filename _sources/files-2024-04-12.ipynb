{
 "cells": [
  {
   "cell_type": "markdown",
   "metadata": {},
   "source": [
    "Before you turn this problem in, make sure everything runs as expected. First, **restart the kernel** (in the menubar, select Kernel$\\rightarrow$Restart) and then **run all cells** (in the menubar, select Cell$\\rightarrow$Run All).\n",
    "\n",
    "Make sure you fill in any place that says `YOUR CODE HERE` or \"YOUR ANSWER HERE\", as well as your name and collaborators below:"
   ]
  },
  {
   "cell_type": "code",
   "execution_count": 13,
   "metadata": {},
   "outputs": [],
   "source": [
    "NAME = \"\"\n",
    "COLLABORATORS = \"\""
   ]
  },
  {
   "cell_type": "markdown",
   "metadata": {},
   "source": [
    "---"
   ]
  },
  {
   "cell_type": "markdown",
   "metadata": {},
   "source": [
    "# File handling\n"
   ]
  },
  {
   "cell_type": "markdown",
   "metadata": {},
   "source": [
    "## Creating our reference file\n",
    "\n",
    "In our initial example we create a small reference file by executing the following cell. The so-called cell-magic command `%%file` takes its first argument as a filename and writes the remaining content of the cell to file\n",
    "\n",
    "[More about cell magic](https://ipython.readthedocs.io/en/stable/interactive/magics.html)"
   ]
  },
  {
   "cell_type": "code",
   "execution_count": 14,
   "metadata": {
    "deletable": false,
    "editable": false,
    "nbgrader": {
     "cell_type": "code",
     "checksum": "615b90415657c85c16f8b83a64e0e690",
     "grade": false,
     "grade_id": "cell-846fa717ec4901bd",
     "locked": true,
     "schema_version": 3,
     "solution": false
    }
   },
   "outputs": [
    {
     "name": "stdout",
     "output_type": "stream",
     "text": [
      "Overwriting composers.txt\n"
     ]
    }
   ],
   "source": [
    "%%file composers.txt\n",
    "dufay\n",
    "ockeghem\n",
    "josquin\n",
    "willaert\n",
    "orlando\n",
    "sweelinck"
   ]
  },
  {
   "cell_type": "markdown",
   "metadata": {},
   "source": [
    "\n",
    "## Reading\n",
    "\n",
    "In the first exercise we recall different forms of reading text files. In 1-3 there are single-line answers\n",
    "\n"
   ]
  },
  {
   "cell_type": "markdown",
   "metadata": {},
   "source": [
    "#### Exercise 1\n",
    "What single line is used to return the file content as a single string? Not that the string will contain the end-of-line (newline) character `\\n`"
   ]
  },
  {
   "cell_type": "code",
   "execution_count": 15,
   "metadata": {
    "deletable": false,
    "nbgrader": {
     "cell_type": "code",
     "checksum": "31e09e8cffc968e483a63da99663d648",
     "grade": false,
     "grade_id": "cell-619ee4026f28565c",
     "locked": false,
     "schema_version": 3,
     "solution": true
    }
   },
   "outputs": [
    {
     "data": {
      "text/plain": [
       "'dufay\\nockeghem\\njosquin\\nwillaert\\norlando\\nsweelinck\\n'"
      ]
     },
     "execution_count": 15,
     "metadata": {},
     "output_type": "execute_result"
    }
   ],
   "source": [
    "# YOUR CODE HERE\n",
    "################\n",
    "open('composers.txt').read()"
   ]
  },
  {
   "cell_type": "markdown",
   "metadata": {},
   "source": [
    "An underscore `_` refers to the value of the previoius command. In the test cell we are thus checking the return  of the last line in the previous cell"
   ]
  },
  {
   "cell_type": "code",
   "execution_count": 16,
   "metadata": {
    "deletable": false,
    "editable": false,
    "nbgrader": {
     "cell_type": "code",
     "checksum": "b7dcb8730ca44d827470a92b35c1f452",
     "grade": true,
     "grade_id": "cell-e16f081e726162ce",
     "locked": true,
     "points": 1,
     "schema_version": 3,
     "solution": false
    }
   },
   "outputs": [],
   "source": [
    "result = _\n",
    "expected = 'dufay\\nockeghem\\njosquin\\nwillaert\\norlando\\nsweelinck\\n'\n",
    "assert result == expected, f'{result=} != {expected=}'"
   ]
  },
  {
   "cell_type": "markdown",
   "metadata": {},
   "source": [
    "#### Exercise 2\n",
    "What single line is used to return the file content as a Python list of strings. "
   ]
  },
  {
   "cell_type": "code",
   "execution_count": 17,
   "metadata": {
    "deletable": false,
    "nbgrader": {
     "cell_type": "code",
     "checksum": "1c824f34c50404d900d543baed236793",
     "grade": false,
     "grade_id": "cell-b8288e222d0343fb",
     "locked": false,
     "schema_version": 3,
     "solution": true
    }
   },
   "outputs": [
    {
     "data": {
      "text/plain": [
       "['dufay\\n',\n",
       " 'ockeghem\\n',\n",
       " 'josquin\\n',\n",
       " 'willaert\\n',\n",
       " 'orlando\\n',\n",
       " 'sweelinck\\n']"
      ]
     },
     "execution_count": 17,
     "metadata": {},
     "output_type": "execute_result"
    }
   ],
   "source": [
    "# YOUR CODE HERE\n",
    "################\n",
    "open('composers.txt').readlines()"
   ]
  },
  {
   "cell_type": "code",
   "execution_count": 18,
   "metadata": {
    "deletable": false,
    "editable": false,
    "nbgrader": {
     "cell_type": "code",
     "checksum": "cf8a4af600c4f58154f9bb4b94d03a1c",
     "grade": true,
     "grade_id": "cell-3f4d59f2de6a1c5e",
     "locked": true,
     "points": 1,
     "schema_version": 3,
     "solution": false
    }
   },
   "outputs": [],
   "source": [
    "result = _\n",
    "expected = ['dufay\\n', 'ockeghem\\n', 'josquin\\n',  'willaert\\n',  'orlando\\n',  'sweelinck\\n']\n",
    "assert result == expected, f'{result=} != {expected}'"
   ]
  },
  {
   "cell_type": "markdown",
   "metadata": {},
   "source": [
    "#### Exercise 3\n",
    "This function will return the lines of the file without the 'end-of-line' characters. Use the [`strip`](https://docs.python.org/3/library/stdtypes.html#str.strip) method and a [list comprehension](https://realpython.com/list-comprehension-python/)"
   ]
  },
  {
   "cell_type": "code",
   "execution_count": 19,
   "metadata": {
    "deletable": false,
    "nbgrader": {
     "cell_type": "code",
     "checksum": "7cf170f836862d6d51aa3831d3013c33",
     "grade": false,
     "grade_id": "cell-a53c2938a84d15db",
     "locked": false,
     "schema_version": 3,
     "solution": true
    }
   },
   "outputs": [
    {
     "data": {
      "text/plain": [
       "[]"
      ]
     },
     "execution_count": 19,
     "metadata": {},
     "output_type": "execute_result"
    }
   ],
   "source": [
    "def get_list_of_lines_without_eol_character(filename):\n",
    "    return  [\n",
    "    # YOUR CODE HERE\n",
    "    ################\n",
    "    ]\n",
    " \n",
    "get_list_of_lines_without_eol_character('composers.txt')"
   ]
  },
  {
   "cell_type": "code",
   "execution_count": 20,
   "metadata": {
    "deletable": false,
    "editable": false,
    "nbgrader": {
     "cell_type": "code",
     "checksum": "93de2d8741667a8b8d8c28ab07112d41",
     "grade": true,
     "grade_id": "cell-de85c7e2aeabc67f",
     "locked": true,
     "points": 1,
     "schema_version": 3,
     "solution": false
    }
   },
   "outputs": [
    {
     "ename": "AssertionError",
     "evalue": "result=[] != ['dufay', 'ockeghem', 'josquin', 'willaert', 'orlando', 'sweelinck']",
     "output_type": "error",
     "traceback": [
      "\u001b[0;31m---------------------------------------------------------------------------\u001b[0m",
      "\u001b[0;31mAssertionError\u001b[0m                            Traceback (most recent call last)",
      "Cell \u001b[0;32mIn[20], line 3\u001b[0m\n\u001b[1;32m      1\u001b[0m result \u001b[38;5;241m=\u001b[39m  get_list_of_lines_without_eol_character(\u001b[38;5;124m'\u001b[39m\u001b[38;5;124mcomposers.txt\u001b[39m\u001b[38;5;124m'\u001b[39m)\n\u001b[1;32m      2\u001b[0m expected \u001b[38;5;241m=\u001b[39m [\u001b[38;5;124m'\u001b[39m\u001b[38;5;124mdufay\u001b[39m\u001b[38;5;124m'\u001b[39m, \u001b[38;5;124m'\u001b[39m\u001b[38;5;124mockeghem\u001b[39m\u001b[38;5;124m'\u001b[39m, \u001b[38;5;124m'\u001b[39m\u001b[38;5;124mjosquin\u001b[39m\u001b[38;5;124m'\u001b[39m, \u001b[38;5;124m'\u001b[39m\u001b[38;5;124mwillaert\u001b[39m\u001b[38;5;124m'\u001b[39m, \u001b[38;5;124m'\u001b[39m\u001b[38;5;124morlando\u001b[39m\u001b[38;5;124m'\u001b[39m, \u001b[38;5;124m'\u001b[39m\u001b[38;5;124msweelinck\u001b[39m\u001b[38;5;124m'\u001b[39m]\n\u001b[0;32m----> 3\u001b[0m \u001b[38;5;28;01massert\u001b[39;00m result \u001b[38;5;241m==\u001b[39m expected, \u001b[38;5;124mf\u001b[39m\u001b[38;5;124m'\u001b[39m\u001b[38;5;132;01m{\u001b[39;00mresult\u001b[38;5;132;01m=}\u001b[39;00m\u001b[38;5;124m != \u001b[39m\u001b[38;5;132;01m{\u001b[39;00mexpected\u001b[38;5;132;01m}\u001b[39;00m\u001b[38;5;124m'\u001b[39m\n",
      "\u001b[0;31mAssertionError\u001b[0m: result=[] != ['dufay', 'ockeghem', 'josquin', 'willaert', 'orlando', 'sweelinck']"
     ]
    }
   ],
   "source": [
    "result =  get_list_of_lines_without_eol_character('composers.txt')\n",
    "expected = ['dufay', 'ockeghem', 'josquin', 'willaert', 'orlando', 'sweelinck']\n",
    "assert result == expected, f'{result=} != {expected}'"
   ]
  },
  {
   "cell_type": "markdown",
   "metadata": {},
   "source": [
    "## Reading numeric data\n",
    "All reading/writing is done with text objects, i.e. reading a '7' will be text string with a single character rather than a numeric value. \n",
    "\n",
    "To get numbers from file intended for computation we have to do a type conversion (typically `int` or `float`)\n",
    "\n",
    "Consider a file with one number per line. \n",
    "\n",
    "    1\n",
    "    2\n",
    "    3\n",
    "    4\n"
   ]
  },
  {
   "cell_type": "markdown",
   "metadata": {},
   "source": [
    "### Exercise 4\n",
    "\n",
    "Write a function that takes a file name as input and returns the sum of the numbers in the file, assuming one number per line"
   ]
  },
  {
   "cell_type": "code",
   "execution_count": 22,
   "metadata": {
    "deletable": false,
    "editable": false,
    "nbgrader": {
     "cell_type": "code",
     "checksum": "89a414bebe16c2b8da29d6c18a927ed2",
     "grade": false,
     "grade_id": "cell-762fc0f0c9060c95",
     "locked": true,
     "schema_version": 3,
     "solution": false
    }
   },
   "outputs": [
    {
     "name": "stdout",
     "output_type": "stream",
     "text": [
      "Overwriting numbers1.txt\n"
     ]
    }
   ],
   "source": [
    "%%file numbers1.txt\n",
    "1\n",
    "2\n",
    "3\n",
    "4\n",
    "5"
   ]
  },
  {
   "cell_type": "code",
   "execution_count": 31,
   "metadata": {
    "deletable": false,
    "nbgrader": {
     "cell_type": "code",
     "checksum": "af18459944dca5660f2b09fcba963930",
     "grade": false,
     "grade_id": "cell-e61d832d811f3cc4",
     "locked": false,
     "schema_version": 3,
     "solution": true
    }
   },
   "outputs": [
    {
     "data": {
      "text/plain": [
       "15"
      ]
     },
     "execution_count": 31,
     "metadata": {},
     "output_type": "execute_result"
    }
   ],
   "source": [
    "def sum_numbers_in_file(filename):\n",
    "    number_sum = 0\n",
    "    \n",
    "    # YOUR CODE HERE\n",
    "    ################\n",
    "    # f = open('numbers1.txt') #do not hard-code the filename in source\n",
    "    #f = open(filename)\n",
    "    #for line in f:\n",
    "    #    print(line, end=\"\")\n",
    "    #    number_sum = number_sum + int(line)\n",
    "    #f.close()\n",
    "    with open(filename) as f:\n",
    "        for line in f:\n",
    "            number_sum += int(line)\n",
    "    \n",
    "    return number_sum \n",
    " \n",
    "sum_numbers_in_file('numbers1.txt')"
   ]
  },
  {
   "cell_type": "code",
   "execution_count": 32,
   "metadata": {
    "deletable": false,
    "editable": false,
    "nbgrader": {
     "cell_type": "code",
     "checksum": "9f931d943fa0748004cab321ba00e2c9",
     "grade": true,
     "grade_id": "cell-cedf19ef9aeb39f9",
     "locked": true,
     "points": 1,
     "schema_version": 3,
     "solution": false
    }
   },
   "outputs": [],
   "source": [
    "result = sum_numbers_in_file('numbers1.txt')\n",
    "expected = 15\n",
    "assert result == expected, f'{result=} != {expected=}'"
   ]
  },
  {
   "cell_type": "markdown",
   "metadata": {
    "deletable": false,
    "editable": false,
    "nbgrader": {
     "cell_type": "markdown",
     "checksum": "6aabeac648fde15d2121b0d2be2fb92d",
     "grade": false,
     "grade_id": "cell-d058b86d284d057d",
     "locked": true,
     "schema_version": 3,
     "solution": false
    }
   },
   "source": [
    "### Exercise 5\n",
    "\n",
    "It was realized that some files have more numbers on several lines such that for a file like\n",
    "\n",
    "    1 2 3 4 5\n",
    "    6 7 8 9 10\n",
    "    \n",
    "could not be handled by this function but we would get an error like\n",
    "\n",
    "    E           ValueError: invalid literal for int() with base 10: '1 2 3 4 5\\n'\n",
    "    \n",
    "\n",
    "In this exercise generalize the function above by copying here. Use the `split` method to split a line into words.\n",
    "Example\n",
    "\n",
    "    >>> '1 2 3 4 5\\n'.split()\n",
    "    ['1', '2', '3', '4', '5']\n",
    "   "
   ]
  },
  {
   "cell_type": "code",
   "execution_count": 33,
   "metadata": {
    "deletable": false,
    "editable": false,
    "nbgrader": {
     "cell_type": "code",
     "checksum": "e0ee07910b25086d9bd08c31a5859c12",
     "grade": false,
     "grade_id": "cell-24514acaed652220",
     "locked": true,
     "schema_version": 3,
     "solution": false
    }
   },
   "outputs": [
    {
     "name": "stdout",
     "output_type": "stream",
     "text": [
      "Writing numbers2.txt\n"
     ]
    }
   ],
   "source": [
    "%%file numbers2.txt\n",
    "1 2 3 4 5\n",
    "6 7 8 9 10\n",
    "\n"
   ]
  },
  {
   "cell_type": "code",
   "execution_count": 34,
   "metadata": {},
   "outputs": [
    {
     "ename": "ValueError",
     "evalue": "invalid literal for int() with base 10: '1 2 3 4 5\\n'",
     "output_type": "error",
     "traceback": [
      "\u001b[0;31m---------------------------------------------------------------------------\u001b[0m",
      "\u001b[0;31mValueError\u001b[0m                                Traceback (most recent call last)",
      "Cell \u001b[0;32mIn[34], line 2\u001b[0m\n\u001b[1;32m      1\u001b[0m \u001b[38;5;66;03m# You may uncomment this line and try\u001b[39;00m\n\u001b[0;32m----> 2\u001b[0m \u001b[43msum_numbers_in_file\u001b[49m\u001b[43m(\u001b[49m\u001b[38;5;124;43m'\u001b[39;49m\u001b[38;5;124;43mnumbers2.txt\u001b[39;49m\u001b[38;5;124;43m'\u001b[39;49m\u001b[43m)\u001b[49m\n",
      "Cell \u001b[0;32mIn[31], line 14\u001b[0m, in \u001b[0;36msum_numbers_in_file\u001b[0;34m(filename)\u001b[0m\n\u001b[1;32m     12\u001b[0m \u001b[38;5;28;01mwith\u001b[39;00m \u001b[38;5;28mopen\u001b[39m(filename) \u001b[38;5;28;01mas\u001b[39;00m f:\n\u001b[1;32m     13\u001b[0m     \u001b[38;5;28;01mfor\u001b[39;00m line \u001b[38;5;129;01min\u001b[39;00m f:\n\u001b[0;32m---> 14\u001b[0m         number_sum \u001b[38;5;241m+\u001b[39m\u001b[38;5;241m=\u001b[39m \u001b[38;5;28;43mint\u001b[39;49m\u001b[43m(\u001b[49m\u001b[43mline\u001b[49m\u001b[43m)\u001b[49m\n\u001b[1;32m     16\u001b[0m \u001b[38;5;28;01mreturn\u001b[39;00m number_sum\n",
      "\u001b[0;31mValueError\u001b[0m: invalid literal for int() with base 10: '1 2 3 4 5\\n'"
     ]
    }
   ],
   "source": [
    "# You may uncomment this line and try\n",
    "sum_numbers_in_file('numbers2.txt')"
   ]
  },
  {
   "cell_type": "markdown",
   "metadata": {},
   "source": [
    "In this exercise generalize the function from exercise 4. Use the `split` method to split a line into words."
   ]
  },
  {
   "cell_type": "code",
   "execution_count": 37,
   "metadata": {
    "deletable": false,
    "nbgrader": {
     "cell_type": "code",
     "checksum": "0bca2a70a03a2ff2abfe62395de2a052",
     "grade": false,
     "grade_id": "cell-e61d832d811f3cc5",
     "locked": false,
     "schema_version": 3,
     "solution": true
    }
   },
   "outputs": [
    {
     "data": {
      "text/plain": [
       "55"
      ]
     },
     "execution_count": 37,
     "metadata": {},
     "output_type": "execute_result"
    }
   ],
   "source": [
    "def sum_numbers_in_file2(filename):\n",
    "    number_sum = 0\n",
    "    # \n",
    "    # YOUR CODE HERE\n",
    "    ################\n",
    "    with open(filename) as f:\n",
    "        for line in f:\n",
    "            for word in line.split():\n",
    "                number_sum += int(word)\n",
    "    \n",
    "    return number_sum \n",
    "   \n",
    "    \n",
    "sum_numbers_in_file2('numbers2.txt')"
   ]
  },
  {
   "cell_type": "code",
   "execution_count": 38,
   "metadata": {
    "deletable": false,
    "editable": false,
    "nbgrader": {
     "cell_type": "code",
     "checksum": "7f38f2bc1870df93569496f19252fba2",
     "grade": true,
     "grade_id": "cell-b4d65b9e6d0f1e01",
     "locked": true,
     "points": 1,
     "schema_version": 3,
     "solution": false
    }
   },
   "outputs": [],
   "source": [
    "result1 = sum_numbers_in_file2('numbers1.txt')\n",
    "expected1 = 15\n",
    "assert result1 == expected1, f'{result1=} != {expected1=}'\n",
    "\n",
    "result2 = sum_numbers_in_file2('numbers2.txt')\n",
    "expected2 = 55\n",
    "assert result2 == expected2, f'{result2=} != {expected2=}'"
   ]
  },
  {
   "cell_type": "markdown",
   "metadata": {},
   "source": [
    "## Writing files\n",
    "\n",
    "When we call the builtin function `open` with a filename as a single argument the default behaviour is to look for an existing file for reading. If it does not exist the system prints  a `FileNotFoundError` and a message like\n",
    "\n",
    "    open('no_such_file')\n",
    "    ---------------------------------------------------------------------------\n",
    "    FileNotFoundError                         Traceback (most recent call last)\n",
    "    <ipython-input-15-b99a18bdaf59> in <module>()\n",
    "    ----> 1 open('no_such_file')\n",
    "\n",
    "    FileNotFoundError: [Errno 2] No such file or directory: 'no_such_file'\n",
    "    \n",
    " \n",
    " \n",
    "To open a new file to be written we have to supply an additional parameter, `w` for writing.\n",
    "\n",
    "    open('new_file', 'w')\n",
    " \n",
    "The `open` function returns a file object which has methods for reading (`read`, `readlines`) and writing (`write`)\n",
    "\n",
    "You can often look up the documentation of a function with"
   ]
  },
  {
   "cell_type": "code",
   "execution_count": null,
   "metadata": {},
   "outputs": [],
   "source": [
    "help(open)"
   ]
  },
  {
   "cell_type": "markdown",
   "metadata": {},
   "source": [
    "### Exercise 6\n",
    "\n",
    "With the content in the multi-line string write down code that writes the following content to a file of the form first_last.txt  and with capitalized names (First, Last) in the text.\n",
    "\n",
    "Hint: consider string methods\n",
    "\n",
    "    >>> 'JOHN'.lower()\n",
    "    john\n",
    "    >>> 'JOHN'.capitalize()\n",
    "    John\n",
    "    \n",
    "    "
   ]
  },
  {
   "cell_type": "code",
   "execution_count": 55,
   "metadata": {
    "deletable": false,
    "nbgrader": {
     "cell_type": "code",
     "checksum": "97d2c0b1301c0d39dfb653ed20c368ef",
     "grade": false,
     "grade_id": "cell-9e5cf46774b3a243",
     "locked": false,
     "schema_version": 3,
     "solution": true
    }
   },
   "outputs": [],
   "source": [
    "def try_out_names(first, last):\n",
    "    \n",
    "    content = f\"\"\"\n",
    "    'Tis but thy name that is my enemy;\n",
    "    Thou art thyself, though not a {last}.\n",
    "    What's {last}? It is nor hand, nor foot,\n",
    "    Nor arm, nor face, nor any other part\n",
    "    Belonging to a man. O, be some other name!\n",
    "    What's in a name? That which we call a rose\n",
    "    By any other word would smell as sweet;\n",
    "    So {first} would, were he not {first} call'd,\n",
    "    Retain that dear perfection which he owes\n",
    "    Without that title. {first}, doff thy name,\n",
    "    And for that name which is no part of thee\n",
    "    Take all myself.\n",
    "    \"\"\"\n",
    "    \n",
    "    return content\n",
    "\n",
    "def write_to_file(first, last):\n",
    "    \"\"\"\n",
    "    Writes to file first_last.txt balcony scene with names\n",
    "    Filename will be in lower case\n",
    "    Names in text will have initial letter capitalized\n",
    "    \"\"\"\n",
    "    # YOUR CODE HERE\n",
    "    ################\n",
    "    # 1. open a file with lower case names\n",
    "    # 2. write content with capitalized names\n",
    "    filename = first.lower() + \"_\" + last.lower() + \".txt\"\n",
    "    with open(filename, mode='w') as f:\n",
    "        content = try_out_names(first.capitalize(), last.capitalize())\n",
    "        f.write(content)\n",
    "\n",
    "\n",
    "    "
   ]
  },
  {
   "cell_type": "code",
   "execution_count": 56,
   "metadata": {
    "deletable": false,
    "editable": false,
    "nbgrader": {
     "cell_type": "code",
     "checksum": "6515cccca747ae9661b7e48b672e548a",
     "grade": true,
     "grade_id": "cell-afe447054334d72a",
     "locked": true,
     "points": 1,
     "schema_version": 3,
     "solution": false
    }
   },
   "outputs": [],
   "source": [
    "# Now write to new file and check content\n",
    "from pathlib import Path\n",
    "from difflib import context_diff\n",
    "\n",
    "def rm_f(filename):\n",
    "    \"\"\"\n",
    "    Delete a file if it exists \n",
    "    (bash: $ rm -f filename)\n",
    "    \"\"\"\n",
    "    file = Path(filename)\n",
    "    file.unlink(missing_ok=True)\n",
    "\n",
    "rm_f('ronald_smith.txt')\n",
    "write_to_file('RONALD', 'SMITH')\n",
    "result = open('ronald_smith.txt').read()\n",
    "expected= \"\"\"\n",
    "    'Tis but thy name that is my enemy;\n",
    "    Thou art thyself, though not a Smith.\n",
    "    What's Smith? It is nor hand, nor foot,\n",
    "    Nor arm, nor face, nor any other part\n",
    "    Belonging to a man. O, be some other name!\n",
    "    What's in a name? That which we call a rose\n",
    "    By any other word would smell as sweet;\n",
    "    So Ronald would, were he not Ronald call'd,\n",
    "    Retain that dear perfection which he owes\n",
    "    Without that title. Ronald, doff thy name,\n",
    "    And for that name which is no part of thee\n",
    "    Take all myself.\n",
    "    \"\"\"\n",
    "\n",
    "def diff(left, right):\n",
    "    left_lines = left.splitlines(True)\n",
    "    right_lines = right.splitlines(True)\n",
    "    diff_lines = context_diff(left_lines, right_lines)\n",
    "    return \"\".join(diff_lines)\n",
    "\n",
    "assert result == expected, diff(result, expected)"
   ]
  },
  {
   "cell_type": "code",
   "execution_count": 57,
   "metadata": {
    "deletable": false,
    "editable": false,
    "nbgrader": {
     "cell_type": "code",
     "checksum": "d721339d97d9fda846cb6434184a70da",
     "grade": true,
     "grade_id": "cell-38bc00bbe09a1a75",
     "locked": true,
     "points": 1,
     "schema_version": 3,
     "solution": false,
     "task": false
    }
   },
   "outputs": [],
   "source": [
    "rm_f('romeo_montague.txt')\n",
    "write_to_file('ROMEO', 'MONTAGUE')\n",
    "result = open('romeo_montague.txt').read()\n",
    "expected = \"\"\"\n",
    "    'Tis but thy name that is my enemy;\n",
    "    Thou art thyself, though not a Montague.\n",
    "    What's Montague? It is nor hand, nor foot,\n",
    "    Nor arm, nor face, nor any other part\n",
    "    Belonging to a man. O, be some other name!\n",
    "    What's in a name? That which we call a rose\n",
    "    By any other word would smell as sweet;\n",
    "    So Romeo would, were he not Romeo call'd,\n",
    "    Retain that dear perfection which he owes\n",
    "    Without that title. Romeo, doff thy name,\n",
    "    And for that name which is no part of thee\n",
    "    Take all myself.\n",
    "    \"\"\"\n",
    "assert result == expected, diff(result, expected)"
   ]
  },
  {
   "cell_type": "markdown",
   "metadata": {},
   "source": [
    "### Exercise 7\n",
    "Implement a file copy command command with Python read an write commands\n"
   ]
  },
  {
   "cell_type": "code",
   "execution_count": 77,
   "metadata": {
    "deletable": false,
    "nbgrader": {
     "cell_type": "code",
     "checksum": "c404252accc3be9af0c329e8bd602a4e",
     "grade": false,
     "grade_id": "cell-6360c6f2039531d7",
     "locked": false,
     "schema_version": 3,
     "solution": true
    }
   },
   "outputs": [],
   "source": [
    "def cp(source, target):\n",
    "    \"\"\"\n",
    "    Copies textfile source to target\n",
    "    \"\"\"\n",
    "    # YOUR CODE HERE\n",
    "    ################\n",
    "    # open source for reading\n",
    "    # open target for writing\n",
    "    #with open(source) as f:\n",
    "    #    with open(target, mode='w') as g:\n",
    "    #        for line in f:\n",
    "    #             g.write(line)\n",
    "\n",
    "    # read write the whole file at once\n",
    "    with open(source) as f, open(target, 'w') as g:\n",
    "        #with open(target, 'w') as g:\n",
    "            #content = f.read()\n",
    "            #g.write(content)\n",
    "        g.write(f.read())"
   ]
  },
  {
   "cell_type": "code",
   "execution_count": 78,
   "metadata": {
    "deletable": false,
    "editable": false,
    "nbgrader": {
     "cell_type": "code",
     "checksum": "eaccc690403274764ec9bed34cd444b5",
     "grade": false,
     "grade_id": "cell-f8c9c62b3953114a",
     "locked": true,
     "schema_version": 3,
     "solution": false,
     "task": false
    }
   },
   "outputs": [
    {
     "name": "stdout",
     "output_type": "stream",
     "text": [
      "Overwriting blake.txt\n"
     ]
    }
   ],
   "source": [
    "%%file blake.txt\n",
    "To see a World in a Grain of Sand\n",
    "And a Heaven in a Wild Flower,\n",
    "Hold Infinity in the palm of your hand \n",
    "And Eternity in an hour."
   ]
  },
  {
   "cell_type": "code",
   "execution_count": 79,
   "metadata": {
    "deletable": false,
    "editable": false,
    "nbgrader": {
     "cell_type": "code",
     "checksum": "93a7bdbf84fa7f2fb92f369059fad387",
     "grade": true,
     "grade_id": "cell-d7bfacb6d05ced8a",
     "locked": true,
     "points": 1,
     "schema_version": 3,
     "solution": false,
     "task": false
    }
   },
   "outputs": [],
   "source": [
    "import filecmp\n",
    "cp('blake.txt', 'poem.txt')\n",
    "assert filecmp.cmp('blake.txt', 'poem.txt'), 'blake.txt and poem.txt differ'"
   ]
  },
  {
   "cell_type": "code",
   "execution_count": null,
   "metadata": {},
   "outputs": [],
   "source": []
  }
 ],
 "metadata": {
  "kernelspec": {
   "display_name": "Python 3 (ipykernel)",
   "language": "python",
   "name": "python3"
  },
  "language_info": {
   "codemirror_mode": {
    "name": "ipython",
    "version": 3
   },
   "file_extension": ".py",
   "mimetype": "text/x-python",
   "name": "python",
   "nbconvert_exporter": "python",
   "pygments_lexer": "ipython3",
   "version": "3.12.2"
  }
 },
 "nbformat": 4,
 "nbformat_minor": 4
}
