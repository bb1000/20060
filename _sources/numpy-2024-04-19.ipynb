{
 "cells": [
  {
   "cell_type": "markdown",
   "metadata": {},
   "source": [
    "Before you turn this problem in, make sure everything runs as expected. First, **restart the kernel** (in the menubar, select Kernel$\\rightarrow$Restart) and then **run all cells** (in the menubar, select Cell$\\rightarrow$Run All).\n",
    "\n",
    "Make sure you fill in any place that says `YOUR CODE HERE` or \"YOUR ANSWER HERE\", as well as your name and collaborators below:"
   ]
  },
  {
   "cell_type": "code",
   "execution_count": 1,
   "metadata": {},
   "outputs": [],
   "source": [
    "NAME = \"\"\n",
    "COLLABORATORS = \"\""
   ]
  },
  {
   "cell_type": "markdown",
   "metadata": {},
   "source": [
    "---"
   ]
  },
  {
   "cell_type": "markdown",
   "metadata": {
    "deletable": false,
    "editable": false,
    "nbgrader": {
     "cell_type": "markdown",
     "checksum": "2e5d227747ef5772f5f180c5c58ae8d5",
     "grade": false,
     "grade_id": "cell-90ed0b4052d2c644",
     "locked": true,
     "schema_version": 3,
     "solution": false,
     "task": false
    }
   },
   "source": [
    "## External libraries: numpy"
   ]
  },
  {
   "cell_type": "code",
   "execution_count": 2,
   "metadata": {
    "deletable": false,
    "editable": false,
    "nbgrader": {
     "cell_type": "code",
     "checksum": "81201a3b496cf4db965a18ea2efc9686",
     "grade": false,
     "grade_id": "cell-b43ed842dc54d974",
     "locked": true,
     "schema_version": 3,
     "solution": false,
     "task": false
    }
   },
   "outputs": [],
   "source": [
    "import numpy as np\n",
    "import numpy.testing as npt\n",
    "import matplotlib.pyplot as plt"
   ]
  },
  {
   "cell_type": "markdown",
   "metadata": {
    "deletable": false,
    "editable": false,
    "nbgrader": {
     "cell_type": "markdown",
     "checksum": "11c41503eff3b032b77dcfe6b8f04352",
     "grade": false,
     "grade_id": "cell-352ee9d51e9660be",
     "locked": true,
     "schema_version": 3,
     "solution": false,
     "task": false
    }
   },
   "source": [
    "### Numpy\n",
    "\n",
    "Complete the functions so that the required functionality is obtained\n"
   ]
  },
  {
   "cell_type": "markdown",
   "metadata": {
    "deletable": false,
    "editable": false,
    "nbgrader": {
     "cell_type": "markdown",
     "checksum": "3292e416b9bd855068b07d11e939b15f",
     "grade": false,
     "grade_id": "cell-b270f8900d88a06c",
     "locked": true,
     "schema_version": 3,
     "solution": false,
     "task": false
    }
   },
   "source": [
    "**1. Replace negative numbers in an array with zeros**\n",
    "\n",
    "Here we expect the following behaviour: whereever an element is negative in the input array, the output array has those elements replaced with zeros\n",
    "\n",
    "    >>> set_negative_to_zero([1, 2, -3, 4, 5])\n",
    "    array([1, 2, 0, 4, 5])\n",
    "\n",
    "Hint, lookup the documentation for [numpy.where](https://numpy.org/doc/stable/reference/generated/numpy.where.html)\n"
   ]
  },
  {
   "cell_type": "code",
   "execution_count": null,
   "metadata": {
    "deletable": false,
    "nbgrader": {
     "cell_type": "code",
     "checksum": "4c5d49d9edff8cfdfd5a58893f27eee4",
     "grade": false,
     "grade_id": "cell-6bd3363ddb92b9e7",
     "locked": false,
     "schema_version": 3,
     "solution": true,
     "task": false
    }
   },
   "outputs": [],
   "source": [
    "def set_negative_to_zero(a):\n",
    "    # YOUR CODE HERE\n",
    "    ################\n",
    "    ..."
   ]
  },
  {
   "cell_type": "code",
   "execution_count": null,
   "metadata": {
    "deletable": false,
    "editable": false,
    "nbgrader": {
     "cell_type": "code",
     "checksum": "9c1e3fc092cff7fb3e55dcd3f6baec5d",
     "grade": true,
     "grade_id": "cell-2836ac9b3b7e2044",
     "locked": true,
     "points": 1,
     "schema_version": 3,
     "solution": false,
     "task": false
    }
   },
   "outputs": [],
   "source": [
    "a = np.array([1, 2, -3, 4, -5])\n",
    "npt.assert_equal(set_negative_to_zero(a), [1, 2, 0, 4, 0])"
   ]
  },
  {
   "cell_type": "markdown",
   "metadata": {
    "deletable": false,
    "editable": false,
    "nbgrader": {
     "cell_type": "markdown",
     "checksum": "86955b6f7939411cf2533dd04c032241",
     "grade": false,
     "grade_id": "cell-bcc55b8c83306fc6",
     "locked": true,
     "schema_version": 3,
     "solution": false,
     "task": false
    }
   },
   "source": [
    "**2. Create a copy of an array with all negative numbers removed**\n",
    "\n",
    "The output array will have a smaller length here than the original\n",
    "\n",
    "    >>> drop_negative_numbers(np.array([1, 2, -3, 4, -5]))\n",
    "    array([1, 2, 4])\n",
    "\n",
    "Hint: use the original array in a logical expression gives a boolean array that can filter your data"
   ]
  },
  {
   "cell_type": "code",
   "execution_count": null,
   "metadata": {
    "deletable": false,
    "nbgrader": {
     "cell_type": "code",
     "checksum": "0cf69abe0c5916ff5960638201bd58b6",
     "grade": false,
     "grade_id": "cell-9cb3a4483d6d750f",
     "locked": false,
     "schema_version": 3,
     "solution": true,
     "task": false
    }
   },
   "outputs": [],
   "source": [
    "def drop_negative_numbers(a):\n",
    "    # YOUR CODE HERE\n",
    "    ################\n",
    "    ..."
   ]
  },
  {
   "cell_type": "code",
   "execution_count": null,
   "metadata": {
    "deletable": false,
    "editable": false,
    "nbgrader": {
     "cell_type": "code",
     "checksum": "97953d46b0ea6432f43d97173b124d08",
     "grade": true,
     "grade_id": "cell-4b4ff0d430cf8d08",
     "locked": true,
     "points": 1,
     "schema_version": 3,
     "solution": false,
     "task": false
    }
   },
   "outputs": [],
   "source": [
    "a = np.array([1, 2, -3, 4, -5])\n",
    "b = drop_negative_numbers(a)\n",
    "npt.assert_equal(b, [1, 2, 4])"
   ]
  },
  {
   "cell_type": "markdown",
   "metadata": {},
   "source": [
    "**3. Linear regression with numpy**\n",
    "\n",
    "Consider the optimal mapping of a straight line to a set of points. We have a set of observation points with coordinates $\\{x_i, y_i: i=1, n\\}$. What are the \"best\" values of $k$, and $l$ that map the dots on a straigt line?\n",
    "\n",
    "$$ y = kx + l $$\n",
    "\n",
    "The error between prediction and observation of $y$\n",
    "\n",
    "$$\\epsilon_i = kx_i + l - y_i$$\n",
    "\n",
    "Minimize the total error (based on least squares)\n",
    "\n",
    "$$ L = \\sum_i \\epsilon_i^2$$\n",
    "\n",
    "with respect to parameters $k, l$\n",
    "\n",
    "$$\n",
    "\\left\\lbrace\n",
    "\\begin{split}\n",
    "\\frac{\\partial L}{\\partial k} &= 0 = 2\\sum_i\\epsilon_i x_i = 2\\sum_i(kx_i + l- y_i)x_i\\\\\n",
    "\\frac{\\partial L}{\\partial l} &= 0 = 2\\sum_i\\epsilon_i  = 2\\sum_i(kx_i + l- y_i)\\\\\n",
    "\\end{split}\n",
    "\\right.\n",
    "$$\n",
    "*i.e.* a system of equations for $k, l$\n",
    "$$\n",
    "\\left\\lbrace\\begin{split}\n",
    "(\\sum_i x_i^2)k + (\\sum_ix_i)l &=\\sum_i x_iy_i\\\\\n",
    "(\\sum_ix_i)k + (\\sum_i 1)l &= \\sum_i y_i\n",
    "\\end{split}\n",
    "\\right.\n",
    "$$"
   ]
  },
  {
   "attachments": {
    "data.png": {
     "image/png": "[encoded data removed]"
    }
   },
   "cell_type": "markdown",
   "metadata": {},
   "source": [
    "Data in the accompanying file data.txt, have the following distribution\n",
    "\n",
    "![data.png](attachment:data.png)\n",
    "\n"
   ]
  },
  {
   "cell_type": "markdown",
   "metadata": {},
   "source": [
    "**3.a Read data from file**\n",
    "Read the data into two numpy arrays, one for each column in the file"
   ]
  },
  {
   "cell_type": "code",
   "execution_count": null,
   "metadata": {
    "deletable": false,
    "nbgrader": {
     "cell_type": "code",
     "checksum": "2485443d8b32747cd5c0b562f6a9f1e7",
     "grade": false,
     "grade_id": "cell-3567fce5af8b935c",
     "locked": false,
     "schema_version": 3,
     "solution": true,
     "task": false
    }
   },
   "outputs": [],
   "source": [
    "#Read points from file\n",
    "\n",
    "def read_data(filename):\n",
    "    # YOUR CODE HERE\n",
    "    ################\n",
    "    \n",
    "    \n"
   ]
  },
  {
   "cell_type": "code",
   "execution_count": null,
   "metadata": {
    "deletable": false,
    "editable": false,
    "nbgrader": {
     "cell_type": "code",
     "checksum": "e89a7b98afcd3561f5fde44f2f60a575",
     "grade": true,
     "grade_id": "cell-742cd5b349cb7436",
     "locked": true,
     "points": 1,
     "schema_version": 3,
     "solution": false,
     "task": false
    }
   },
   "outputs": [],
   "source": [
    "x, y = read_data('data.txt')\n",
    "assert len(x) == 100\n",
    "assert len(y) == 100\n",
    "assert isinstance(x, np.ndarray)\n",
    "assert isinstance(y, np.ndarray)"
   ]
  },
  {
   "cell_type": "markdown",
   "metadata": {},
   "source": [
    "**3.b** \n",
    "\n",
    "Use numpy linear algebra to obtain the straight-line parameters"
   ]
  },
  {
   "cell_type": "code",
   "execution_count": null,
   "metadata": {
    "deletable": false,
    "nbgrader": {
     "cell_type": "code",
     "checksum": "38497498b306a70ae02181e6dce22bf8",
     "grade": false,
     "grade_id": "cell-d6d00fb68319b513",
     "locked": false,
     "schema_version": 3,
     "solution": true,
     "task": false
    }
   },
   "outputs": [],
   "source": [
    "def linear_regression(x, y):\n",
    "    # YOUR CODE HERE\n",
    "    ################"
   ]
  },
  {
   "cell_type": "code",
   "execution_count": null,
   "metadata": {
    "deletable": false,
    "editable": false,
    "nbgrader": {
     "cell_type": "code",
     "checksum": "9bca06decfe5205208fb1d4c3eb658db",
     "grade": true,
     "grade_id": "cell-095121cae5797865",
     "locked": true,
     "points": 1,
     "schema_version": 3,
     "solution": false,
     "task": false
    }
   },
   "outputs": [],
   "source": [
    "k, l = linear_regression(x, y)\n",
    "assert round(k, 1) == 3.0\n",
    "assert round(l, 1) == 1.2"
   ]
  },
  {
   "cell_type": "markdown",
   "metadata": {},
   "source": [
    "**3.c** Generate a plot with both points (reproducing the plot above) and straight line (with color red) in the same figure. Have the function save the figure to file `linear_regression.png` and finally have the figure and axes objects as return values"
   ]
  },
  {
   "cell_type": "code",
   "execution_count": null,
   "metadata": {
    "deletable": false,
    "nbgrader": {
     "cell_type": "code",
     "checksum": "4ec91656e4e565785d53a4863c4b9a0e",
     "grade": false,
     "grade_id": "cell-9f999e5b6cb240c3",
     "locked": false,
     "schema_version": 3,
     "solution": true,
     "task": false
    }
   },
   "outputs": [],
   "source": [
    "def plot_points_and_line(x, y):\n",
    "    ...\n",
    "    # YOUR CODE HERE\n",
    "    ################"
   ]
  },
  {
   "cell_type": "code",
   "execution_count": null,
   "metadata": {
    "deletable": false,
    "editable": false,
    "nbgrader": {
     "cell_type": "code",
     "checksum": "53b4ba642eeb457c43d984eb0adee67c",
     "grade": true,
     "grade_id": "cell-e46d9b1f74c6e352",
     "locked": true,
     "points": 1,
     "schema_version": 3,
     "solution": false,
     "task": false
    }
   },
   "outputs": [],
   "source": [
    "f, a = plot_points_and_line(x, y)\n",
    "import os\n",
    "assert os.path.exists('linear_regression.png')\n",
    "assert f.get_axes()[0] is a\n",
    "\n",
    "# Here you should se the scatter plot above and also a red straight line connecting the dots"
   ]
  }
 ],
 "metadata": {
  "kernelspec": {
   "display_name": "Python 3 (ipykernel)",
   "language": "python",
   "name": "python3"
  },
  "language_info": {
   "codemirror_mode": {
    "name": "ipython",
    "version": 3
   },
   "file_extension": ".py",
   "mimetype": "text/x-python",
   "name": "python",
   "nbconvert_exporter": "python",
   "pygments_lexer": "ipython3",
   "version": "3.12.2"
  }
 },
 "nbformat": 4,
 "nbformat_minor": 4
}
