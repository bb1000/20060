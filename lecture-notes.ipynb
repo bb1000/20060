{
 "cells": [
  {
   "cell_type": "markdown",
   "id": "7860ece8-eed3-4c91-b8c8-49f2e13cb9c1",
   "metadata": {},
   "source": [
    "# Introduction\n",
    "\n",
    "## Installation\n",
    "\n",
    "* Go to the download page https://docs.conda.io/en/latest/miniconda.html and download the installer from your platform\n",
    "\n",
    "### Mac\n",
    "\n",
    "* The pkg installer for your processor (Intel/Arm) is easiest to handle\n",
    "* It installs to /opt/miniconda3 and adds information to your shell startup-file .zshrc\n",
    "* When you start a terminal the next time there will be a \"(base)\" in the prompt.\n",
    "\n",
    "### Windows\n",
    "\n",
    "* Run the *.exe file to install.\n",
    "* Use recommended settings\n",
    "* There will be a command-line application in addition to standard Windows CMD which is initialized for Conda "
   ]
  },
  {
   "cell_type": "markdown",
   "id": "493d9d85-95dd-419b-9910-a8d930f4c9fc",
   "metadata": {},
   "source": [
    "## Notebooks"
   ]
  },
  {
   "cell_type": "markdown",
   "id": "6e50fef6-d83a-4e14-ad9f-fd13ac9ddfe2",
   "metadata": {},
   "source": [
    "* code cells\n",
    "* text cells"
   ]
  },
  {
   "cell_type": "code",
   "execution_count": 2,
   "id": "8c31d333-c46f-4181-bc73-6c30d49d2a29",
   "metadata": {},
   "outputs": [
    {
     "data": {
      "text/plain": [
       "72"
      ]
     },
     "execution_count": 2,
     "metadata": {},
     "output_type": "execute_result"
    }
   ],
   "source": [
    "8*9"
   ]
  },
  {
   "cell_type": "markdown",
   "id": "e69fd035-844e-4fef-b805-28686b6cc432",
   "metadata": {},
   "source": [
    "Text cells understand markdown syntax for easy formatting. Example code with header and subheader\n",
    "\n",
    "    # Header\n",
    "    ## Subheader\n",
    "    \n",
    "    Example of math typesettings with Latex\n",
    "    \n",
    "    $$ f(x) = a e^{-x^2} $$"
   ]
  },
  {
   "cell_type": "markdown",
   "id": "3599b52d-c294-40c8-8847-06ba11a21292",
   "metadata": {},
   "source": [
    "# Header\n",
    "## Subheader\n",
    "\n",
    "Example of math typesettings with Latex\n",
    "\n",
    "$$ f(x) = a e^{-x^2} $$"
   ]
  },
  {
   "cell_type": "markdown",
   "id": "cec86023-2d6d-4b3c-8000-f1c72dc189c1",
   "metadata": {},
   "source": [
    "## Basic datatypes\n",
    "### Numerical"
   ]
  },
  {
   "cell_type": "code",
   "execution_count": 1,
   "id": "514b1a95-06e1-475b-8364-5de547b3fe01",
   "metadata": {},
   "outputs": [
    {
     "data": {
      "text/plain": [
       "0.8888888888888888"
      ]
     },
     "execution_count": 1,
     "metadata": {},
     "output_type": "execute_result"
    }
   ],
   "source": [
    "8/9\n"
   ]
  },
  {
   "cell_type": "code",
   "execution_count": 2,
   "id": "81edae46-9b47-46bc-b7b6-1c063dff757d",
   "metadata": {},
   "outputs": [
    {
     "name": "stdout",
     "output_type": "stream",
     "text": [
      "72\n"
     ]
    }
   ],
   "source": [
    "x = 8\n",
    "y = 9\n",
    "z = x * y\n",
    "print(z)"
   ]
  },
  {
   "cell_type": "code",
   "execution_count": 3,
   "id": "9e136014-11f4-402c-b9cd-07b05e091c49",
   "metadata": {},
   "outputs": [
    {
     "data": {
      "text/plain": [
       "int"
      ]
     },
     "execution_count": 3,
     "metadata": {},
     "output_type": "execute_result"
    }
   ],
   "source": [
    "type(z)"
   ]
  },
  {
   "cell_type": "code",
   "execution_count": 4,
   "id": "57b78da6-44b3-4bfb-a42f-460f8ba921da",
   "metadata": {},
   "outputs": [
    {
     "name": "stdout",
     "output_type": "stream",
     "text": [
      "0.8888888888888888\n"
     ]
    }
   ],
   "source": [
    "z = x / y\n",
    "print(z)"
   ]
  },
  {
   "cell_type": "code",
   "execution_count": 5,
   "id": "d65b3b8c-8159-4d46-afb9-cf805f3ccd77",
   "metadata": {},
   "outputs": [
    {
     "data": {
      "text/plain": [
       "float"
      ]
     },
     "execution_count": 5,
     "metadata": {},
     "output_type": "execute_result"
    }
   ],
   "source": [
    "type(z)"
   ]
  },
  {
   "cell_type": "code",
   "execution_count": 6,
   "id": "1ea66980-16d0-4575-93d9-dbc920e7f698",
   "metadata": {},
   "outputs": [
    {
     "data": {
      "text/plain": [
       "float"
      ]
     },
     "execution_count": 6,
     "metadata": {},
     "output_type": "execute_result"
    }
   ],
   "source": [
    "type(4/2)"
   ]
  },
  {
   "cell_type": "code",
   "execution_count": 7,
   "id": "edb42bcc-1a09-4cce-8884-4a36d0c9227b",
   "metadata": {},
   "outputs": [
    {
     "data": {
      "text/plain": [
       "int"
      ]
     },
     "execution_count": 7,
     "metadata": {},
     "output_type": "execute_result"
    }
   ],
   "source": [
    "type(4//2)"
   ]
  },
  {
   "cell_type": "markdown",
   "id": "8d498e1f-6672-4f8a-9de6-2c70e889ff9d",
   "metadata": {},
   "source": [
    "Modulus example> is a number even or odd?\n"
   ]
  },
  {
   "cell_type": "code",
   "execution_count": 8,
   "id": "f644be02-f55a-43ee-83ca-605cb532c2c9",
   "metadata": {},
   "outputs": [
    {
     "data": {
      "text/plain": [
       "False"
      ]
     },
     "execution_count": 8,
     "metadata": {},
     "output_type": "execute_result"
    }
   ],
   "source": [
    "7 % 2 == 0"
   ]
  },
  {
   "cell_type": "code",
   "execution_count": 14,
   "id": "0be345d2-df21-4bb1-b020-6c959cb8c3e1",
   "metadata": {},
   "outputs": [
    {
     "data": {
      "text/plain": [
       "True"
      ]
     },
     "execution_count": 14,
     "metadata": {},
     "output_type": "execute_result"
    }
   ],
   "source": [
    "8 % 2 == 0"
   ]
  },
  {
   "cell_type": "markdown",
   "id": "bffe409a-28b5-4929-8249-121ed575bd80",
   "metadata": {},
   "source": [
    "Complex"
   ]
  },
  {
   "cell_type": "code",
   "execution_count": 15,
   "id": "b252af86-8889-44c0-97e2-38b4237ad786",
   "metadata": {},
   "outputs": [
    {
     "data": {
      "text/plain": [
       "complex"
      ]
     },
     "execution_count": 15,
     "metadata": {},
     "output_type": "execute_result"
    }
   ],
   "source": [
    "type(1j)"
   ]
  },
  {
   "cell_type": "code",
   "execution_count": 16,
   "id": "2f7c4d2f-658d-46f1-9d16-82d0ddfbff6c",
   "metadata": {},
   "outputs": [
    {
     "data": {
      "text/plain": [
       "(-1+0j)"
      ]
     },
     "execution_count": 16,
     "metadata": {},
     "output_type": "execute_result"
    }
   ],
   "source": [
    "1j * 1j"
   ]
  },
  {
   "cell_type": "code",
   "execution_count": 17,
   "id": "52cbb159-dd06-4939-9f18-4576d436832d",
   "metadata": {},
   "outputs": [
    {
     "data": {
      "text/plain": [
       "2"
      ]
     },
     "execution_count": 17,
     "metadata": {},
     "output_type": "execute_result"
    }
   ],
   "source": [
    "True + True"
   ]
  },
  {
   "cell_type": "markdown",
   "id": "aec691f2-405f-4de5-8484-1f83b7310483",
   "metadata": {},
   "source": [
    "### Strings"
   ]
  },
  {
   "cell_type": "code",
   "execution_count": 19,
   "id": "b4e96e75-042d-48b7-8a70-71e326f7e003",
   "metadata": {},
   "outputs": [
    {
     "data": {
      "text/plain": [
       "'Hello'"
      ]
     },
     "execution_count": 19,
     "metadata": {},
     "output_type": "execute_result"
    }
   ],
   "source": [
    "\"Hello\""
   ]
  },
  {
   "cell_type": "code",
   "execution_count": 20,
   "id": "82cc3b24-edcb-492b-8036-299e8ebf5f3a",
   "metadata": {},
   "outputs": [
    {
     "data": {
      "text/plain": [
       "'Hello'"
      ]
     },
     "execution_count": 20,
     "metadata": {},
     "output_type": "execute_result"
    }
   ],
   "source": [
    "'Hello'"
   ]
  },
  {
   "cell_type": "code",
   "execution_count": 21,
   "id": "1d4ed2b3-cd86-46b4-bfa2-0af2bbf5193c",
   "metadata": {},
   "outputs": [
    {
     "data": {
      "text/plain": [
       "True"
      ]
     },
     "execution_count": 21,
     "metadata": {},
     "output_type": "execute_result"
    }
   ],
   "source": [
    "'Hello' == \"Hello\""
   ]
  },
  {
   "cell_type": "markdown",
   "id": "124eb305-6d69-457e-b0e9-7c62ee7f958c",
   "metadata": {},
   "source": [
    "When the apostrophes are not balanced we get a syntax error\n",
    "\n",
    "    'It's time'\n",
    "      Cell In[22], line 1\n",
    "        'It's time'\n",
    "                  ^\n",
    "    SyntaxError: unterminated string literal (detected at line 1)\n",
    "\n",
    "    "
   ]
  },
  {
   "cell_type": "code",
   "execution_count": 3,
   "id": "65a23042-1e6a-48cb-b9b2-0807ef038bc3",
   "metadata": {},
   "outputs": [],
   "source": [
    "# 'It's time'"
   ]
  },
  {
   "cell_type": "code",
   "execution_count": 4,
   "id": "bc2f3d6a-650b-4c49-924e-850f8d5272b9",
   "metadata": {},
   "outputs": [
    {
     "data": {
      "text/plain": [
       "\"It's time\""
      ]
     },
     "execution_count": 4,
     "metadata": {},
     "output_type": "execute_result"
    }
   ],
   "source": [
    "'It\\'s time'  # escaping a character with backslash"
   ]
  },
  {
   "cell_type": "code",
   "execution_count": 5,
   "id": "75628375-0f49-463e-aae5-55bcd7c98252",
   "metadata": {},
   "outputs": [
    {
     "data": {
      "text/plain": [
       "\"It's time\""
      ]
     },
     "execution_count": 5,
     "metadata": {},
     "output_type": "execute_result"
    }
   ],
   "source": [
    "\"It's time\""
   ]
  },
  {
   "cell_type": "markdown",
   "id": "9c290e61-c8bc-47a1-b8c6-b2763622bb57",
   "metadata": {},
   "source": [
    "Strings normally have to fit on one line"
   ]
  },
  {
   "cell_type": "code",
   "execution_count": 25,
   "id": "0805daec-ff2a-4e15-831c-ea2391ef06d1",
   "metadata": {},
   "outputs": [
    {
     "ename": "SyntaxError",
     "evalue": "unterminated string literal (detected at line 1) (2076887922.py, line 1)",
     "output_type": "error",
     "traceback": [
      "\u001b[0;36m  Cell \u001b[0;32mIn[25], line 1\u001b[0;36m\u001b[0m\n\u001b[0;31m    \"Hello\u001b[0m\n\u001b[0m    ^\u001b[0m\n\u001b[0;31mSyntaxError\u001b[0m\u001b[0;31m:\u001b[0m unterminated string literal (detected at line 1)\n"
     ]
    }
   ],
   "source": [
    "\"Hello\n",
    "world\""
   ]
  },
  {
   "cell_type": "markdown",
   "id": "1e03f45e-9dda-4856-9aa5-0e193d4ae137",
   "metadata": {},
   "source": [
    "but multi-liinle strings can be defined with triple quotations, which will include the linebreak in the form of a newline character `\\n`"
   ]
  },
  {
   "cell_type": "code",
   "execution_count": 7,
   "id": "5ab6b8b7-f650-4673-847c-be4a4611addf",
   "metadata": {},
   "outputs": [
    {
     "data": {
      "text/plain": [
       "'Hello\\nworld'"
      ]
     },
     "execution_count": 7,
     "metadata": {},
     "output_type": "execute_result"
    }
   ],
   "source": [
    "\"\"\"Hello\n",
    "world\"\"\""
   ]
  },
  {
   "cell_type": "code",
   "execution_count": 8,
   "id": "3169d3c7-4bbf-439c-afd8-b23444fb45ea",
   "metadata": {},
   "outputs": [
    {
     "name": "stdout",
     "output_type": "stream",
     "text": [
      "Hello\n",
      "world\n"
     ]
    }
   ],
   "source": [
    "print('Hello\\nworld')"
   ]
  },
  {
   "cell_type": "code",
   "execution_count": 28,
   "id": "c80ba89f-299a-4bc0-8b72-00c78d3e14c1",
   "metadata": {},
   "outputs": [
    {
     "data": {
      "text/plain": [
       "'hellohello'"
      ]
     },
     "execution_count": 28,
     "metadata": {},
     "output_type": "execute_result"
    }
   ],
   "source": [
    "\"hello\" + \"hello\""
   ]
  },
  {
   "cell_type": "code",
   "execution_count": 29,
   "id": "bb84b3cd-1cb9-472e-aecd-b19bf5e67d43",
   "metadata": {},
   "outputs": [
    {
     "data": {
      "text/plain": [
       "'hellohellohello'"
      ]
     },
     "execution_count": 29,
     "metadata": {},
     "output_type": "execute_result"
    }
   ],
   "source": [
    "\"hello\" + \"hello\" + \"hello\""
   ]
  },
  {
   "cell_type": "code",
   "execution_count": 30,
   "id": "e1c96956-033a-45d7-be21-466543fa3b1a",
   "metadata": {},
   "outputs": [
    {
     "data": {
      "text/plain": [
       "'hellohellohello'"
      ]
     },
     "execution_count": 30,
     "metadata": {},
     "output_type": "execute_result"
    }
   ],
   "source": [
    "\"hello\" * 3"
   ]
  },
  {
   "cell_type": "markdown",
   "id": "bf7bbf37-9d74-4081-9595-80cb53be5718",
   "metadata": {},
   "source": [
    "## Assert\n",
    "\n",
    "assert verifies if something is True. The program will continue in that case, otherwise stop"
   ]
  },
  {
   "cell_type": "code",
   "execution_count": 1,
   "id": "dd5ff7dc-abc8-468c-a558-ca55e12ea60b",
   "metadata": {},
   "outputs": [],
   "source": [
    "assert True"
   ]
  },
  {
   "cell_type": "code",
   "execution_count": 2,
   "id": "18f03e91-606c-4900-b251-7ff5af266294",
   "metadata": {},
   "outputs": [
    {
     "ename": "AssertionError",
     "evalue": "",
     "output_type": "error",
     "traceback": [
      "\u001b[0;31m---------------------------------------------------------------------------\u001b[0m",
      "\u001b[0;31mAssertionError\u001b[0m                            Traceback (most recent call last)",
      "Cell \u001b[0;32mIn[2], line 1\u001b[0m\n\u001b[0;32m----> 1\u001b[0m \u001b[38;5;28;01massert\u001b[39;00m \u001b[38;5;28;01mFalse\u001b[39;00m\n",
      "\u001b[0;31mAssertionError\u001b[0m: "
     ]
    }
   ],
   "source": [
    "assert False"
   ]
  },
  {
   "cell_type": "code",
   "execution_count": 3,
   "id": "bb607179-dd0b-4eec-8d48-760fc8bf60cc",
   "metadata": {},
   "outputs": [
    {
     "ename": "AssertionError",
     "evalue": "Something went wrong",
     "output_type": "error",
     "traceback": [
      "\u001b[0;31m---------------------------------------------------------------------------\u001b[0m",
      "\u001b[0;31mAssertionError\u001b[0m                            Traceback (most recent call last)",
      "Cell \u001b[0;32mIn[3], line 1\u001b[0m\n\u001b[0;32m----> 1\u001b[0m \u001b[38;5;28;01massert\u001b[39;00m \u001b[38;5;28;01mFalse\u001b[39;00m, \u001b[38;5;124m\"\u001b[39m\u001b[38;5;124mSomething went wrong\u001b[39m\u001b[38;5;124m\"\u001b[39m\n",
      "\u001b[0;31mAssertionError\u001b[0m: Something went wrong"
     ]
    }
   ],
   "source": [
    "assert False, \"Something went wrong\""
   ]
  },
  {
   "cell_type": "code",
   "execution_count": 4,
   "id": "6ce176ff-1148-4a70-a3c4-ca6a371ae92f",
   "metadata": {},
   "outputs": [
    {
     "ename": "AssertionError",
     "evalue": "",
     "output_type": "error",
     "traceback": [
      "\u001b[0;31m---------------------------------------------------------------------------\u001b[0m",
      "\u001b[0;31mAssertionError\u001b[0m                            Traceback (most recent call last)",
      "Cell \u001b[0;32mIn[4], line 3\u001b[0m\n\u001b[1;32m      1\u001b[0m calculated \u001b[38;5;241m=\u001b[39m \u001b[38;5;241m1\u001b[39m\n\u001b[1;32m      2\u001b[0m expected \u001b[38;5;241m=\u001b[39m \u001b[38;5;241m2\u001b[39m\n\u001b[0;32m----> 3\u001b[0m \u001b[38;5;28;01massert\u001b[39;00m calculated \u001b[38;5;241m==\u001b[39m expected\n",
      "\u001b[0;31mAssertionError\u001b[0m: "
     ]
    }
   ],
   "source": [
    "calculated = 1\n",
    "expected = 2\n",
    "assert calculated == expected"
   ]
  },
  {
   "cell_type": "code",
   "execution_count": 5,
   "id": "2553415c-5dce-42a1-8f3b-7382521c6901",
   "metadata": {},
   "outputs": [],
   "source": [
    "values = [2, 3, 4, 5, 6, 7, 8, 9, 10, 'knight', 'queen', 'king', 'ace']"
   ]
  },
  {
   "cell_type": "code",
   "execution_count": 7,
   "id": "11b83abb-ae4a-49f9-b147-d6df1724697e",
   "metadata": {},
   "outputs": [
    {
     "data": {
      "text/plain": [
       "4"
      ]
     },
     "execution_count": 7,
     "metadata": {},
     "output_type": "execute_result"
    }
   ],
   "source": [
    "values[0] * 2"
   ]
  },
  {
   "cell_type": "code",
   "execution_count": 8,
   "id": "c0443548-b26d-463f-8d2e-c19fccc60af9",
   "metadata": {},
   "outputs": [
    {
     "data": {
      "text/plain": [
       "'aceace'"
      ]
     },
     "execution_count": 8,
     "metadata": {},
     "output_type": "execute_result"
    }
   ],
   "source": [
    "values[-1] * 2"
   ]
  },
  {
   "cell_type": "code",
   "execution_count": 9,
   "id": "3e3cddd4-380f-4566-9fdb-15faccabb186",
   "metadata": {},
   "outputs": [
    {
     "data": {
      "text/plain": [
       "list"
      ]
     },
     "execution_count": 9,
     "metadata": {},
     "output_type": "execute_result"
    }
   ],
   "source": [
    "type(values)"
   ]
  },
  {
   "cell_type": "code",
   "execution_count": 10,
   "id": "61e0c774-537f-4466-b16f-33b836a94858",
   "metadata": {},
   "outputs": [
    {
     "data": {
      "text/plain": [
       "tuple"
      ]
     },
     "execution_count": 10,
     "metadata": {},
     "output_type": "execute_result"
    }
   ],
   "source": [
    "type( (1, 2) )"
   ]
  },
  {
   "cell_type": "markdown",
   "id": "d3aae06b-38ad-4b4e-8760-99e91f9553e4",
   "metadata": {},
   "source": [
    "## Functions"
   ]
  },
  {
   "cell_type": "code",
   "execution_count": 9,
   "id": "067fcd27-1118-4cf6-b963-30fa13c07897",
   "metadata": {},
   "outputs": [
    {
     "name": "stdout",
     "output_type": "stream",
     "text": [
      "Hello\n"
     ]
    }
   ],
   "source": [
    "# example print\n",
    "result = print(\"Hello\")"
   ]
  },
  {
   "cell_type": "code",
   "execution_count": 10,
   "id": "75c0de79-75da-49a8-af4a-0751cfb634d9",
   "metadata": {},
   "outputs": [
    {
     "name": "stdout",
     "output_type": "stream",
     "text": [
      "None\n"
     ]
    }
   ],
   "source": [
    "print(result) # print does not produce any output, returns \"nothing\", the Python object None has the meaning of nothing"
   ]
  },
  {
   "cell_type": "code",
   "execution_count": 11,
   "id": "2161f33f-0ed0-4efd-bc2f-41f7065e558d",
   "metadata": {},
   "outputs": [
    {
     "name": "stdout",
     "output_type": "stream",
     "text": [
      "x =  3\n",
      "x2 =  9\n",
      "result 9\n"
     ]
    }
   ],
   "source": [
    "def square(x):\n",
    "    \"\"\"\n",
    "    Function that calculates the square of a number\n",
    "\n",
    "    >>> square(3)\n",
    "    9\n",
    "    \n",
    "    \"\"\"\n",
    "    print('x = ',x)\n",
    "    x2 = x * x\n",
    "    print('x2 = ', x2)\n",
    "    return x2\n",
    "\n",
    "result = square(3)\n",
    "print('result', result)"
   ]
  },
  {
   "cell_type": "code",
   "execution_count": 12,
   "id": "2b19094b-b2d7-40ba-b8d8-5e8b552b1c7a",
   "metadata": {},
   "outputs": [
    {
     "ename": "NameError",
     "evalue": "name 'x2' is not defined",
     "output_type": "error",
     "traceback": [
      "\u001b[0;31m---------------------------------------------------------------------------\u001b[0m",
      "\u001b[0;31mNameError\u001b[0m                                 Traceback (most recent call last)",
      "Cell \u001b[0;32mIn[12], line 1\u001b[0m\n\u001b[0;32m----> 1\u001b[0m \u001b[38;5;28mprint\u001b[39m(\u001b[43mx2\u001b[49m) \u001b[38;5;66;03m# x2 only valid inside function\u001b[39;00m\n",
      "\u001b[0;31mNameError\u001b[0m: name 'x2' is not defined"
     ]
    }
   ],
   "source": [
    "print(x2) # x2 only valid inside function"
   ]
  },
  {
   "cell_type": "code",
   "execution_count": 25,
   "id": "5f8c7045-50e6-4388-9cc2-f68f38fd84ed",
   "metadata": {},
   "outputs": [
    {
     "name": "stdout",
     "output_type": "stream",
     "text": [
      "Help on function square in module __main__:\n",
      "\n",
      "square(x)\n",
      "    Function that calculates the square of a number\n",
      "\n",
      "    >>> square(3)\n",
      "    9\n",
      "\n"
     ]
    }
   ],
   "source": [
    "help(square)"
   ]
  },
  {
   "cell_type": "code",
   "execution_count": 26,
   "id": "bc8ca4ee-3520-4f6a-a6a6-616b36e63cb2",
   "metadata": {},
   "outputs": [
    {
     "data": {
      "text/plain": [
       "'\\n    Function that calculates the square of a number\\n\\n    >>> square(3)\\n    9\\n    \\n    '"
      ]
     },
     "execution_count": 26,
     "metadata": {},
     "output_type": "execute_result"
    }
   ],
   "source": [
    "square.__doc__"
   ]
  },
  {
   "cell_type": "code",
   "execution_count": 27,
   "id": "e5dfeceb-20c5-4c35-b454-b84f891614db",
   "metadata": {},
   "outputs": [
    {
     "name": "stdout",
     "output_type": "stream",
     "text": [
      "\n",
      "    Function that calculates the square of a number\n",
      "\n",
      "    >>> square(3)\n",
      "    9\n",
      "    \n",
      "    \n"
     ]
    }
   ],
   "source": [
    "print(square.__doc__)"
   ]
  },
  {
   "cell_type": "code",
   "execution_count": null,
   "id": "c66e518f-d7e4-423c-82ac-1a359460b301",
   "metadata": {},
   "outputs": [],
   "source": []
  }
 ],
 "metadata": {
  "kernelspec": {
   "display_name": "Python 3 (ipykernel)",
   "language": "python",
   "name": "python3"
  },
  "language_info": {
   "codemirror_mode": {
    "name": "ipython",
    "version": 3
   },
   "file_extension": ".py",
   "mimetype": "text/x-python",
   "name": "python",
   "nbconvert_exporter": "python",
   "pygments_lexer": "ipython3",
   "version": "3.12.1"
  }
 },
 "nbformat": 4,
 "nbformat_minor": 5
}
